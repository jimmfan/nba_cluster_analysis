{
 "cells": [
  {
   "cell_type": "code",
   "execution_count": 1,
   "metadata": {},
   "outputs": [
    {
     "data": {
      "text/html": [
       "<style>.container { width:95% !important; }</style>"
      ],
      "text/plain": [
       "<IPython.core.display.HTML object>"
      ]
     },
     "metadata": {},
     "output_type": "display_data"
    }
   ],
   "source": [
    "from IPython.core.display import display, HTML\n",
    "display(HTML(\"<style>.container { width:95% !important; }</style>\"))"
   ]
  },
  {
   "cell_type": "code",
   "execution_count": 2,
   "metadata": {},
   "outputs": [],
   "source": [
    "import plotly.graph_objs as go\n",
    "import plotly"
   ]
  },
  {
   "cell_type": "code",
   "execution_count": 3,
   "metadata": {},
   "outputs": [],
   "source": [
    "import pickle"
   ]
  },
  {
   "cell_type": "code",
   "execution_count": 4,
   "metadata": {},
   "outputs": [],
   "source": [
    "import numpy as np\n",
    "import pandas as pd\n",
    "\n",
    "from sklearn.decomposition import PCA\n",
    "\n",
    "from sklearn.metrics import accuracy_score, confusion_matrix\n",
    "from sklearn.model_selection import train_test_split\n",
    "from sklearn import svm\n",
    "\n",
    "from matplotlib import pyplot as plt\n",
    "%matplotlib inline"
   ]
  },
  {
   "cell_type": "code",
   "execution_count": 5,
   "metadata": {},
   "outputs": [],
   "source": [
    "from sklearn.cluster import DBSCAN, SpectralClustering, MeanShift\n",
    "from sklearn.preprocessing import StandardScaler\n",
    "import matplotlib.pyplot as plt\n",
    "import seaborn as sns\n",
    "import numpy as np\n",
    "from sklearn.cluster import KMeans\n",
    "\n",
    "plt.style.use(\"seaborn\")\n",
    "%matplotlib inline"
   ]
  },
  {
   "cell_type": "code",
   "execution_count": 6,
   "metadata": {},
   "outputs": [],
   "source": [
    "from scipy import stats"
   ]
  },
  {
   "cell_type": "code",
   "execution_count": 7,
   "metadata": {},
   "outputs": [],
   "source": [
    "pca_features_X = pd.read_pickle('./results/pca_results.pkl')"
   ]
  },
  {
   "cell_type": "code",
   "execution_count": 8,
   "metadata": {},
   "outputs": [
    {
     "data": {
      "text/html": [
       "<div>\n",
       "<style scoped>\n",
       "    .dataframe tbody tr th:only-of-type {\n",
       "        vertical-align: middle;\n",
       "    }\n",
       "\n",
       "    .dataframe tbody tr th {\n",
       "        vertical-align: top;\n",
       "    }\n",
       "\n",
       "    .dataframe thead th {\n",
       "        text-align: right;\n",
       "    }\n",
       "</style>\n",
       "<table border=\"1\" class=\"dataframe\">\n",
       "  <thead>\n",
       "    <tr style=\"text-align: right;\">\n",
       "      <th></th>\n",
       "      <th>0</th>\n",
       "      <th>1</th>\n",
       "      <th>2</th>\n",
       "      <th>3</th>\n",
       "      <th>4</th>\n",
       "      <th>5</th>\n",
       "      <th>6</th>\n",
       "      <th>7</th>\n",
       "      <th>8</th>\n",
       "      <th>9</th>\n",
       "      <th>...</th>\n",
       "      <th>262</th>\n",
       "      <th>263</th>\n",
       "      <th>264</th>\n",
       "      <th>265</th>\n",
       "      <th>266</th>\n",
       "      <th>267</th>\n",
       "      <th>268</th>\n",
       "      <th>269</th>\n",
       "      <th>270</th>\n",
       "      <th>271</th>\n",
       "    </tr>\n",
       "  </thead>\n",
       "  <tbody>\n",
       "    <tr>\n",
       "      <th>PC1</th>\n",
       "      <td>-2.435165</td>\n",
       "      <td>-2.815487</td>\n",
       "      <td>-2.145387</td>\n",
       "      <td>-3.032430</td>\n",
       "      <td>-3.468202</td>\n",
       "      <td>-4.170291</td>\n",
       "      <td>-2.861973</td>\n",
       "      <td>-0.393153</td>\n",
       "      <td>-0.269574</td>\n",
       "      <td>-1.631605</td>\n",
       "      <td>...</td>\n",
       "      <td>-0.282883</td>\n",
       "      <td>7.854575</td>\n",
       "      <td>-3.856169</td>\n",
       "      <td>-2.544373</td>\n",
       "      <td>-2.651356</td>\n",
       "      <td>1.152404</td>\n",
       "      <td>-2.157796</td>\n",
       "      <td>-3.051539</td>\n",
       "      <td>7.466438</td>\n",
       "      <td>4.126110</td>\n",
       "    </tr>\n",
       "    <tr>\n",
       "      <th>PC2</th>\n",
       "      <td>2.380501</td>\n",
       "      <td>1.046077</td>\n",
       "      <td>1.905219</td>\n",
       "      <td>3.325516</td>\n",
       "      <td>0.487291</td>\n",
       "      <td>1.682201</td>\n",
       "      <td>-1.342224</td>\n",
       "      <td>1.715192</td>\n",
       "      <td>-1.018790</td>\n",
       "      <td>2.597210</td>\n",
       "      <td>...</td>\n",
       "      <td>-3.235519</td>\n",
       "      <td>2.064090</td>\n",
       "      <td>1.264953</td>\n",
       "      <td>0.795751</td>\n",
       "      <td>-0.638536</td>\n",
       "      <td>-3.831546</td>\n",
       "      <td>-0.753324</td>\n",
       "      <td>-0.072915</td>\n",
       "      <td>-0.249266</td>\n",
       "      <td>-0.745623</td>\n",
       "    </tr>\n",
       "    <tr>\n",
       "      <th>PC3</th>\n",
       "      <td>-0.295581</td>\n",
       "      <td>-0.011771</td>\n",
       "      <td>1.469811</td>\n",
       "      <td>-0.951517</td>\n",
       "      <td>-0.700582</td>\n",
       "      <td>-0.915204</td>\n",
       "      <td>-1.288242</td>\n",
       "      <td>1.314347</td>\n",
       "      <td>0.018453</td>\n",
       "      <td>-0.322508</td>\n",
       "      <td>...</td>\n",
       "      <td>2.841945</td>\n",
       "      <td>-1.265062</td>\n",
       "      <td>-1.564273</td>\n",
       "      <td>1.620902</td>\n",
       "      <td>-0.485781</td>\n",
       "      <td>-2.598123</td>\n",
       "      <td>1.381284</td>\n",
       "      <td>-0.726979</td>\n",
       "      <td>-1.413570</td>\n",
       "      <td>2.179859</td>\n",
       "    </tr>\n",
       "  </tbody>\n",
       "</table>\n",
       "<p>3 rows × 272 columns</p>\n",
       "</div>"
      ],
      "text/plain": [
       "          0         1         2         3         4         5         6    \\\n",
       "PC1 -2.435165 -2.815487 -2.145387 -3.032430 -3.468202 -4.170291 -2.861973   \n",
       "PC2  2.380501  1.046077  1.905219  3.325516  0.487291  1.682201 -1.342224   \n",
       "PC3 -0.295581 -0.011771  1.469811 -0.951517 -0.700582 -0.915204 -1.288242   \n",
       "\n",
       "          7         8         9    ...       262       263       264  \\\n",
       "PC1 -0.393153 -0.269574 -1.631605  ... -0.282883  7.854575 -3.856169   \n",
       "PC2  1.715192 -1.018790  2.597210  ... -3.235519  2.064090  1.264953   \n",
       "PC3  1.314347  0.018453 -0.322508  ...  2.841945 -1.265062 -1.564273   \n",
       "\n",
       "          265       266       267       268       269       270       271  \n",
       "PC1 -2.544373 -2.651356  1.152404 -2.157796 -3.051539  7.466438  4.126110  \n",
       "PC2  0.795751 -0.638536 -3.831546 -0.753324 -0.072915 -0.249266 -0.745623  \n",
       "PC3  1.620902 -0.485781 -2.598123  1.381284 -0.726979 -1.413570  2.179859  \n",
       "\n",
       "[3 rows x 272 columns]"
      ]
     },
     "execution_count": 8,
     "metadata": {},
     "output_type": "execute_result"
    }
   ],
   "source": [
    "pca_features_X"
   ]
  },
  {
   "cell_type": "code",
   "execution_count": 9,
   "metadata": {},
   "outputs": [],
   "source": [
    "pca_labels = pd.read_pickle('./results/kmeans_results.pkl')"
   ]
  },
  {
   "cell_type": "code",
   "execution_count": 10,
   "metadata": {},
   "outputs": [
    {
     "data": {
      "text/plain": [
       "array([4, 0, 4, 4, 3, 3, 0, 4, 7, 4, 3, 4, 4, 4, 4, 7, 3, 0, 4, 4, 8, 7,\n",
       "       7, 4, 4, 7, 8, 7, 3, 8, 8, 4, 7, 9, 9, 3, 2, 0, 7, 5, 4, 0, 0, 4,\n",
       "       4, 4, 1, 0, 9, 7, 1, 4, 5, 0, 1, 0, 0, 4, 9, 3, 0, 4, 9, 1, 3, 1,\n",
       "       8, 1, 3, 0, 5, 8, 4, 0, 3, 5, 7, 7, 3, 0, 1, 1, 1, 0, 3, 3, 1, 3,\n",
       "       4, 3, 0, 0, 0, 3, 7, 3, 0, 5, 4, 3, 0, 0, 3, 7, 0, 3, 0, 0, 2, 7,\n",
       "       0, 1, 5, 3, 4, 4, 8, 3, 4, 0, 1, 2, 0, 3, 7, 9, 1, 9, 2, 8, 5, 2,\n",
       "       0, 9, 1, 0, 9, 5, 3, 4, 9, 6, 4, 7, 1, 7, 1, 9, 0, 0, 2, 0, 3, 5,\n",
       "       9, 7, 4, 8, 0, 8, 1, 9, 2, 5, 5, 6, 3, 2, 4, 5, 3, 0, 8, 5, 3, 8,\n",
       "       9, 8, 4, 5, 3, 9, 3, 1, 3, 3, 7, 2, 3, 6, 0, 2, 7, 4, 8, 0, 5, 5,\n",
       "       9, 3, 7, 2, 5, 9, 3, 5, 7, 9, 6, 5, 0, 1, 5, 7, 4, 5, 5, 2, 6, 1,\n",
       "       9, 5, 3, 6, 7, 5, 5, 4, 9, 2, 5, 0, 1, 8, 5, 3, 0, 3, 7, 7, 4, 5,\n",
       "       8, 0, 5, 9, 5, 4, 7, 2, 0, 9, 0, 8, 9, 6, 4, 2, 2, 9, 9, 7, 2, 9,\n",
       "       3, 4, 0, 5, 0, 3, 9, 1], dtype=int32)"
      ]
     },
     "execution_count": 10,
     "metadata": {},
     "output_type": "execute_result"
    }
   ],
   "source": [
    "pca_labels"
   ]
  },
  {
   "cell_type": "code",
   "execution_count": 11,
   "metadata": {},
   "outputs": [],
   "source": [
    "color_dict = {0:'cyan', 1: 'darkorange' , 2: 'green', 3:'chocolate', 4:'red', 5: 'gold', 6: 'hotpink', 7:'dodgerblue', 8:'limegreen', 9: 'blueviolet'}"
   ]
  },
  {
   "cell_type": "code",
   "execution_count": 12,
   "metadata": {},
   "outputs": [],
   "source": [
    "color_labels = [color_dict[i] for i in pca_labels]"
   ]
  },
  {
   "cell_type": "code",
   "execution_count": 13,
   "metadata": {},
   "outputs": [],
   "source": [
    "# color_labels"
   ]
  },
  {
   "cell_type": "code",
   "execution_count": 14,
   "metadata": {},
   "outputs": [],
   "source": [
    "df_data_min = pd.read_pickle('./data/df_data_added_min.pkl')"
   ]
  },
  {
   "cell_type": "code",
   "execution_count": 15,
   "metadata": {},
   "outputs": [],
   "source": [
    "players_series = df_data_min.reset_index().Player"
   ]
  },
  {
   "cell_type": "code",
   "execution_count": 16,
   "metadata": {},
   "outputs": [],
   "source": [
    "players_lst = players_series.to_list()"
   ]
  },
  {
   "cell_type": "code",
   "execution_count": 17,
   "metadata": {},
   "outputs": [
    {
     "data": {
      "text/plain": [
       "272"
      ]
     },
     "execution_count": 17,
     "metadata": {},
     "output_type": "execute_result"
    }
   ],
   "source": [
    "len(players_lst)"
   ]
  },
  {
   "cell_type": "code",
   "execution_count": 18,
   "metadata": {},
   "outputs": [
    {
     "data": {
      "text/html": [
       "<div>\n",
       "<style scoped>\n",
       "    .dataframe tbody tr th:only-of-type {\n",
       "        vertical-align: middle;\n",
       "    }\n",
       "\n",
       "    .dataframe tbody tr th {\n",
       "        vertical-align: top;\n",
       "    }\n",
       "\n",
       "    .dataframe thead th {\n",
       "        text-align: right;\n",
       "    }\n",
       "</style>\n",
       "<table border=\"1\" class=\"dataframe\">\n",
       "  <thead>\n",
       "    <tr style=\"text-align: right;\">\n",
       "      <th></th>\n",
       "      <th>0</th>\n",
       "      <th>1</th>\n",
       "      <th>2</th>\n",
       "      <th>3</th>\n",
       "      <th>4</th>\n",
       "      <th>5</th>\n",
       "      <th>6</th>\n",
       "      <th>7</th>\n",
       "      <th>8</th>\n",
       "      <th>9</th>\n",
       "      <th>...</th>\n",
       "      <th>262</th>\n",
       "      <th>263</th>\n",
       "      <th>264</th>\n",
       "      <th>265</th>\n",
       "      <th>266</th>\n",
       "      <th>267</th>\n",
       "      <th>268</th>\n",
       "      <th>269</th>\n",
       "      <th>270</th>\n",
       "      <th>271</th>\n",
       "    </tr>\n",
       "  </thead>\n",
       "  <tbody>\n",
       "    <tr>\n",
       "      <th>PC1</th>\n",
       "      <td>-2.435165</td>\n",
       "      <td>-2.815487</td>\n",
       "      <td>-2.145387</td>\n",
       "      <td>-3.032430</td>\n",
       "      <td>-3.468202</td>\n",
       "      <td>-4.170291</td>\n",
       "      <td>-2.861973</td>\n",
       "      <td>-0.393153</td>\n",
       "      <td>-0.269574</td>\n",
       "      <td>-1.631605</td>\n",
       "      <td>...</td>\n",
       "      <td>-0.282883</td>\n",
       "      <td>7.854575</td>\n",
       "      <td>-3.856169</td>\n",
       "      <td>-2.544373</td>\n",
       "      <td>-2.651356</td>\n",
       "      <td>1.152404</td>\n",
       "      <td>-2.157796</td>\n",
       "      <td>-3.051539</td>\n",
       "      <td>7.466438</td>\n",
       "      <td>4.126110</td>\n",
       "    </tr>\n",
       "    <tr>\n",
       "      <th>PC2</th>\n",
       "      <td>2.380501</td>\n",
       "      <td>1.046077</td>\n",
       "      <td>1.905219</td>\n",
       "      <td>3.325516</td>\n",
       "      <td>0.487291</td>\n",
       "      <td>1.682201</td>\n",
       "      <td>-1.342224</td>\n",
       "      <td>1.715192</td>\n",
       "      <td>-1.018790</td>\n",
       "      <td>2.597210</td>\n",
       "      <td>...</td>\n",
       "      <td>-3.235519</td>\n",
       "      <td>2.064090</td>\n",
       "      <td>1.264953</td>\n",
       "      <td>0.795751</td>\n",
       "      <td>-0.638536</td>\n",
       "      <td>-3.831546</td>\n",
       "      <td>-0.753324</td>\n",
       "      <td>-0.072915</td>\n",
       "      <td>-0.249266</td>\n",
       "      <td>-0.745623</td>\n",
       "    </tr>\n",
       "    <tr>\n",
       "      <th>PC3</th>\n",
       "      <td>-0.295581</td>\n",
       "      <td>-0.011771</td>\n",
       "      <td>1.469811</td>\n",
       "      <td>-0.951517</td>\n",
       "      <td>-0.700582</td>\n",
       "      <td>-0.915204</td>\n",
       "      <td>-1.288242</td>\n",
       "      <td>1.314347</td>\n",
       "      <td>0.018453</td>\n",
       "      <td>-0.322508</td>\n",
       "      <td>...</td>\n",
       "      <td>2.841945</td>\n",
       "      <td>-1.265062</td>\n",
       "      <td>-1.564273</td>\n",
       "      <td>1.620902</td>\n",
       "      <td>-0.485781</td>\n",
       "      <td>-2.598123</td>\n",
       "      <td>1.381284</td>\n",
       "      <td>-0.726979</td>\n",
       "      <td>-1.413570</td>\n",
       "      <td>2.179859</td>\n",
       "    </tr>\n",
       "  </tbody>\n",
       "</table>\n",
       "<p>3 rows × 272 columns</p>\n",
       "</div>"
      ],
      "text/plain": [
       "          0         1         2         3         4         5         6    \\\n",
       "PC1 -2.435165 -2.815487 -2.145387 -3.032430 -3.468202 -4.170291 -2.861973   \n",
       "PC2  2.380501  1.046077  1.905219  3.325516  0.487291  1.682201 -1.342224   \n",
       "PC3 -0.295581 -0.011771  1.469811 -0.951517 -0.700582 -0.915204 -1.288242   \n",
       "\n",
       "          7         8         9    ...       262       263       264  \\\n",
       "PC1 -0.393153 -0.269574 -1.631605  ... -0.282883  7.854575 -3.856169   \n",
       "PC2  1.715192 -1.018790  2.597210  ... -3.235519  2.064090  1.264953   \n",
       "PC3  1.314347  0.018453 -0.322508  ...  2.841945 -1.265062 -1.564273   \n",
       "\n",
       "          265       266       267       268       269       270       271  \n",
       "PC1 -2.544373 -2.651356  1.152404 -2.157796 -3.051539  7.466438  4.126110  \n",
       "PC2  0.795751 -0.638536 -3.831546 -0.753324 -0.072915 -0.249266 -0.745623  \n",
       "PC3  1.620902 -0.485781 -2.598123  1.381284 -0.726979 -1.413570  2.179859  \n",
       "\n",
       "[3 rows x 272 columns]"
      ]
     },
     "execution_count": 18,
     "metadata": {},
     "output_type": "execute_result"
    }
   ],
   "source": [
    "pca_features_X"
   ]
  },
  {
   "cell_type": "code",
   "execution_count": 19,
   "metadata": {},
   "outputs": [],
   "source": [
    "pca_features_array = pca_features_X.to_numpy()"
   ]
  },
  {
   "cell_type": "code",
   "execution_count": 20,
   "metadata": {
    "scrolled": false
   },
   "outputs": [
    {
     "data": {
      "text/plain": [
       "'temp-plot.html'"
      ]
     },
     "execution_count": 20,
     "metadata": {},
     "output_type": "execute_result"
    }
   ],
   "source": [
    "x, y, z = pca_features_array\n",
    "trace1 = go.Scatter3d(\n",
    "    hovertext=players_lst,\n",
    "    ids=players_series,\n",
    "    legendgroup=None,\n",
    "    name=None,\n",
    "    opacity=0.8,\n",
    "    x=x,\n",
    "    y=y,\n",
    "    z=z,\n",
    "    mode='markers',\n",
    "    marker=dict(\n",
    "    color=color_labels,\n",
    "    line=dict(color='black', width=1)\n",
    "        ))\n",
    "data = [trace1]\n",
    "layout = go.Layout(\n",
    "    margin=dict(\n",
    "        l=0,\n",
    "        r=0,\n",
    "        b=0,\n",
    "        t=0\n",
    "    )\n",
    ")\n",
    "fig = go.Figure(data=data, layout=layout)\n",
    "plotly.offline.plot(fig)"
   ]
  },
  {
   "cell_type": "code",
   "execution_count": 23,
   "metadata": {},
   "outputs": [],
   "source": [
    "result = pd.read_pickle('./results/player_results.pkl')"
   ]
  },
  {
   "cell_type": "code",
   "execution_count": 24,
   "metadata": {},
   "outputs": [],
   "source": [
    "df_data_min['W'] = pd.to_numeric(df_data_min['W'], errors=\"coerce\")"
   ]
  },
  {
   "cell_type": "code",
   "execution_count": 25,
   "metadata": {},
   "outputs": [],
   "source": [
    "group0, group1, group2, group3, group4, group5, group6, group7, group8, group9 = result[0], result[1], result[2], result[3], result[4], result[5], result[6], result[7], result[8], result[9]"
   ]
  },
  {
   "cell_type": "code",
   "execution_count": 26,
   "metadata": {},
   "outputs": [],
   "source": [
    "df_data_group0, df_data_group1, df_data_group2, df_data_group3, df_data_group4, df_data_group5, df_data_group6, df_data_group7, df_data_group8, df_data_group9 = [df_data_min.loc[eval('group' + str(i))] for i in range(len(result))]"
   ]
  },
  {
   "cell_type": "code",
   "execution_count": 27,
   "metadata": {},
   "outputs": [],
   "source": [
    "cols = df_data_group1.columns.to_list()[5:]"
   ]
  },
  {
   "cell_type": "code",
   "execution_count": 28,
   "metadata": {},
   "outputs": [],
   "source": [
    "group1_catch_shoot = df_data_group1['catch shoot'].to_numpy()"
   ]
  },
  {
   "cell_type": "code",
   "execution_count": 29,
   "metadata": {},
   "outputs": [],
   "source": [
    "groups_of_interest = [0, 2, 3, 7, 8]"
   ]
  },
  {
   "cell_type": "code",
   "execution_count": 30,
   "metadata": {},
   "outputs": [],
   "source": [
    "from matplotlib import pyplot"
   ]
  },
  {
   "cell_type": "code",
   "execution_count": 31,
   "metadata": {},
   "outputs": [],
   "source": [
    "def graph_groups(col_name, groups_to_include):\n",
    "    a4_dims = (11.7, 8.27)\n",
    "    fig, ax = pyplot.subplots(figsize=a4_dims)\n",
    "    graph_off_reb_AdjustedOREBChance = [sns.distplot(eval('df_data_group' + str(i))[col_name].to_numpy(), norm_hist=True, label= 'group' + str(i)) for i in groups_of_interest]\n",
    "    plt.legend()"
   ]
  },
  {
   "cell_type": "code",
   "execution_count": 32,
   "metadata": {},
   "outputs": [
    {
     "data": {
      "text/plain": [
       "['Bradley Beal',\n",
       " 'Buddy Hield',\n",
       " 'Stephen Curry',\n",
       " 'Evan Fournier',\n",
       " 'Trevor Ariza',\n",
       " 'Kyle Lowry',\n",
       " 'Joe Ingles',\n",
       " 'Otto Porter Jr.',\n",
       " 'Bojan Bogdanovic',\n",
       " 'Avery Bradley',\n",
       " 'Tim Hardaway Jr.',\n",
       " 'Jayson Tatum',\n",
       " 'Justise Winslow',\n",
       " 'Jeremy Lamb',\n",
       " \"E'Twaun Moore\",\n",
       " 'Kevin Knox',\n",
       " 'Kevin Huerter',\n",
       " 'Bogdan Bogdanovic',\n",
       " 'Gary Harris',\n",
       " 'Bryn Forbes',\n",
       " 'Eric Gordon',\n",
       " 'Tyler Johnson',\n",
       " 'Damyean Dotson',\n",
       " 'Taurean Prince',\n",
       " 'Garrett Temple',\n",
       " 'Will Barton',\n",
       " 'Gordon Hayward',\n",
       " 'Marcus Smart',\n",
       " 'Josh Hart',\n",
       " 'Austin Rivers',\n",
       " 'Kent Bazemore',\n",
       " 'Rodney McGruder',\n",
       " 'Josh Jackson',\n",
       " 'Iman Shumpert',\n",
       " 'Malik Beasley',\n",
       " 'Luke Kennard',\n",
       " 'Alec Burks',\n",
       " 'Gerald Green',\n",
       " 'Norman Powell',\n",
       " 'Seth Curry',\n",
       " 'Wayne Selden',\n",
       " 'Malik Monk',\n",
       " 'Nik Stauskas',\n",
       " 'Devin Harris']"
      ]
     },
     "execution_count": 32,
     "metadata": {},
     "output_type": "execute_result"
    }
   ],
   "source": [
    "group0"
   ]
  },
  {
   "cell_type": "code",
   "execution_count": 33,
   "metadata": {},
   "outputs": [
    {
     "data": {
      "image/png": "[encoded data removed]",
      "text/plain": [
       "<Figure size 842.4x595.44 with 1 Axes>"
      ]
     },
     "metadata": {
      "needs_background": "light"
     },
     "output_type": "display_data"
    }
   ],
   "source": [
    "graph_catch_shoot = graph_groups('catch shoot', groups_of_interest)"
   ]
  },
  {
   "cell_type": "code",
   "execution_count": 34,
   "metadata": {},
   "outputs": [
    {
     "data": {
      "image/png": "[encoded data removed]",
      "text/plain": [
       "<Figure size 842.4x595.44 with 1 Axes>"
      ]
     },
     "metadata": {
      "needs_background": "light"
     },
     "output_type": "display_data"
    }
   ],
   "source": [
    "graph_offense_isolation_freg = graph_groups('offense iso', groups_of_interest)"
   ]
  },
  {
   "cell_type": "code",
   "execution_count": 35,
   "metadata": {},
   "outputs": [
    {
     "data": {
      "image/png": "[encoded data removed]",
      "text/plain": [
       "<Figure size 842.4x595.44 with 1 Axes>"
      ]
     },
     "metadata": {
      "needs_background": "light"
     },
     "output_type": "display_data"
    }
   ],
   "source": [
    "graph_touches_postups = graph_groups('Paint touches percent', groups_of_interest)"
   ]
  },
  {
   "cell_type": "code",
   "execution_count": 36,
   "metadata": {},
   "outputs": [
    {
     "data": {
      "image/png": "[encoded data removed]",
      "text/plain": [
       "<Figure size 842.4x595.44 with 1 Axes>"
      ]
     },
     "metadata": {
      "needs_background": "light"
     },
     "output_type": "display_data"
    }
   ],
   "source": [
    "graph_off_reb_adjchance = graph_groups('offensive rebounding adjchance', groups_of_interest)"
   ]
  },
  {
   "cell_type": "code",
   "execution_count": 37,
   "metadata": {},
   "outputs": [
    {
     "data": {
      "image/png": "[encoded data removed]",
      "text/plain": [
       "<Figure size 842.4x595.44 with 1 Axes>"
      ]
     },
     "metadata": {
      "needs_background": "light"
     },
     "output_type": "display_data"
    }
   ],
   "source": [
    "graph_wins = graph_groups('W', groups_of_interest)"
   ]
  },
  {
   "cell_type": "code",
   "execution_count": 38,
   "metadata": {},
   "outputs": [],
   "source": [
    "def group_describe(df, group_number):\n",
    "    df_return = df\n",
    "    df_return = df_return.iloc[:, 5:-1].describe().loc[\"mean\"].reset_index()\n",
    "    df_return = df_return.T\n",
    "    df_return = df_return.drop('index')\n",
    "    df_return.columns = cols[:-1]\n",
    "    df_return.index = ['group' + str(group_number)]\n",
    "    return df_return\n"
   ]
  },
  {
   "cell_type": "code",
   "execution_count": 39,
   "metadata": {},
   "outputs": [],
   "source": [
    "df_group0_describe = group_describe(df_data_group0, 0)\n",
    "df_group1_describe = group_describe(df_data_group1, 1)\n",
    "df_group2_describe = group_describe(df_data_group2, 2)\n",
    "df_group3_describe = group_describe(df_data_group3, 3)\n",
    "df_group4_describe = group_describe(df_data_group4, 4)\n",
    "df_group5_describe = group_describe(df_data_group5, 5)\n",
    "df_group6_describe = group_describe(df_data_group6, 6)\n",
    "df_group7_describe = group_describe(df_data_group7, 7)\n",
    "df_group8_describe = group_describe(df_data_group8, 8)\n",
    "df_group9_describe = group_describe(df_data_group9, 9)"
   ]
  },
  {
   "cell_type": "code",
   "execution_count": 40,
   "metadata": {},
   "outputs": [],
   "source": [
    "df_mean_groups = pd.concat([df_group0_describe, df_group1_describe, df_group2_describe, df_group3_describe, df_group4_describe, df_group5_describe, df_group6_describe, df_group7_describe, df_group8_describe, df_group9_describe])"
   ]
  },
  {
   "cell_type": "code",
   "execution_count": 41,
   "metadata": {},
   "outputs": [
    {
     "data": {
      "text/html": [
       "<div>\n",
       "<style scoped>\n",
       "    .dataframe tbody tr th:only-of-type {\n",
       "        vertical-align: middle;\n",
       "    }\n",
       "\n",
       "    .dataframe tbody tr th {\n",
       "        vertical-align: top;\n",
       "    }\n",
       "\n",
       "    .dataframe thead th {\n",
       "        text-align: right;\n",
       "    }\n",
       "</style>\n",
       "<table border=\"1\" class=\"dataframe\">\n",
       "  <thead>\n",
       "    <tr style=\"text-align: right;\">\n",
       "      <th></th>\n",
       "      <th>catch shoot</th>\n",
       "      <th>fastbreak</th>\n",
       "      <th>pullup shot percent</th>\n",
       "      <th>offense iso</th>\n",
       "      <th>offense ballhandler</th>\n",
       "      <th>offense rollman</th>\n",
       "      <th>offense postup</th>\n",
       "      <th>offense spotup shot</th>\n",
       "      <th>offense hand off</th>\n",
       "      <th>offense cut</th>\n",
       "      <th>...</th>\n",
       "      <th>Average Dribbles Per Touch</th>\n",
       "      <th>Elbow touches percent</th>\n",
       "      <th>Postup touches percent</th>\n",
       "      <th>Paint touches percent</th>\n",
       "      <th>Average speed offense</th>\n",
       "      <th>Average speed defense</th>\n",
       "      <th>hustle Deflections</th>\n",
       "      <th>hustle Contested2PTShots</th>\n",
       "      <th>hustle Contested3PTShots</th>\n",
       "      <th>box_outs % Box Outs Off</th>\n",
       "    </tr>\n",
       "  </thead>\n",
       "  <tbody>\n",
       "    <tr>\n",
       "      <th>group0</th>\n",
       "      <td>0.360247</td>\n",
       "      <td>18.4841</td>\n",
       "      <td>0.305003</td>\n",
       "      <td>5.22273</td>\n",
       "      <td>20.6045</td>\n",
       "      <td>0.445455</td>\n",
       "      <td>0.929545</td>\n",
       "      <td>25.5205</td>\n",
       "      <td>9.35227</td>\n",
       "      <td>3.89091</td>\n",
       "      <td>...</td>\n",
       "      <td>2.09386</td>\n",
       "      <td>1.41938</td>\n",
       "      <td>0.461078</td>\n",
       "      <td>2.47317</td>\n",
       "      <td>4.58</td>\n",
       "      <td>3.9025</td>\n",
       "      <td>2.025</td>\n",
       "      <td>3.69545</td>\n",
       "      <td>3.49318</td>\n",
       "      <td>5.19091</td>\n",
       "    </tr>\n",
       "    <tr>\n",
       "      <th>group1</th>\n",
       "      <td>0.275424</td>\n",
       "      <td>8.03636</td>\n",
       "      <td>0.115472</td>\n",
       "      <td>4.72273</td>\n",
       "      <td>1.36818</td>\n",
       "      <td>18.6318</td>\n",
       "      <td>22.7455</td>\n",
       "      <td>13.6955</td>\n",
       "      <td>0.290909</td>\n",
       "      <td>9.32727</td>\n",
       "      <td>...</td>\n",
       "      <td>0.826818</td>\n",
       "      <td>7.06719</td>\n",
       "      <td>10.3726</td>\n",
       "      <td>11.4547</td>\n",
       "      <td>4.275</td>\n",
       "      <td>3.74409</td>\n",
       "      <td>1.76364</td>\n",
       "      <td>9.9</td>\n",
       "      <td>3.33636</td>\n",
       "      <td>15.6636</td>\n",
       "    </tr>\n",
       "    <tr>\n",
       "      <th>group2</th>\n",
       "      <td>0.588971</td>\n",
       "      <td>14.7235</td>\n",
       "      <td>0.102913</td>\n",
       "      <td>1.30588</td>\n",
       "      <td>1.7</td>\n",
       "      <td>11.0706</td>\n",
       "      <td>4.43529</td>\n",
       "      <td>40.6353</td>\n",
       "      <td>1.77059</td>\n",
       "      <td>7.55294</td>\n",
       "      <td>...</td>\n",
       "      <td>0.550588</td>\n",
       "      <td>2.58299</td>\n",
       "      <td>1.98804</td>\n",
       "      <td>4.6495</td>\n",
       "      <td>4.54765</td>\n",
       "      <td>3.78588</td>\n",
       "      <td>1.77647</td>\n",
       "      <td>7.53529</td>\n",
       "      <td>4.21176</td>\n",
       "      <td>8.41176</td>\n",
       "    </tr>\n",
       "    <tr>\n",
       "      <th>group3</th>\n",
       "      <td>0.234153</td>\n",
       "      <td>17.1525</td>\n",
       "      <td>0.364809</td>\n",
       "      <td>6.2675</td>\n",
       "      <td>33.99</td>\n",
       "      <td>0.1</td>\n",
       "      <td>0.365</td>\n",
       "      <td>19.42</td>\n",
       "      <td>6.42</td>\n",
       "      <td>3.1575</td>\n",
       "      <td>...</td>\n",
       "      <td>4.06675</td>\n",
       "      <td>0.871761</td>\n",
       "      <td>0.227691</td>\n",
       "      <td>1.54406</td>\n",
       "      <td>4.77</td>\n",
       "      <td>3.95975</td>\n",
       "      <td>2.2</td>\n",
       "      <td>3.69</td>\n",
       "      <td>3.71</td>\n",
       "      <td>4.7975</td>\n",
       "    </tr>\n",
       "    <tr>\n",
       "      <th>group4</th>\n",
       "      <td>0.165917</td>\n",
       "      <td>15.4513</td>\n",
       "      <td>0.430347</td>\n",
       "      <td>13.9538</td>\n",
       "      <td>34.659</td>\n",
       "      <td>0.220513</td>\n",
       "      <td>4.02051</td>\n",
       "      <td>12.3564</td>\n",
       "      <td>5.66667</td>\n",
       "      <td>2.51795</td>\n",
       "      <td>...</td>\n",
       "      <td>3.91385</td>\n",
       "      <td>1.39084</td>\n",
       "      <td>1.75391</td>\n",
       "      <td>2.1232</td>\n",
       "      <td>4.49077</td>\n",
       "      <td>3.67462</td>\n",
       "      <td>2.07949</td>\n",
       "      <td>3.29744</td>\n",
       "      <td>3.41795</td>\n",
       "      <td>5.81538</td>\n",
       "    </tr>\n",
       "    <tr>\n",
       "      <th>group5</th>\n",
       "      <td>0.415653</td>\n",
       "      <td>22.0742</td>\n",
       "      <td>0.138942</td>\n",
       "      <td>2.63548</td>\n",
       "      <td>8.4</td>\n",
       "      <td>0.983871</td>\n",
       "      <td>1.26774</td>\n",
       "      <td>35.1194</td>\n",
       "      <td>4.67419</td>\n",
       "      <td>8.32903</td>\n",
       "      <td>...</td>\n",
       "      <td>1.31903</td>\n",
       "      <td>1.58911</td>\n",
       "      <td>0.73285</td>\n",
       "      <td>5.42517</td>\n",
       "      <td>4.65677</td>\n",
       "      <td>4.11065</td>\n",
       "      <td>2.3129</td>\n",
       "      <td>4.89355</td>\n",
       "      <td>3.93871</td>\n",
       "      <td>9.62581</td>\n",
       "    </tr>\n",
       "    <tr>\n",
       "      <th>group6</th>\n",
       "      <td>0.136226</td>\n",
       "      <td>10.0714</td>\n",
       "      <td>0.0477146</td>\n",
       "      <td>1.78571</td>\n",
       "      <td>0.242857</td>\n",
       "      <td>18.9714</td>\n",
       "      <td>12.9143</td>\n",
       "      <td>8.77143</td>\n",
       "      <td>0</td>\n",
       "      <td>18.8429</td>\n",
       "      <td>...</td>\n",
       "      <td>0.595714</td>\n",
       "      <td>8.34196</td>\n",
       "      <td>5.49731</td>\n",
       "      <td>16.7963</td>\n",
       "      <td>4.30857</td>\n",
       "      <td>3.84286</td>\n",
       "      <td>1.91429</td>\n",
       "      <td>9.74286</td>\n",
       "      <td>3.64286</td>\n",
       "      <td>20.9714</td>\n",
       "    </tr>\n",
       "    <tr>\n",
       "      <th>group7</th>\n",
       "      <td>0.3007</td>\n",
       "      <td>17.0714</td>\n",
       "      <td>0.167376</td>\n",
       "      <td>7.18929</td>\n",
       "      <td>6.65714</td>\n",
       "      <td>6.58929</td>\n",
       "      <td>8.33214</td>\n",
       "      <td>26.4786</td>\n",
       "      <td>2.58571</td>\n",
       "      <td>9.02857</td>\n",
       "      <td>...</td>\n",
       "      <td>1.29393</td>\n",
       "      <td>2.90209</td>\n",
       "      <td>3.38498</td>\n",
       "      <td>6.21691</td>\n",
       "      <td>4.6025</td>\n",
       "      <td>3.86536</td>\n",
       "      <td>1.97857</td>\n",
       "      <td>6.04643</td>\n",
       "      <td>4.07857</td>\n",
       "      <td>10.2893</td>\n",
       "    </tr>\n",
       "    <tr>\n",
       "      <th>group8</th>\n",
       "      <td>0.531638</td>\n",
       "      <td>15.0588</td>\n",
       "      <td>0.266269</td>\n",
       "      <td>1.12353</td>\n",
       "      <td>8.60588</td>\n",
       "      <td>0.829412</td>\n",
       "      <td>1.12941</td>\n",
       "      <td>27.4882</td>\n",
       "      <td>15.4882</td>\n",
       "      <td>4.44118</td>\n",
       "      <td>...</td>\n",
       "      <td>1.09706</td>\n",
       "      <td>1.89948</td>\n",
       "      <td>0.6235</td>\n",
       "      <td>2.35193</td>\n",
       "      <td>4.74824</td>\n",
       "      <td>3.94176</td>\n",
       "      <td>1.51176</td>\n",
       "      <td>3.89412</td>\n",
       "      <td>3.52353</td>\n",
       "      <td>2.95882</td>\n",
       "    </tr>\n",
       "    <tr>\n",
       "      <th>group9</th>\n",
       "      <td>0.125575</td>\n",
       "      <td>8.51852</td>\n",
       "      <td>0.0341692</td>\n",
       "      <td>1.3963</td>\n",
       "      <td>0.0925926</td>\n",
       "      <td>22.7444</td>\n",
       "      <td>10.0556</td>\n",
       "      <td>7.3037</td>\n",
       "      <td>0.037037</td>\n",
       "      <td>22.1556</td>\n",
       "      <td>...</td>\n",
       "      <td>0.527407</td>\n",
       "      <td>9.48896</td>\n",
       "      <td>4.50366</td>\n",
       "      <td>18.8896</td>\n",
       "      <td>4.48148</td>\n",
       "      <td>3.88889</td>\n",
       "      <td>1.85556</td>\n",
       "      <td>12.0148</td>\n",
       "      <td>3.29259</td>\n",
       "      <td>19.4444</td>\n",
       "    </tr>\n",
       "  </tbody>\n",
       "</table>\n",
       "<p>10 rows × 45 columns</p>\n",
       "</div>"
      ],
      "text/plain": [
       "       catch shoot fastbreak pullup shot percent offense iso  \\\n",
       "group0    0.360247   18.4841            0.305003     5.22273   \n",
       "group1    0.275424   8.03636            0.115472     4.72273   \n",
       "group2    0.588971   14.7235            0.102913     1.30588   \n",
       "group3    0.234153   17.1525            0.364809      6.2675   \n",
       "group4    0.165917   15.4513            0.430347     13.9538   \n",
       "group5    0.415653   22.0742            0.138942     2.63548   \n",
       "group6    0.136226   10.0714           0.0477146     1.78571   \n",
       "group7      0.3007   17.0714            0.167376     7.18929   \n",
       "group8    0.531638   15.0588            0.266269     1.12353   \n",
       "group9    0.125575   8.51852           0.0341692      1.3963   \n",
       "\n",
       "       offense ballhandler offense rollman offense postup offense spotup shot  \\\n",
       "group0             20.6045        0.445455       0.929545             25.5205   \n",
       "group1             1.36818         18.6318        22.7455             13.6955   \n",
       "group2                 1.7         11.0706        4.43529             40.6353   \n",
       "group3               33.99             0.1          0.365               19.42   \n",
       "group4              34.659        0.220513        4.02051             12.3564   \n",
       "group5                 8.4        0.983871        1.26774             35.1194   \n",
       "group6            0.242857         18.9714        12.9143             8.77143   \n",
       "group7             6.65714         6.58929        8.33214             26.4786   \n",
       "group8             8.60588        0.829412        1.12941             27.4882   \n",
       "group9           0.0925926         22.7444        10.0556              7.3037   \n",
       "\n",
       "       offense hand off offense cut  ... Average Dribbles Per Touch  \\\n",
       "group0          9.35227     3.89091  ...                    2.09386   \n",
       "group1         0.290909     9.32727  ...                   0.826818   \n",
       "group2          1.77059     7.55294  ...                   0.550588   \n",
       "group3             6.42      3.1575  ...                    4.06675   \n",
       "group4          5.66667     2.51795  ...                    3.91385   \n",
       "group5          4.67419     8.32903  ...                    1.31903   \n",
       "group6                0     18.8429  ...                   0.595714   \n",
       "group7          2.58571     9.02857  ...                    1.29393   \n",
       "group8          15.4882     4.44118  ...                    1.09706   \n",
       "group9         0.037037     22.1556  ...                   0.527407   \n",
       "\n",
       "       Elbow touches percent Postup touches percent Paint touches percent  \\\n",
       "group0               1.41938               0.461078               2.47317   \n",
       "group1               7.06719                10.3726               11.4547   \n",
       "group2               2.58299                1.98804                4.6495   \n",
       "group3              0.871761               0.227691               1.54406   \n",
       "group4               1.39084                1.75391                2.1232   \n",
       "group5               1.58911                0.73285               5.42517   \n",
       "group6               8.34196                5.49731               16.7963   \n",
       "group7               2.90209                3.38498               6.21691   \n",
       "group8               1.89948                 0.6235               2.35193   \n",
       "group9               9.48896                4.50366               18.8896   \n",
       "\n",
       "       Average speed offense Average speed defense hustle Deflections  \\\n",
       "group0                  4.58                3.9025              2.025   \n",
       "group1                 4.275               3.74409            1.76364   \n",
       "group2               4.54765               3.78588            1.77647   \n",
       "group3                  4.77               3.95975                2.2   \n",
       "group4               4.49077               3.67462            2.07949   \n",
       "group5               4.65677               4.11065             2.3129   \n",
       "group6               4.30857               3.84286            1.91429   \n",
       "group7                4.6025               3.86536            1.97857   \n",
       "group8               4.74824               3.94176            1.51176   \n",
       "group9               4.48148               3.88889            1.85556   \n",
       "\n",
       "       hustle Contested2PTShots hustle Contested3PTShots  \\\n",
       "group0                  3.69545                  3.49318   \n",
       "group1                      9.9                  3.33636   \n",
       "group2                  7.53529                  4.21176   \n",
       "group3                     3.69                     3.71   \n",
       "group4                  3.29744                  3.41795   \n",
       "group5                  4.89355                  3.93871   \n",
       "group6                  9.74286                  3.64286   \n",
       "group7                  6.04643                  4.07857   \n",
       "group8                  3.89412                  3.52353   \n",
       "group9                  12.0148                  3.29259   \n",
       "\n",
       "       box_outs % Box Outs Off  \n",
       "group0                 5.19091  \n",
       "group1                 15.6636  \n",
       "group2                 8.41176  \n",
       "group3                  4.7975  \n",
       "group4                 5.81538  \n",
       "group5                 9.62581  \n",
       "group6                 20.9714  \n",
       "group7                 10.2893  \n",
       "group8                 2.95882  \n",
       "group9                 19.4444  \n",
       "\n",
       "[10 rows x 45 columns]"
      ]
     },
     "execution_count": 41,
     "metadata": {},
     "output_type": "execute_result"
    }
   ],
   "source": [
    "df_mean_groups"
   ]
  },
  {
   "cell_type": "code",
   "execution_count": 42,
   "metadata": {},
   "outputs": [],
   "source": [
    "rank_dict = {}\n",
    "for i, col in enumerate(df_mean_groups.columns.to_list()):\n",
    "    rank_dict[col] = [d for d in df_mean_groups[col].sort_values(ascending=False).index][0]"
   ]
  },
  {
   "cell_type": "code",
   "execution_count": 43,
   "metadata": {},
   "outputs": [],
   "source": [
    "rank_dict_lst = [[v,k] for k, v in rank_dict.items()]"
   ]
  },
  {
   "cell_type": "code",
   "execution_count": 44,
   "metadata": {},
   "outputs": [],
   "source": [
    "group0_decription = [l[1] for l in rank_dict_lst if l[0] == \"group0\"]\n",
    "group1_decription = [l[1] for l in rank_dict_lst if l[0] == \"group1\"]\n",
    "group2_decription = [l[1] for l in rank_dict_lst if l[0] == \"group2\"]\n",
    "group3_decription = [l[1] for l in rank_dict_lst if l[0] == \"group3\"]\n",
    "group4_decription = [l[1] for l in rank_dict_lst if l[0] == \"group4\"]\n",
    "group5_decription = [l[1] for l in rank_dict_lst if l[0] == \"group5\"]\n",
    "group6_decription = [l[1] for l in rank_dict_lst if l[0] == \"group6\"]\n",
    "group7_decription = [l[1] for l in rank_dict_lst if l[0] == \"group7\"]\n",
    "group8_decription = [l[1] for l in rank_dict_lst if l[0] == \"group8\"]\n",
    "group9_decription = [l[1] for l in rank_dict_lst if l[0] == \"group9\"]"
   ]
  },
  {
   "cell_type": "code",
   "execution_count": 45,
   "metadata": {},
   "outputs": [],
   "source": [
    "rank_dict_2nd = {}\n",
    "for i, col in enumerate(df_mean_groups.columns.to_list()):\n",
    "    rank_dict_2nd[col] = [d for d in df_mean_groups[col].sort_values(ascending=False).index][1]"
   ]
  },
  {
   "cell_type": "code",
   "execution_count": 46,
   "metadata": {},
   "outputs": [],
   "source": [
    "rank_2nd_lst = [[v,k] for k, v in rank_dict_2nd.items()]\n",
    "rank_2nd_lst.sort()"
   ]
  },
  {
   "cell_type": "code",
   "execution_count": 47,
   "metadata": {},
   "outputs": [],
   "source": [
    "group0_second_descr = [l[1] for l in rank_2nd_lst if l[0] == \"group0\"]\n",
    "group1_second_descr = [l[1] for l in rank_2nd_lst if l[0] == \"group1\"]\n",
    "group2_second_descr = [l[1] for l in rank_2nd_lst if l[0] == \"group2\"]\n",
    "group3_second_descr = [l[1] for l in rank_2nd_lst if l[0] == \"group3\"]\n",
    "group4_second_descr = [l[1] for l in rank_2nd_lst if l[0] == \"group4\"]\n",
    "group5_second_descr = [l[1] for l in rank_2nd_lst if l[0] == \"group5\"]\n",
    "group6_second_descr = [l[1] for l in rank_2nd_lst if l[0] == \"group6\"]\n",
    "group7_second_descr = [l[1] for l in rank_2nd_lst if l[0] == \"group7\"]\n",
    "group8_second_descr = [l[1] for l in rank_2nd_lst if l[0] == \"group8\"]\n",
    "group9_second_descr = [l[1] for l in rank_2nd_lst if l[0] == \"group9\"]"
   ]
  },
  {
   "cell_type": "code",
   "execution_count": 48,
   "metadata": {},
   "outputs": [
    {
     "data": {
      "text/plain": [
       "['Average speed offense', 'catch shoot', 'defensive rebounding distance']"
      ]
     },
     "execution_count": 48,
     "metadata": {},
     "output_type": "execute_result"
    }
   ],
   "source": [
    "group8_second_descr"
   ]
  },
  {
   "cell_type": "code",
   "execution_count": 49,
   "metadata": {},
   "outputs": [],
   "source": [
    "cluster_dictionary = {}"
   ]
  },
  {
   "cell_type": "code",
   "execution_count": 50,
   "metadata": {},
   "outputs": [],
   "source": [
    "cluster_dictionary['group0'] = {1: group0_decription, 2: group0_second_descr}"
   ]
  },
  {
   "cell_type": "code",
   "execution_count": 51,
   "metadata": {},
   "outputs": [],
   "source": [
    "cluster_dictionary['group1'] = {1: group1_decription, 2: group1_second_descr}"
   ]
  },
  {
   "cell_type": "code",
   "execution_count": 52,
   "metadata": {},
   "outputs": [],
   "source": [
    "cluster_dictionary['group2'] = {1: group2_decription, 2: group2_second_descr}"
   ]
  },
  {
   "cell_type": "code",
   "execution_count": 53,
   "metadata": {},
   "outputs": [],
   "source": [
    "cluster_dictionary['group3'] = {1: group3_decription, 2: group3_second_descr}"
   ]
  },
  {
   "cell_type": "code",
   "execution_count": 54,
   "metadata": {},
   "outputs": [],
   "source": [
    "cluster_dictionary['group4'] = {1: group4_decription, 2: group4_second_descr}"
   ]
  },
  {
   "cell_type": "code",
   "execution_count": 55,
   "metadata": {},
   "outputs": [],
   "source": [
    "cluster_dictionary['group5'] = {1: group5_decription, 2: group5_second_descr}"
   ]
  },
  {
   "cell_type": "code",
   "execution_count": 56,
   "metadata": {},
   "outputs": [],
   "source": [
    "cluster_dictionary['group6'] = {1: group6_decription, 2: group6_second_descr}"
   ]
  },
  {
   "cell_type": "code",
   "execution_count": 57,
   "metadata": {},
   "outputs": [],
   "source": [
    "cluster_dictionary['group7'] = {1: group7_decription, 2: group7_second_descr}"
   ]
  },
  {
   "cell_type": "code",
   "execution_count": 58,
   "metadata": {},
   "outputs": [],
   "source": [
    "cluster_dictionary['group8'] = {1: group8_decription, 2: group8_second_descr}"
   ]
  },
  {
   "cell_type": "code",
   "execution_count": 59,
   "metadata": {},
   "outputs": [],
   "source": [
    "cluster_dictionary['group9'] = {1: group9_decription, 2: group9_second_descr}"
   ]
  },
  {
   "cell_type": "code",
   "execution_count": 79,
   "metadata": {},
   "outputs": [
    {
     "data": {
      "text/plain": [
       "['defensive handoff freq',\n",
       " 'defensive offscreen freq',\n",
       " 'defensive offscreen shot freq',\n",
       " 'defensive postup shot freq',\n",
       " 'fastbreak',\n",
       " 'offense hand off',\n",
       " 'offense offscreen']"
      ]
     },
     "execution_count": 79,
     "metadata": {},
     "output_type": "execute_result"
    }
   ],
   "source": [
    "cluster_dictionary['group0'][1]\n",
    "cluster_dictionary['group0'][2]"
   ]
  },
  {
   "cell_type": "code",
   "execution_count": 61,
   "metadata": {},
   "outputs": [
    {
     "data": {
      "text/plain": [
       "['Bradley Beal',\n",
       " 'Buddy Hield',\n",
       " 'Stephen Curry',\n",
       " 'Evan Fournier',\n",
       " 'Trevor Ariza',\n",
       " 'Kyle Lowry',\n",
       " 'Joe Ingles',\n",
       " 'Otto Porter Jr.',\n",
       " 'Bojan Bogdanovic',\n",
       " 'Avery Bradley']"
      ]
     },
     "execution_count": 61,
     "metadata": {},
     "output_type": "execute_result"
    }
   ],
   "source": [
    "group0[:10]"
   ]
  },
  {
   "cell_type": "code",
   "execution_count": 62,
   "metadata": {},
   "outputs": [
    {
     "data": {
      "text/plain": [
       "(['offense postup', 'Postup touches percent'],\n",
       " ['hustle Contested2PTShots', 'offensive rebounding adjchance'])"
      ]
     },
     "execution_count": 62,
     "metadata": {},
     "output_type": "execute_result"
    }
   ],
   "source": [
    "cluster_dictionary['group1'][1], cluster_dictionary['group1'][2]"
   ]
  },
  {
   "cell_type": "code",
   "execution_count": 63,
   "metadata": {},
   "outputs": [
    {
     "data": {
      "text/plain": [
       "['Karl-Anthony Towns',\n",
       " 'LaMarcus Aldridge',\n",
       " 'Joel Embiid',\n",
       " 'Thaddeus Young',\n",
       " 'Blake Griffin',\n",
       " 'Anthony Davis',\n",
       " 'Nikola Jokic',\n",
       " 'Julius Randle',\n",
       " 'Nikola Vucevic',\n",
       " 'Deandre Ayton',\n",
       " 'Myles Turner',\n",
       " 'Al Horford',\n",
       " 'Marc Gasol',\n",
       " 'Marvin Bagley III',\n",
       " 'Jaren Jackson Jr.',\n",
       " 'Serge Ibaka',\n",
       " 'Bobby Portis',\n",
       " 'Enes Kanter',\n",
       " 'Jonas Valanciunas',\n",
       " 'Robin Lopez',\n",
       " 'Markieff Morris',\n",
       " 'Gorgui Dieng']"
      ]
     },
     "execution_count": 63,
     "metadata": {},
     "output_type": "execute_result"
    }
   ],
   "source": [
    "group1"
   ]
  },
  {
   "cell_type": "code",
   "execution_count": 64,
   "metadata": {},
   "outputs": [
    {
     "data": {
      "text/plain": [
       "'Primary ballhander/ballhog'"
      ]
     },
     "execution_count": 64,
     "metadata": {},
     "output_type": "execute_result"
    }
   ],
   "source": [
    "'Primary ballhander/ballhog'"
   ]
  },
  {
   "cell_type": "code",
   "execution_count": 65,
   "metadata": {},
   "outputs": [
    {
     "data": {
      "text/plain": [
       "['catch shoot',\n",
       " 'offense spotup shot',\n",
       " 'wide open shot',\n",
       " 'defensive isolation freq',\n",
       " 'defensive postup freq',\n",
       " 'hustle Contested3PTShots']"
      ]
     },
     "execution_count": 65,
     "metadata": {},
     "output_type": "execute_result"
    }
   ],
   "source": [
    "cluster_dictionary['group2'][1]"
   ]
  },
  {
   "cell_type": "code",
   "execution_count": 66,
   "metadata": {},
   "outputs": [
    {
     "data": {
      "text/plain": [
       "'away from 3-point line, away from the basket'"
      ]
     },
     "execution_count": 66,
     "metadata": {},
     "output_type": "execute_result"
    }
   ],
   "source": [
    "'away from 3-point line, away from the basket'"
   ]
  },
  {
   "cell_type": "code",
   "execution_count": 67,
   "metadata": {},
   "outputs": [
    {
     "data": {
      "text/plain": [
       "(['defensive rebounding distance',\n",
       "  'defensive ball_handler freq',\n",
       "  'Average Dribbles Per Touch',\n",
       "  'Average speed offense'],\n",
       " ['Average Seconds Per Touch',\n",
       "  'Average speed defense',\n",
       "  'hustle Deflections',\n",
       "  'offense ballhandler',\n",
       "  'offensive rebounding distance',\n",
       "  'pullup shot percent'])"
      ]
     },
     "execution_count": 67,
     "metadata": {},
     "output_type": "execute_result"
    }
   ],
   "source": [
    "cluster_dictionary['group3'][1], cluster_dictionary['group3'][2]"
   ]
  },
  {
   "cell_type": "code",
   "execution_count": 68,
   "metadata": {},
   "outputs": [
    {
     "data": {
      "text/plain": [
       "['Josh Richardson',\n",
       " 'CJ McCollum',\n",
       " 'Mike Conley',\n",
       " 'Jamal Murray',\n",
       " \"De'Aaron Fox\",\n",
       " 'Trae Young',\n",
       " 'Cedi Osman',\n",
       " 'Elfrid Payton',\n",
       " 'Kris Dunn',\n",
       " 'Dennis Schroder',\n",
       " 'Eric Bledsoe',\n",
       " 'Malcolm Brogdon',\n",
       " 'Tomas Satoransky',\n",
       " 'Patrick Beverley',\n",
       " 'Dennis Smith Jr.',\n",
       " 'Emmanuel Mudiay',\n",
       " 'Fred VanVleet',\n",
       " 'Ricky Rubio',\n",
       " 'Shai Gilgeous-Alexander',\n",
       " 'Darren Collison',\n",
       " 'Reggie Jackson',\n",
       " 'D.J. Augustin',\n",
       " 'Cory Joseph',\n",
       " 'Derrick White',\n",
       " 'Ryan Arcidiacono',\n",
       " 'Patty Mills',\n",
       " 'Monte Morris',\n",
       " 'Delon Wright',\n",
       " 'Ish Smith',\n",
       " 'Terry Rozier',\n",
       " 'Tyus Jones',\n",
       " 'Shelvin Mack',\n",
       " 'Jalen Brunson',\n",
       " 'George Hill',\n",
       " 'T.J. McConnell',\n",
       " 'Jeremy Lin',\n",
       " 'Tim Frazier',\n",
       " 'Jonathon Simmons',\n",
       " 'Yogi Ferrell',\n",
       " 'Quinn Cook']"
      ]
     },
     "execution_count": 68,
     "metadata": {},
     "output_type": "execute_result"
    }
   ],
   "source": [
    "group3"
   ]
  },
  {
   "cell_type": "code",
   "execution_count": 69,
   "metadata": {
    "scrolled": true
   },
   "outputs": [
    {
     "data": {
      "text/plain": [
       "(['pullup shot percent',\n",
       "  'offense iso',\n",
       "  'offense ballhandler',\n",
       "  'Average Seconds Per Touch'],\n",
       " ['Average Dribbles Per Touch',\n",
       "  'defensive ball_handler freq',\n",
       "  'defensive rebounding adjchance',\n",
       "  'open shot'])"
      ]
     },
     "execution_count": 69,
     "metadata": {},
     "output_type": "execute_result"
    }
   ],
   "source": [
    "cluster_dictionary['group4'][1], cluster_dictionary['group4'][2]"
   ]
  },
  {
   "cell_type": "code",
   "execution_count": 70,
   "metadata": {},
   "outputs": [
    {
     "data": {
      "text/plain": [
       "['Jrue Holiday',\n",
       " 'Paul George',\n",
       " 'Zach LaVine',\n",
       " 'Tobias Harris',\n",
       " 'Brandon Ingram',\n",
       " 'Jimmy Butler',\n",
       " 'Devin Booker',\n",
       " 'Kawhi Leonard',\n",
       " 'DeMar DeRozan',\n",
       " 'Kemba Walker',\n",
       " 'Russell Westbrook',\n",
       " 'Damian Lillard',\n",
       " 'Andrew Wiggins',\n",
       " 'Donovan Mitchell',\n",
       " 'Kyrie Irving',\n",
       " 'Kevin Durant',\n",
       " 'LeBron James',\n",
       " 'James Harden',\n",
       " 'Khris Middleton',\n",
       " 'Luka Doncic',\n",
       " 'Collin Sexton',\n",
       " \"D'Angelo Russell\",\n",
       " 'Chris Paul',\n",
       " 'Rajon Rondo',\n",
       " 'Jordan Clarkson',\n",
       " 'Spencer Dinwiddie',\n",
       " 'Derrick Rose',\n",
       " 'Jeff Teague',\n",
       " 'Rodney Hood',\n",
       " 'Lou Williams',\n",
       " 'Dwyane Wade',\n",
       " 'Dion Waiters',\n",
       " 'Allonzo Trier',\n",
       " 'Evan Turner',\n",
       " 'Trey Burke',\n",
       " 'Tyreke Evans',\n",
       " 'Tony Parker',\n",
       " 'Jamal Crawford',\n",
       " 'Lance Stephenson']"
      ]
     },
     "execution_count": 70,
     "metadata": {},
     "output_type": "execute_result"
    }
   ],
   "source": [
    "group4"
   ]
  },
  {
   "cell_type": "code",
   "execution_count": 71,
   "metadata": {},
   "outputs": [
    {
     "data": {
      "text/plain": [
       "(['fastbreak',\n",
       "  'defensive postup shot freq',\n",
       "  'defensive shot freq',\n",
       "  'Average speed defense',\n",
       "  'hustle Deflections'],\n",
       " ['defensive isolation shot freq', 'offense spotup shot', 'wide open shot'])"
      ]
     },
     "execution_count": 71,
     "metadata": {},
     "output_type": "execute_result"
    }
   ],
   "source": [
    "cluster_dictionary['group5'][1], cluster_dictionary['group5'][2]"
   ]
  },
  {
   "cell_type": "code",
   "execution_count": 72,
   "metadata": {},
   "outputs": [
    {
     "data": {
      "text/plain": [
       "(['offense platype misc',\n",
       "  'offense misc',\n",
       "  'closely contested shot',\n",
       "  'defensive ball_handler shot freq',\n",
       "  'defensive spotup shot freq',\n",
       "  'box_outs % Box Outs Off'],\n",
       " ['Elbow touches percent',\n",
       "  'Paint touches percent',\n",
       "  'Postup touches percent',\n",
       "  'contested shot',\n",
       "  'defensive shot freq',\n",
       "  'offense cut',\n",
       "  'offense postup',\n",
       "  'offense rollman'])"
      ]
     },
     "execution_count": 72,
     "metadata": {},
     "output_type": "execute_result"
    }
   ],
   "source": [
    "cluster_dictionary['group6'][1], cluster_dictionary['group6'][2]"
   ]
  },
  {
   "cell_type": "code",
   "execution_count": 73,
   "metadata": {},
   "outputs": [
    {
     "data": {
      "text/plain": [
       "['DeAndre Jordan',\n",
       " 'Montrezl Harrell',\n",
       " 'Bam Adebayo',\n",
       " 'JaMychal Green',\n",
       " 'Mason Plumlee',\n",
       " 'Mitchell Robinson',\n",
       " 'Zach Collins']"
      ]
     },
     "execution_count": 73,
     "metadata": {},
     "output_type": "execute_result"
    }
   ],
   "source": [
    "group6"
   ]
  },
  {
   "cell_type": "code",
   "execution_count": 74,
   "metadata": {
    "scrolled": false
   },
   "outputs": [
    {
     "data": {
      "text/plain": [
       "(['defensive rebounding adjchance',\n",
       "  'defensive spotup freq',\n",
       "  'defensive offscreen shot freq'],\n",
       " ['defensive ball_handler shot freq',\n",
       "  'defensive isolation freq',\n",
       "  'defensive spotup shot freq',\n",
       "  'hustle Contested3PTShots',\n",
       "  'offense iso'])"
      ]
     },
     "execution_count": 74,
     "metadata": {},
     "output_type": "execute_result"
    }
   ],
   "source": [
    "cluster_dictionary['group7'][1], cluster_dictionary['group7'][2]"
   ]
  },
  {
   "cell_type": "code",
   "execution_count": 75,
   "metadata": {},
   "outputs": [
    {
     "data": {
      "text/plain": [
       "(['offense hand off',\n",
       "  'offense offscreen',\n",
       "  'open shot',\n",
       "  'offensive rebounding distance',\n",
       "  'defensive handoff freq',\n",
       "  'defensive offscreen freq'],\n",
       " ['Average speed offense', 'catch shoot', 'defensive rebounding distance'])"
      ]
     },
     "execution_count": 75,
     "metadata": {},
     "output_type": "execute_result"
    }
   ],
   "source": [
    "cluster_dictionary['group8'][1], cluster_dictionary['group8'][2]"
   ]
  },
  {
   "cell_type": "code",
   "execution_count": 76,
   "metadata": {},
   "outputs": [
    {
     "data": {
      "text/plain": [
       "['Klay Thompson',\n",
       " 'JJ Redick',\n",
       " 'Justin Holiday',\n",
       " 'Joe Harris',\n",
       " 'Reggie Bullock',\n",
       " 'Wesley Matthews',\n",
       " 'Terrence Ross',\n",
       " 'Allen Crabbe',\n",
       " 'Kentavious Caldwell-Pope',\n",
       " 'Landry Shamet',\n",
       " 'Wayne Ellington',\n",
       " 'Marco Belinelli',\n",
       " 'Darius Miller',\n",
       " 'Langston Galloway',\n",
       " 'Kyle Korver',\n",
       " 'Doug McDermott',\n",
       " 'Tony Snell']"
      ]
     },
     "execution_count": 76,
     "metadata": {},
     "output_type": "execute_result"
    }
   ],
   "source": [
    "group8"
   ]
  },
  {
   "cell_type": "code",
   "execution_count": 77,
   "metadata": {},
   "outputs": [
    {
     "data": {
      "text/plain": [
       "(['offense rollman',\n",
       "  'offense cut',\n",
       "  'contested shot',\n",
       "  'offensive rebounding adjchance',\n",
       "  'passes made over passes received percent',\n",
       "  'Elbow touches percent',\n",
       "  'Paint touches percent',\n",
       "  'hustle Contested2PTShots'],\n",
       " ['box_outs % Box Outs Off',\n",
       "  'closely contested shot',\n",
       "  'defensive postup freq',\n",
       "  'offense misc',\n",
       "  'offense platype misc'])"
      ]
     },
     "execution_count": 77,
     "metadata": {},
     "output_type": "execute_result"
    }
   ],
   "source": [
    "cluster_dictionary['group9'][1], cluster_dictionary['group9'][2]"
   ]
  },
  {
   "cell_type": "code",
   "execution_count": 78,
   "metadata": {},
   "outputs": [
    {
     "data": {
      "text/plain": [
       "['Steven Adams',\n",
       " 'Clint Capela',\n",
       " 'Rudy Gobert',\n",
       " 'Andre Drummond',\n",
       " 'John Collins',\n",
       " 'Willie Cauley-Stein',\n",
       " 'Tristan Thompson',\n",
       " 'Jusuf Nurkic',\n",
       " 'Cody Zeller',\n",
       " 'Jarrett Allen',\n",
       " 'Larry Nance Jr.',\n",
       " 'Wendell Carter Jr.',\n",
       " 'Domantas Sabonis',\n",
       " 'Taj Gibson',\n",
       " 'Derrick Favors',\n",
       " 'Dwight Powell',\n",
       " 'JaVale McGee',\n",
       " 'Hassan Whiteside',\n",
       " 'Thomas Bryant',\n",
       " 'Alex Len',\n",
       " 'Kevon Looney',\n",
       " 'Ed Davis',\n",
       " 'Ivica Zubac',\n",
       " 'Jakob Poeltl',\n",
       " 'Ante Zizic',\n",
       " 'Richaun Holmes',\n",
       " 'Nerlens Noel']"
      ]
     },
     "execution_count": 78,
     "metadata": {},
     "output_type": "execute_result"
    }
   ],
   "source": [
    "group9"
   ]
  },
  {
   "cell_type": "code",
   "execution_count": null,
   "metadata": {},
   "outputs": [],
   "source": []
  },
  {
   "cell_type": "code",
   "execution_count": null,
   "metadata": {},
   "outputs": [],
   "source": []
  }
 ],
 "metadata": {
  "kernelspec": {
   "display_name": "Python 3",
   "language": "python",
   "name": "python3"
  },
  "language_info": {
   "codemirror_mode": {
    "name": "ipython",
    "version": 3
   },
   "file_extension": ".py",
   "mimetype": "text/x-python",
   "name": "python",
   "nbconvert_exporter": "python",
   "pygments_lexer": "ipython3",
   "version": "3.7.3"
  }
 },
 "nbformat": 4,
 "nbformat_minor": 2
}
