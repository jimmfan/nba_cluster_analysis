{
 "cells": [
  {
   "cell_type": "code",
   "execution_count": 1,
   "metadata": {},
   "outputs": [
    {
     "data": {
      "text/html": [
       "<style>.container { width:95% !important; }</style>"
      ],
      "text/plain": [
       "<IPython.core.display.HTML object>"
      ]
     },
     "metadata": {},
     "output_type": "display_data"
    }
   ],
   "source": [
    "from IPython.core.display import display, HTML\n",
    "display(HTML(\"<style>.container { width:95% !important; }</style>\"))"
   ]
  },
  {
   "cell_type": "code",
   "execution_count": 2,
   "metadata": {},
   "outputs": [],
   "source": [
    "import plotly.graph_objs as go\n",
    "import plotly"
   ]
  },
  {
   "cell_type": "code",
   "execution_count": 3,
   "metadata": {},
   "outputs": [],
   "source": [
    "import pickle"
   ]
  },
  {
   "cell_type": "code",
   "execution_count": 4,
   "metadata": {},
   "outputs": [],
   "source": [
    "import numpy as np\n",
    "import pandas as pd\n",
    "\n",
    "from sklearn.decomposition import PCA\n",
    "\n",
    "from sklearn.metrics import accuracy_score, confusion_matrix\n",
    "from sklearn.model_selection import train_test_split\n",
    "from sklearn import svm\n",
    "\n",
    "from matplotlib import pyplot as plt\n",
    "%matplotlib inline"
   ]
  },
  {
   "cell_type": "code",
   "execution_count": 5,
   "metadata": {},
   "outputs": [],
   "source": [
    "from sklearn.cluster import DBSCAN, SpectralClustering, MeanShift\n",
    "from sklearn.preprocessing import StandardScaler\n",
    "import matplotlib.pyplot as plt\n",
    "import seaborn as sns\n",
    "import numpy as np\n",
    "from sklearn.cluster import KMeans\n",
    "\n",
    "plt.style.use(\"seaborn\")\n",
    "%matplotlib inline"
   ]
  },
  {
   "cell_type": "code",
   "execution_count": 6,
   "metadata": {},
   "outputs": [],
   "source": [
    "from scipy import stats"
   ]
  },
  {
   "cell_type": "code",
   "execution_count": 7,
   "metadata": {},
   "outputs": [],
   "source": [
    "pca_features_X = pd.read_pickle('./results/pca_results.pkl')"
   ]
  },
  {
   "cell_type": "code",
   "execution_count": 8,
   "metadata": {},
   "outputs": [
    {
     "data": {
      "text/html": [
       "<div>\n",
       "<style scoped>\n",
       "    .dataframe tbody tr th:only-of-type {\n",
       "        vertical-align: middle;\n",
       "    }\n",
       "\n",
       "    .dataframe tbody tr th {\n",
       "        vertical-align: top;\n",
       "    }\n",
       "\n",
       "    .dataframe thead th {\n",
       "        text-align: right;\n",
       "    }\n",
       "</style>\n",
       "<table border=\"1\" class=\"dataframe\">\n",
       "  <thead>\n",
       "    <tr style=\"text-align: right;\">\n",
       "      <th></th>\n",
       "      <th>0</th>\n",
       "      <th>1</th>\n",
       "      <th>2</th>\n",
       "      <th>3</th>\n",
       "      <th>4</th>\n",
       "      <th>5</th>\n",
       "      <th>6</th>\n",
       "      <th>7</th>\n",
       "      <th>8</th>\n",
       "      <th>9</th>\n",
       "      <th>...</th>\n",
       "      <th>262</th>\n",
       "      <th>263</th>\n",
       "      <th>264</th>\n",
       "      <th>265</th>\n",
       "      <th>266</th>\n",
       "      <th>267</th>\n",
       "      <th>268</th>\n",
       "      <th>269</th>\n",
       "      <th>270</th>\n",
       "      <th>271</th>\n",
       "    </tr>\n",
       "  </thead>\n",
       "  <tbody>\n",
       "    <tr>\n",
       "      <th>PC1</th>\n",
       "      <td>-2.435165</td>\n",
       "      <td>-2.815487</td>\n",
       "      <td>-2.145387</td>\n",
       "      <td>-3.032430</td>\n",
       "      <td>-3.468202</td>\n",
       "      <td>-4.170291</td>\n",
       "      <td>-2.861973</td>\n",
       "      <td>-0.393153</td>\n",
       "      <td>-0.269574</td>\n",
       "      <td>-1.631605</td>\n",
       "      <td>...</td>\n",
       "      <td>-0.282883</td>\n",
       "      <td>7.854575</td>\n",
       "      <td>-3.856169</td>\n",
       "      <td>-2.544373</td>\n",
       "      <td>-2.651356</td>\n",
       "      <td>1.152404</td>\n",
       "      <td>-2.157796</td>\n",
       "      <td>-3.051539</td>\n",
       "      <td>7.466438</td>\n",
       "      <td>4.126110</td>\n",
       "    </tr>\n",
       "    <tr>\n",
       "      <th>PC2</th>\n",
       "      <td>2.380501</td>\n",
       "      <td>1.046077</td>\n",
       "      <td>1.905219</td>\n",
       "      <td>3.325516</td>\n",
       "      <td>0.487291</td>\n",
       "      <td>1.682201</td>\n",
       "      <td>-1.342224</td>\n",
       "      <td>1.715192</td>\n",
       "      <td>-1.018790</td>\n",
       "      <td>2.597210</td>\n",
       "      <td>...</td>\n",
       "      <td>-3.235519</td>\n",
       "      <td>2.064090</td>\n",
       "      <td>1.264953</td>\n",
       "      <td>0.795751</td>\n",
       "      <td>-0.638536</td>\n",
       "      <td>-3.831546</td>\n",
       "      <td>-0.753324</td>\n",
       "      <td>-0.072915</td>\n",
       "      <td>-0.249266</td>\n",
       "      <td>-0.745623</td>\n",
       "    </tr>\n",
       "    <tr>\n",
       "      <th>PC3</th>\n",
       "      <td>-0.295581</td>\n",
       "      <td>-0.011771</td>\n",
       "      <td>1.469811</td>\n",
       "      <td>-0.951517</td>\n",
       "      <td>-0.700582</td>\n",
       "      <td>-0.915204</td>\n",
       "      <td>-1.288242</td>\n",
       "      <td>1.314347</td>\n",
       "      <td>0.018453</td>\n",
       "      <td>-0.322508</td>\n",
       "      <td>...</td>\n",
       "      <td>2.841945</td>\n",
       "      <td>-1.265062</td>\n",
       "      <td>-1.564273</td>\n",
       "      <td>1.620902</td>\n",
       "      <td>-0.485781</td>\n",
       "      <td>-2.598123</td>\n",
       "      <td>1.381284</td>\n",
       "      <td>-0.726979</td>\n",
       "      <td>-1.413570</td>\n",
       "      <td>2.179859</td>\n",
       "    </tr>\n",
       "  </tbody>\n",
       "</table>\n",
       "<p>3 rows × 272 columns</p>\n",
       "</div>"
      ],
      "text/plain": [
       "          0         1         2         3         4         5         6    \\\n",
       "PC1 -2.435165 -2.815487 -2.145387 -3.032430 -3.468202 -4.170291 -2.861973   \n",
       "PC2  2.380501  1.046077  1.905219  3.325516  0.487291  1.682201 -1.342224   \n",
       "PC3 -0.295581 -0.011771  1.469811 -0.951517 -0.700582 -0.915204 -1.288242   \n",
       "\n",
       "          7         8         9    ...       262       263       264  \\\n",
       "PC1 -0.393153 -0.269574 -1.631605  ... -0.282883  7.854575 -3.856169   \n",
       "PC2  1.715192 -1.018790  2.597210  ... -3.235519  2.064090  1.264953   \n",
       "PC3  1.314347  0.018453 -0.322508  ...  2.841945 -1.265062 -1.564273   \n",
       "\n",
       "          265       266       267       268       269       270       271  \n",
       "PC1 -2.544373 -2.651356  1.152404 -2.157796 -3.051539  7.466438  4.126110  \n",
       "PC2  0.795751 -0.638536 -3.831546 -0.753324 -0.072915 -0.249266 -0.745623  \n",
       "PC3  1.620902 -0.485781 -2.598123  1.381284 -0.726979 -1.413570  2.179859  \n",
       "\n",
       "[3 rows x 272 columns]"
      ]
     },
     "execution_count": 8,
     "metadata": {},
     "output_type": "execute_result"
    }
   ],
   "source": [
    "pca_features_X"
   ]
  },
  {
   "cell_type": "code",
   "execution_count": 11,
   "metadata": {},
   "outputs": [],
   "source": [
    "pca_labels = pd.read_pickle('./results/kmeans_results.pkl')"
   ]
  },
  {
   "cell_type": "code",
   "execution_count": 12,
   "metadata": {},
   "outputs": [
    {
     "data": {
      "text/plain": [
       "array([4, 0, 4, 4, 3, 3, 0, 4, 7, 4, 3, 4, 4, 4, 4, 7, 3, 0, 4, 4, 8, 7,\n",
       "       7, 4, 4, 7, 8, 7, 3, 8, 8, 4, 7, 9, 9, 3, 2, 0, 7, 5, 4, 0, 0, 4,\n",
       "       4, 4, 1, 0, 9, 7, 1, 4, 5, 0, 1, 0, 0, 4, 9, 3, 0, 4, 9, 1, 3, 1,\n",
       "       8, 1, 3, 0, 5, 8, 4, 0, 3, 5, 7, 7, 3, 0, 1, 1, 1, 0, 3, 3, 1, 3,\n",
       "       4, 3, 0, 0, 0, 3, 7, 3, 0, 5, 4, 3, 0, 0, 3, 7, 0, 3, 0, 0, 2, 7,\n",
       "       0, 1, 5, 3, 4, 4, 8, 3, 4, 0, 1, 2, 0, 3, 7, 9, 1, 9, 2, 8, 5, 2,\n",
       "       0, 9, 1, 0, 9, 5, 3, 4, 9, 6, 4, 7, 1, 7, 1, 9, 0, 0, 2, 0, 3, 5,\n",
       "       9, 7, 4, 8, 0, 8, 1, 9, 2, 5, 5, 6, 3, 2, 4, 5, 3, 0, 8, 5, 3, 8,\n",
       "       9, 8, 4, 5, 3, 9, 3, 1, 3, 3, 7, 2, 3, 6, 0, 2, 7, 4, 8, 0, 5, 5,\n",
       "       9, 3, 7, 2, 5, 9, 3, 5, 7, 9, 6, 5, 0, 1, 5, 7, 4, 5, 5, 2, 6, 1,\n",
       "       9, 5, 3, 6, 7, 5, 5, 4, 9, 2, 5, 0, 1, 8, 5, 3, 0, 3, 7, 7, 4, 5,\n",
       "       8, 0, 5, 9, 5, 4, 7, 2, 0, 9, 0, 8, 9, 6, 4, 2, 2, 9, 9, 7, 2, 9,\n",
       "       3, 4, 0, 5, 0, 3, 9, 1], dtype=int32)"
      ]
     },
     "execution_count": 12,
     "metadata": {},
     "output_type": "execute_result"
    }
   ],
   "source": [
    "pca_labels"
   ]
  },
  {
   "cell_type": "code",
   "execution_count": 23,
   "metadata": {},
   "outputs": [],
   "source": [
    "color_dict = {0:'cyan', 1: 'darkorange' , 2: 'green', 3:'chocolate', 4:'red', 5: 'gold', 6: 'hotpink', 7:'dodgerblue', 8:'limegreen', 9: 'blueviolet'}"
   ]
  },
  {
   "cell_type": "code",
   "execution_count": 24,
   "metadata": {},
   "outputs": [],
   "source": [
    "color_labels = [color_dict[i] for i in pca_labels]"
   ]
  },
  {
   "cell_type": "code",
   "execution_count": 25,
   "metadata": {},
   "outputs": [],
   "source": [
    "# color_labels"
   ]
  },
  {
   "cell_type": "code",
   "execution_count": 26,
   "metadata": {},
   "outputs": [],
   "source": [
    "df_data_min = pd.read_pickle('./data/df_data_added_min.pkl')"
   ]
  },
  {
   "cell_type": "code",
   "execution_count": 27,
   "metadata": {},
   "outputs": [],
   "source": [
    "players_series = df_data_min.reset_index().Player"
   ]
  },
  {
   "cell_type": "code",
   "execution_count": 28,
   "metadata": {},
   "outputs": [],
   "source": [
    "players_lst = players_series.to_list()"
   ]
  },
  {
   "cell_type": "code",
   "execution_count": 29,
   "metadata": {},
   "outputs": [
    {
     "data": {
      "text/plain": [
       "272"
      ]
     },
     "execution_count": 29,
     "metadata": {},
     "output_type": "execute_result"
    }
   ],
   "source": [
    "len(players_lst)"
   ]
  },
  {
   "cell_type": "code",
   "execution_count": 30,
   "metadata": {},
   "outputs": [
    {
     "data": {
      "text/html": [
       "<div>\n",
       "<style scoped>\n",
       "    .dataframe tbody tr th:only-of-type {\n",
       "        vertical-align: middle;\n",
       "    }\n",
       "\n",
       "    .dataframe tbody tr th {\n",
       "        vertical-align: top;\n",
       "    }\n",
       "\n",
       "    .dataframe thead th {\n",
       "        text-align: right;\n",
       "    }\n",
       "</style>\n",
       "<table border=\"1\" class=\"dataframe\">\n",
       "  <thead>\n",
       "    <tr style=\"text-align: right;\">\n",
       "      <th></th>\n",
       "      <th>0</th>\n",
       "      <th>1</th>\n",
       "      <th>2</th>\n",
       "      <th>3</th>\n",
       "      <th>4</th>\n",
       "      <th>5</th>\n",
       "      <th>6</th>\n",
       "      <th>7</th>\n",
       "      <th>8</th>\n",
       "      <th>9</th>\n",
       "      <th>...</th>\n",
       "      <th>262</th>\n",
       "      <th>263</th>\n",
       "      <th>264</th>\n",
       "      <th>265</th>\n",
       "      <th>266</th>\n",
       "      <th>267</th>\n",
       "      <th>268</th>\n",
       "      <th>269</th>\n",
       "      <th>270</th>\n",
       "      <th>271</th>\n",
       "    </tr>\n",
       "  </thead>\n",
       "  <tbody>\n",
       "    <tr>\n",
       "      <th>PC1</th>\n",
       "      <td>-2.435165</td>\n",
       "      <td>-2.815487</td>\n",
       "      <td>-2.145387</td>\n",
       "      <td>-3.032430</td>\n",
       "      <td>-3.468202</td>\n",
       "      <td>-4.170291</td>\n",
       "      <td>-2.861973</td>\n",
       "      <td>-0.393153</td>\n",
       "      <td>-0.269574</td>\n",
       "      <td>-1.631605</td>\n",
       "      <td>...</td>\n",
       "      <td>-0.282883</td>\n",
       "      <td>7.854575</td>\n",
       "      <td>-3.856169</td>\n",
       "      <td>-2.544373</td>\n",
       "      <td>-2.651356</td>\n",
       "      <td>1.152404</td>\n",
       "      <td>-2.157796</td>\n",
       "      <td>-3.051539</td>\n",
       "      <td>7.466438</td>\n",
       "      <td>4.126110</td>\n",
       "    </tr>\n",
       "    <tr>\n",
       "      <th>PC2</th>\n",
       "      <td>2.380501</td>\n",
       "      <td>1.046077</td>\n",
       "      <td>1.905219</td>\n",
       "      <td>3.325516</td>\n",
       "      <td>0.487291</td>\n",
       "      <td>1.682201</td>\n",
       "      <td>-1.342224</td>\n",
       "      <td>1.715192</td>\n",
       "      <td>-1.018790</td>\n",
       "      <td>2.597210</td>\n",
       "      <td>...</td>\n",
       "      <td>-3.235519</td>\n",
       "      <td>2.064090</td>\n",
       "      <td>1.264953</td>\n",
       "      <td>0.795751</td>\n",
       "      <td>-0.638536</td>\n",
       "      <td>-3.831546</td>\n",
       "      <td>-0.753324</td>\n",
       "      <td>-0.072915</td>\n",
       "      <td>-0.249266</td>\n",
       "      <td>-0.745623</td>\n",
       "    </tr>\n",
       "    <tr>\n",
       "      <th>PC3</th>\n",
       "      <td>-0.295581</td>\n",
       "      <td>-0.011771</td>\n",
       "      <td>1.469811</td>\n",
       "      <td>-0.951517</td>\n",
       "      <td>-0.700582</td>\n",
       "      <td>-0.915204</td>\n",
       "      <td>-1.288242</td>\n",
       "      <td>1.314347</td>\n",
       "      <td>0.018453</td>\n",
       "      <td>-0.322508</td>\n",
       "      <td>...</td>\n",
       "      <td>2.841945</td>\n",
       "      <td>-1.265062</td>\n",
       "      <td>-1.564273</td>\n",
       "      <td>1.620902</td>\n",
       "      <td>-0.485781</td>\n",
       "      <td>-2.598123</td>\n",
       "      <td>1.381284</td>\n",
       "      <td>-0.726979</td>\n",
       "      <td>-1.413570</td>\n",
       "      <td>2.179859</td>\n",
       "    </tr>\n",
       "  </tbody>\n",
       "</table>\n",
       "<p>3 rows × 272 columns</p>\n",
       "</div>"
      ],
      "text/plain": [
       "          0         1         2         3         4         5         6    \\\n",
       "PC1 -2.435165 -2.815487 -2.145387 -3.032430 -3.468202 -4.170291 -2.861973   \n",
       "PC2  2.380501  1.046077  1.905219  3.325516  0.487291  1.682201 -1.342224   \n",
       "PC3 -0.295581 -0.011771  1.469811 -0.951517 -0.700582 -0.915204 -1.288242   \n",
       "\n",
       "          7         8         9    ...       262       263       264  \\\n",
       "PC1 -0.393153 -0.269574 -1.631605  ... -0.282883  7.854575 -3.856169   \n",
       "PC2  1.715192 -1.018790  2.597210  ... -3.235519  2.064090  1.264953   \n",
       "PC3  1.314347  0.018453 -0.322508  ...  2.841945 -1.265062 -1.564273   \n",
       "\n",
       "          265       266       267       268       269       270       271  \n",
       "PC1 -2.544373 -2.651356  1.152404 -2.157796 -3.051539  7.466438  4.126110  \n",
       "PC2  0.795751 -0.638536 -3.831546 -0.753324 -0.072915 -0.249266 -0.745623  \n",
       "PC3  1.620902 -0.485781 -2.598123  1.381284 -0.726979 -1.413570  2.179859  \n",
       "\n",
       "[3 rows x 272 columns]"
      ]
     },
     "execution_count": 30,
     "metadata": {},
     "output_type": "execute_result"
    }
   ],
   "source": [
    "pca_features_X"
   ]
  },
  {
   "cell_type": "code",
   "execution_count": 31,
   "metadata": {},
   "outputs": [],
   "source": [
    "pca_features_array = pca_features_X.to_numpy()"
   ]
  },
  {
   "cell_type": "code",
   "execution_count": 32,
   "metadata": {
    "scrolled": false
   },
   "outputs": [
    {
     "data": {
      "text/plain": [
       "'temp-plot.html'"
      ]
     },
     "execution_count": 32,
     "metadata": {},
     "output_type": "execute_result"
    }
   ],
   "source": [
    "x, y, z = pca_features_array\n",
    "trace1 = go.Scatter3d(\n",
    "    hovertext=players_lst,\n",
    "    ids=players_series,\n",
    "    legendgroup=None,\n",
    "    name=None,\n",
    "    opacity=0.8,\n",
    "    x=x,\n",
    "    y=y,\n",
    "    z=z,\n",
    "    mode='markers',\n",
    "    marker=dict(\n",
    "    color=color_labels,\n",
    "    line=dict(color='black', width=1)\n",
    "        ))\n",
    "data = [trace1]\n",
    "layout = go.Layout(\n",
    "    margin=dict(\n",
    "        l=0,\n",
    "        r=0,\n",
    "        b=0,\n",
    "        t=0\n",
    "    )\n",
    ")\n",
    "fig = go.Figure(data=data, layout=layout)\n",
    "plotly.offline.plot(fig)"
   ]
  },
  {
   "cell_type": "code",
   "execution_count": 93,
   "metadata": {},
   "outputs": [],
   "source": [
    "result = pd.read_pickle('./results/player_results_kmeans.pkl')"
   ]
  },
  {
   "cell_type": "code",
   "execution_count": 94,
   "metadata": {},
   "outputs": [],
   "source": [
    "df_data_min['W'] = pd.to_numeric(df_data_min['W'], errors=\"coerce\")"
   ]
  },
  {
   "cell_type": "code",
   "execution_count": 95,
   "metadata": {},
   "outputs": [],
   "source": [
    "group0, group1, group2, group3, group4, group5, group6, group7, group8, group9 = result[0], result[1], result[2], result[3], result[4], result[5], result[6], result[7], result[8], result[9]"
   ]
  },
  {
   "cell_type": "code",
   "execution_count": 96,
   "metadata": {},
   "outputs": [],
   "source": [
    "df_data_group0, df_data_group1, df_data_group2, df_data_group3, df_data_group4, df_data_group5, df_data_group6, df_data_group7, df_data_group8, df_data_group9 = [df_data_min.loc[eval('group' + str(i))] for i in range(len(result))]"
   ]
  },
  {
   "cell_type": "code",
   "execution_count": 97,
   "metadata": {},
   "outputs": [],
   "source": [
    "cols = df_data_group1.columns.to_list()[5:]"
   ]
  },
  {
   "cell_type": "code",
   "execution_count": 98,
   "metadata": {},
   "outputs": [],
   "source": [
    "group1_catch_shoot = df_data_group1['catch shoot'].to_numpy()"
   ]
  },
  {
   "cell_type": "code",
   "execution_count": 99,
   "metadata": {},
   "outputs": [],
   "source": [
    "groups_of_interest = [0, 2, 3, 7, 8]"
   ]
  },
  {
   "cell_type": "code",
   "execution_count": 100,
   "metadata": {},
   "outputs": [],
   "source": [
    "from matplotlib import pyplot"
   ]
  },
  {
   "cell_type": "code",
   "execution_count": 101,
   "metadata": {},
   "outputs": [],
   "source": [
    "def graph_groups(col_name, groups_to_include):\n",
    "    a4_dims = (11.7, 8.27)\n",
    "    fig, ax = pyplot.subplots(figsize=a4_dims)\n",
    "    graph_off_reb_AdjustedOREBChance = [sns.distplot(eval('df_data_group' + str(i))[col_name].to_numpy(), norm_hist=True, label= 'group' + str(i)) for i in groups_of_interest]\n",
    "    plt.legend()"
   ]
  },
  {
   "cell_type": "code",
   "execution_count": 102,
   "metadata": {},
   "outputs": [
    {
     "data": {
      "text/plain": [
       "['Tobias Harris',\n",
       " 'Kyle Kuzma',\n",
       " 'Aaron Gordon',\n",
       " 'Ben Simmons',\n",
       " 'Harrison Barnes',\n",
       " 'Pascal Siakam',\n",
       " 'Giannis Antetokounmpo',\n",
       " 'Lauri Markkanen',\n",
       " 'T.J. Warren',\n",
       " 'Blake Griffin',\n",
       " 'Kyle Anderson',\n",
       " 'Danilo Gallinari',\n",
       " 'Julius Randle',\n",
       " 'Jabari Parker',\n",
       " 'Marcus Morris',\n",
       " 'Rudy Gay',\n",
       " 'Paul Millsap',\n",
       " 'Josh Jackson',\n",
       " 'Maurice Harkless',\n",
       " 'Miles Bridges',\n",
       " 'Rondae Hollis-Jefferson',\n",
       " 'Mario Hezonja',\n",
       " 'James Johnson',\n",
       " 'Derrick Jones Jr.',\n",
       " 'Michael Kidd-Gilchrist',\n",
       " 'Trey Lyles']"
      ]
     },
     "execution_count": 102,
     "metadata": {},
     "output_type": "execute_result"
    }
   ],
   "source": [
    "group0"
   ]
  },
  {
   "cell_type": "code",
   "execution_count": 103,
   "metadata": {},
   "outputs": [
    {
     "data": {
      "image/png": "[encoded data removed]",
      "text/plain": [
       "<Figure size 842.4x595.44 with 1 Axes>"
      ]
     },
     "metadata": {
      "needs_background": "light"
     },
     "output_type": "display_data"
    }
   ],
   "source": [
    "graph_catch_shoot = graph_groups('catch shoot', groups_of_interest)"
   ]
  },
  {
   "cell_type": "code",
   "execution_count": 104,
   "metadata": {},
   "outputs": [
    {
     "data": {
      "image/png": "[encoded data removed]",
      "text/plain": [
       "<Figure size 842.4x595.44 with 1 Axes>"
      ]
     },
     "metadata": {
      "needs_background": "light"
     },
     "output_type": "display_data"
    }
   ],
   "source": [
    "graph_offense_isolation_freg = graph_groups('offense iso', groups_of_interest)"
   ]
  },
  {
   "cell_type": "code",
   "execution_count": 105,
   "metadata": {},
   "outputs": [
    {
     "data": {
      "image/png": "[encoded data removed]",
      "text/plain": [
       "<Figure size 842.4x595.44 with 1 Axes>"
      ]
     },
     "metadata": {
      "needs_background": "light"
     },
     "output_type": "display_data"
    }
   ],
   "source": [
    "graph_touches_postups = graph_groups('Paint touches percent', groups_of_interest)"
   ]
  },
  {
   "cell_type": "code",
   "execution_count": 106,
   "metadata": {},
   "outputs": [
    {
     "data": {
      "image/png": "[encoded data removed]",
      "text/plain": [
       "<Figure size 842.4x595.44 with 1 Axes>"
      ]
     },
     "metadata": {
      "needs_background": "light"
     },
     "output_type": "display_data"
    }
   ],
   "source": [
    "graph_off_reb_adjchance = graph_groups('offensive rebounding adjchance', groups_of_interest)"
   ]
  },
  {
   "cell_type": "code",
   "execution_count": 107,
   "metadata": {},
   "outputs": [
    {
     "data": {
      "image/png": "[encoded data removed]",
      "text/plain": [
       "<Figure size 842.4x595.44 with 1 Axes>"
      ]
     },
     "metadata": {
      "needs_background": "light"
     },
     "output_type": "display_data"
    }
   ],
   "source": [
    "graph_wins = graph_groups('W', groups_of_interest)"
   ]
  },
  {
   "cell_type": "code",
   "execution_count": 108,
   "metadata": {},
   "outputs": [],
   "source": [
    "def group_describe(df, group_number):\n",
    "    df_return = df\n",
    "    df_return = df_return.iloc[:, 5:-1].describe().loc[\"mean\"].reset_index()\n",
    "    df_return = df_return.T\n",
    "    df_return = df_return.drop('index')\n",
    "    df_return.columns = cols[:-1]\n",
    "    df_return.index = ['group' + str(group_number)]\n",
    "    return df_return\n"
   ]
  },
  {
   "cell_type": "code",
   "execution_count": 109,
   "metadata": {},
   "outputs": [],
   "source": [
    "df_group0_describe = group_describe(df_data_group0, 0)\n",
    "df_group1_describe = group_describe(df_data_group1, 1)\n",
    "df_group2_describe = group_describe(df_data_group2, 2)\n",
    "df_group3_describe = group_describe(df_data_group3, 3)\n",
    "df_group4_describe = group_describe(df_data_group4, 4)\n",
    "df_group5_describe = group_describe(df_data_group5, 5)\n",
    "df_group6_describe = group_describe(df_data_group6, 6)\n",
    "df_group7_describe = group_describe(df_data_group7, 7)\n",
    "df_group8_describe = group_describe(df_data_group8, 8)\n",
    "df_group9_describe = group_describe(df_data_group9, 9)"
   ]
  },
  {
   "cell_type": "code",
   "execution_count": 110,
   "metadata": {},
   "outputs": [],
   "source": [
    "df_mean_groups = pd.concat([df_group0_describe, df_group1_describe, df_group2_describe, df_group3_describe, df_group4_describe, df_group5_describe, df_group6_describe, df_group7_describe, df_group8_describe, df_group9_describe])"
   ]
  },
  {
   "cell_type": "code",
   "execution_count": 111,
   "metadata": {},
   "outputs": [
    {
     "data": {
      "text/html": [
       "<div>\n",
       "<style scoped>\n",
       "    .dataframe tbody tr th:only-of-type {\n",
       "        vertical-align: middle;\n",
       "    }\n",
       "\n",
       "    .dataframe tbody tr th {\n",
       "        vertical-align: top;\n",
       "    }\n",
       "\n",
       "    .dataframe thead th {\n",
       "        text-align: right;\n",
       "    }\n",
       "</style>\n",
       "<table border=\"1\" class=\"dataframe\">\n",
       "  <thead>\n",
       "    <tr style=\"text-align: right;\">\n",
       "      <th></th>\n",
       "      <th>catch shoot</th>\n",
       "      <th>fastbreak</th>\n",
       "      <th>pullup shot percent</th>\n",
       "      <th>offense iso</th>\n",
       "      <th>offense ballhandler</th>\n",
       "      <th>offense rollman</th>\n",
       "      <th>offense postup</th>\n",
       "      <th>offense spotup shot</th>\n",
       "      <th>offense hand off</th>\n",
       "      <th>offense cut</th>\n",
       "      <th>...</th>\n",
       "      <th>Average Dribbles Per Touch</th>\n",
       "      <th>Elbow touches percent</th>\n",
       "      <th>Postup touches percent</th>\n",
       "      <th>Paint touches percent</th>\n",
       "      <th>Average speed offense</th>\n",
       "      <th>Average speed defense</th>\n",
       "      <th>hustle Deflections</th>\n",
       "      <th>hustle Contested2PTShots</th>\n",
       "      <th>hustle Contested3PTShots</th>\n",
       "      <th>box_outs % Box Outs Off</th>\n",
       "    </tr>\n",
       "  </thead>\n",
       "  <tbody>\n",
       "    <tr>\n",
       "      <th>group0</th>\n",
       "      <td>0.248131</td>\n",
       "      <td>16.5538</td>\n",
       "      <td>0.194983</td>\n",
       "      <td>8.54615</td>\n",
       "      <td>9.77692</td>\n",
       "      <td>5.59615</td>\n",
       "      <td>9.41154</td>\n",
       "      <td>23.5231</td>\n",
       "      <td>2.96154</td>\n",
       "      <td>8.85385</td>\n",
       "      <td>...</td>\n",
       "      <td>1.54731</td>\n",
       "      <td>2.85757</td>\n",
       "      <td>3.99522</td>\n",
       "      <td>5.98028</td>\n",
       "      <td>4.54808</td>\n",
       "      <td>3.84692</td>\n",
       "      <td>1.96154</td>\n",
       "      <td>5.66154</td>\n",
       "      <td>3.99231</td>\n",
       "      <td>9.86923</td>\n",
       "    </tr>\n",
       "    <tr>\n",
       "      <th>group1</th>\n",
       "      <td>0.11507</td>\n",
       "      <td>7.80741</td>\n",
       "      <td>0.0333468</td>\n",
       "      <td>1.40741</td>\n",
       "      <td>0</td>\n",
       "      <td>23.9593</td>\n",
       "      <td>12.3296</td>\n",
       "      <td>5.84444</td>\n",
       "      <td>0</td>\n",
       "      <td>21.9259</td>\n",
       "      <td>...</td>\n",
       "      <td>0.518148</td>\n",
       "      <td>9.99024</td>\n",
       "      <td>5.55805</td>\n",
       "      <td>18.8375</td>\n",
       "      <td>4.45741</td>\n",
       "      <td>3.8737</td>\n",
       "      <td>1.72593</td>\n",
       "      <td>12.3963</td>\n",
       "      <td>3.13704</td>\n",
       "      <td>18.0074</td>\n",
       "    </tr>\n",
       "    <tr>\n",
       "      <th>group2</th>\n",
       "      <td>0.330196</td>\n",
       "      <td>17.5049</td>\n",
       "      <td>0.338258</td>\n",
       "      <td>6.4</td>\n",
       "      <td>22.9024</td>\n",
       "      <td>0.456098</td>\n",
       "      <td>1.04146</td>\n",
       "      <td>23.1317</td>\n",
       "      <td>9.82927</td>\n",
       "      <td>3.80976</td>\n",
       "      <td>...</td>\n",
       "      <td>2.28268</td>\n",
       "      <td>1.41712</td>\n",
       "      <td>0.486087</td>\n",
       "      <td>2.4599</td>\n",
       "      <td>4.61293</td>\n",
       "      <td>3.88829</td>\n",
       "      <td>1.9439</td>\n",
       "      <td>3.57561</td>\n",
       "      <td>3.38293</td>\n",
       "      <td>5.20488</td>\n",
       "    </tr>\n",
       "    <tr>\n",
       "      <th>group3</th>\n",
       "      <td>0.421953</td>\n",
       "      <td>24.013</td>\n",
       "      <td>0.151848</td>\n",
       "      <td>2.50435</td>\n",
       "      <td>9.02609</td>\n",
       "      <td>0.726087</td>\n",
       "      <td>0.826087</td>\n",
       "      <td>34.7087</td>\n",
       "      <td>5.2</td>\n",
       "      <td>7.21739</td>\n",
       "      <td>...</td>\n",
       "      <td>1.36609</td>\n",
       "      <td>1.50161</td>\n",
       "      <td>0.483193</td>\n",
       "      <td>4.70896</td>\n",
       "      <td>4.60957</td>\n",
       "      <td>4.08783</td>\n",
       "      <td>2.31304</td>\n",
       "      <td>4.65217</td>\n",
       "      <td>3.89565</td>\n",
       "      <td>7.98261</td>\n",
       "    </tr>\n",
       "    <tr>\n",
       "      <th>group4</th>\n",
       "      <td>0.541278</td>\n",
       "      <td>16.7786</td>\n",
       "      <td>0.1167</td>\n",
       "      <td>1.86429</td>\n",
       "      <td>2.425</td>\n",
       "      <td>6.71786</td>\n",
       "      <td>3.55714</td>\n",
       "      <td>40.375</td>\n",
       "      <td>2.46071</td>\n",
       "      <td>7.84286</td>\n",
       "      <td>...</td>\n",
       "      <td>0.670714</td>\n",
       "      <td>2.21178</td>\n",
       "      <td>1.45683</td>\n",
       "      <td>5.14351</td>\n",
       "      <td>4.63286</td>\n",
       "      <td>3.91143</td>\n",
       "      <td>1.73929</td>\n",
       "      <td>6.18571</td>\n",
       "      <td>4.11071</td>\n",
       "      <td>9.01786</td>\n",
       "    </tr>\n",
       "    <tr>\n",
       "      <th>group5</th>\n",
       "      <td>0.524446</td>\n",
       "      <td>14.9474</td>\n",
       "      <td>0.264366</td>\n",
       "      <td>1.23684</td>\n",
       "      <td>9.57368</td>\n",
       "      <td>0.742105</td>\n",
       "      <td>1.01053</td>\n",
       "      <td>27.4</td>\n",
       "      <td>15.6632</td>\n",
       "      <td>4.31053</td>\n",
       "      <td>...</td>\n",
       "      <td>1.22421</td>\n",
       "      <td>1.85046</td>\n",
       "      <td>0.557868</td>\n",
       "      <td>2.25924</td>\n",
       "      <td>4.74053</td>\n",
       "      <td>3.94158</td>\n",
       "      <td>1.54737</td>\n",
       "      <td>3.84211</td>\n",
       "      <td>3.58421</td>\n",
       "      <td>2.85263</td>\n",
       "    </tr>\n",
       "    <tr>\n",
       "      <th>group6</th>\n",
       "      <td>0.249374</td>\n",
       "      <td>18.3114</td>\n",
       "      <td>0.332616</td>\n",
       "      <td>5.97714</td>\n",
       "      <td>32.3171</td>\n",
       "      <td>0.125714</td>\n",
       "      <td>0.62</td>\n",
       "      <td>21.8257</td>\n",
       "      <td>6</td>\n",
       "      <td>3.60857</td>\n",
       "      <td>...</td>\n",
       "      <td>3.92629</td>\n",
       "      <td>0.898478</td>\n",
       "      <td>0.351264</td>\n",
       "      <td>1.89651</td>\n",
       "      <td>4.756</td>\n",
       "      <td>3.99743</td>\n",
       "      <td>2.35714</td>\n",
       "      <td>3.68857</td>\n",
       "      <td>3.68857</td>\n",
       "      <td>6.58857</td>\n",
       "    </tr>\n",
       "    <tr>\n",
       "      <th>group7</th>\n",
       "      <td>0.180045</td>\n",
       "      <td>9.83125</td>\n",
       "      <td>0.084146</td>\n",
       "      <td>4.11875</td>\n",
       "      <td>0.45625</td>\n",
       "      <td>16.1062</td>\n",
       "      <td>18.7375</td>\n",
       "      <td>11.7625</td>\n",
       "      <td>0.15</td>\n",
       "      <td>14.1875</td>\n",
       "      <td>...</td>\n",
       "      <td>0.725625</td>\n",
       "      <td>7.02454</td>\n",
       "      <td>8.50292</td>\n",
       "      <td>15.1393</td>\n",
       "      <td>4.3475</td>\n",
       "      <td>3.87312</td>\n",
       "      <td>1.9375</td>\n",
       "      <td>9.575</td>\n",
       "      <td>3.85625</td>\n",
       "      <td>22.5625</td>\n",
       "    </tr>\n",
       "    <tr>\n",
       "      <th>group8</th>\n",
       "      <td>0.156656</td>\n",
       "      <td>15.8225</td>\n",
       "      <td>0.434958</td>\n",
       "      <td>13.395</td>\n",
       "      <td>36.8825</td>\n",
       "      <td>0.195</td>\n",
       "      <td>3.3525</td>\n",
       "      <td>11.9625</td>\n",
       "      <td>5.4775</td>\n",
       "      <td>2.2275</td>\n",
       "      <td>...</td>\n",
       "      <td>4.166</td>\n",
       "      <td>1.24234</td>\n",
       "      <td>1.50583</td>\n",
       "      <td>1.79246</td>\n",
       "      <td>4.51975</td>\n",
       "      <td>3.6825</td>\n",
       "      <td>2.145</td>\n",
       "      <td>3.28</td>\n",
       "      <td>3.535</td>\n",
       "      <td>5.0325</td>\n",
       "    </tr>\n",
       "    <tr>\n",
       "      <th>group9</th>\n",
       "      <td>0.391167</td>\n",
       "      <td>8.92941</td>\n",
       "      <td>0.109122</td>\n",
       "      <td>2.13529</td>\n",
       "      <td>0.582353</td>\n",
       "      <td>18.0235</td>\n",
       "      <td>13.4176</td>\n",
       "      <td>19.5235</td>\n",
       "      <td>0.576471</td>\n",
       "      <td>9.27059</td>\n",
       "      <td>...</td>\n",
       "      <td>0.719412</td>\n",
       "      <td>5.94523</td>\n",
       "      <td>6.05991</td>\n",
       "      <td>9.04426</td>\n",
       "      <td>4.32824</td>\n",
       "      <td>3.71</td>\n",
       "      <td>2.09412</td>\n",
       "      <td>9.95882</td>\n",
       "      <td>3.45882</td>\n",
       "      <td>11.9941</td>\n",
       "    </tr>\n",
       "  </tbody>\n",
       "</table>\n",
       "<p>10 rows × 45 columns</p>\n",
       "</div>"
      ],
      "text/plain": [
       "       catch shoot fastbreak pullup shot percent offense iso  \\\n",
       "group0    0.248131   16.5538            0.194983     8.54615   \n",
       "group1     0.11507   7.80741           0.0333468     1.40741   \n",
       "group2    0.330196   17.5049            0.338258         6.4   \n",
       "group3    0.421953    24.013            0.151848     2.50435   \n",
       "group4    0.541278   16.7786              0.1167     1.86429   \n",
       "group5    0.524446   14.9474            0.264366     1.23684   \n",
       "group6    0.249374   18.3114            0.332616     5.97714   \n",
       "group7    0.180045   9.83125            0.084146     4.11875   \n",
       "group8    0.156656   15.8225            0.434958      13.395   \n",
       "group9    0.391167   8.92941            0.109122     2.13529   \n",
       "\n",
       "       offense ballhandler offense rollman offense postup offense spotup shot  \\\n",
       "group0             9.77692         5.59615        9.41154             23.5231   \n",
       "group1                   0         23.9593        12.3296             5.84444   \n",
       "group2             22.9024        0.456098        1.04146             23.1317   \n",
       "group3             9.02609        0.726087       0.826087             34.7087   \n",
       "group4               2.425         6.71786        3.55714              40.375   \n",
       "group5             9.57368        0.742105        1.01053                27.4   \n",
       "group6             32.3171        0.125714           0.62             21.8257   \n",
       "group7             0.45625         16.1062        18.7375             11.7625   \n",
       "group8             36.8825           0.195         3.3525             11.9625   \n",
       "group9            0.582353         18.0235        13.4176             19.5235   \n",
       "\n",
       "       offense hand off offense cut  ... Average Dribbles Per Touch  \\\n",
       "group0          2.96154     8.85385  ...                    1.54731   \n",
       "group1                0     21.9259  ...                   0.518148   \n",
       "group2          9.82927     3.80976  ...                    2.28268   \n",
       "group3              5.2     7.21739  ...                    1.36609   \n",
       "group4          2.46071     7.84286  ...                   0.670714   \n",
       "group5          15.6632     4.31053  ...                    1.22421   \n",
       "group6                6     3.60857  ...                    3.92629   \n",
       "group7             0.15     14.1875  ...                   0.725625   \n",
       "group8           5.4775      2.2275  ...                      4.166   \n",
       "group9         0.576471     9.27059  ...                   0.719412   \n",
       "\n",
       "       Elbow touches percent Postup touches percent Paint touches percent  \\\n",
       "group0               2.85757                3.99522               5.98028   \n",
       "group1               9.99024                5.55805               18.8375   \n",
       "group2               1.41712               0.486087                2.4599   \n",
       "group3               1.50161               0.483193               4.70896   \n",
       "group4               2.21178                1.45683               5.14351   \n",
       "group5               1.85046               0.557868               2.25924   \n",
       "group6              0.898478               0.351264               1.89651   \n",
       "group7               7.02454                8.50292               15.1393   \n",
       "group8               1.24234                1.50583               1.79246   \n",
       "group9               5.94523                6.05991               9.04426   \n",
       "\n",
       "       Average speed offense Average speed defense hustle Deflections  \\\n",
       "group0               4.54808               3.84692            1.96154   \n",
       "group1               4.45741                3.8737            1.72593   \n",
       "group2               4.61293               3.88829             1.9439   \n",
       "group3               4.60957               4.08783            2.31304   \n",
       "group4               4.63286               3.91143            1.73929   \n",
       "group5               4.74053               3.94158            1.54737   \n",
       "group6                 4.756               3.99743            2.35714   \n",
       "group7                4.3475               3.87312             1.9375   \n",
       "group8               4.51975                3.6825              2.145   \n",
       "group9               4.32824                  3.71            2.09412   \n",
       "\n",
       "       hustle Contested2PTShots hustle Contested3PTShots  \\\n",
       "group0                  5.66154                  3.99231   \n",
       "group1                  12.3963                  3.13704   \n",
       "group2                  3.57561                  3.38293   \n",
       "group3                  4.65217                  3.89565   \n",
       "group4                  6.18571                  4.11071   \n",
       "group5                  3.84211                  3.58421   \n",
       "group6                  3.68857                  3.68857   \n",
       "group7                    9.575                  3.85625   \n",
       "group8                     3.28                    3.535   \n",
       "group9                  9.95882                  3.45882   \n",
       "\n",
       "       box_outs % Box Outs Off  \n",
       "group0                 9.86923  \n",
       "group1                 18.0074  \n",
       "group2                 5.20488  \n",
       "group3                 7.98261  \n",
       "group4                 9.01786  \n",
       "group5                 2.85263  \n",
       "group6                 6.58857  \n",
       "group7                 22.5625  \n",
       "group8                  5.0325  \n",
       "group9                 11.9941  \n",
       "\n",
       "[10 rows x 45 columns]"
      ]
     },
     "execution_count": 111,
     "metadata": {},
     "output_type": "execute_result"
    }
   ],
   "source": [
    "df_mean_groups"
   ]
  },
  {
   "cell_type": "code",
   "execution_count": 112,
   "metadata": {},
   "outputs": [],
   "source": [
    "rank_dict = {}\n",
    "for i, col in enumerate(df_mean_groups.columns.to_list()):\n",
    "    rank_dict[col] = [d for d in df_mean_groups[col].sort_values(ascending=False).index][0]"
   ]
  },
  {
   "cell_type": "code",
   "execution_count": 113,
   "metadata": {},
   "outputs": [],
   "source": [
    "rank_dict_lst = [[v,k] for k, v in rank_dict.items()]"
   ]
  },
  {
   "cell_type": "code",
   "execution_count": 114,
   "metadata": {},
   "outputs": [],
   "source": [
    "group0_decription = [l[1] for l in rank_dict_lst if l[0] == \"group0\"]\n",
    "group1_decription = [l[1] for l in rank_dict_lst if l[0] == \"group1\"]\n",
    "group2_decription = [l[1] for l in rank_dict_lst if l[0] == \"group2\"]\n",
    "group3_decription = [l[1] for l in rank_dict_lst if l[0] == \"group3\"]\n",
    "group4_decription = [l[1] for l in rank_dict_lst if l[0] == \"group4\"]\n",
    "group5_decription = [l[1] for l in rank_dict_lst if l[0] == \"group5\"]\n",
    "group6_decription = [l[1] for l in rank_dict_lst if l[0] == \"group6\"]\n",
    "group7_decription = [l[1] for l in rank_dict_lst if l[0] == \"group7\"]\n",
    "group8_decription = [l[1] for l in rank_dict_lst if l[0] == \"group8\"]\n",
    "group9_decription = [l[1] for l in rank_dict_lst if l[0] == \"group9\"]"
   ]
  },
  {
   "cell_type": "code",
   "execution_count": 115,
   "metadata": {},
   "outputs": [],
   "source": [
    "rank_dict_2nd = {}\n",
    "for i, col in enumerate(df_mean_groups.columns.to_list()):\n",
    "    rank_dict_2nd[col] = [d for d in df_mean_groups[col].sort_values(ascending=False).index][1]"
   ]
  },
  {
   "cell_type": "code",
   "execution_count": 116,
   "metadata": {},
   "outputs": [],
   "source": [
    "rank_2nd_lst = [[v,k] for k, v in rank_dict_2nd.items()]\n",
    "rank_2nd_lst.sort()"
   ]
  },
  {
   "cell_type": "code",
   "execution_count": 117,
   "metadata": {},
   "outputs": [],
   "source": [
    "group0_second_descr = [l[1] for l in rank_2nd_lst if l[0] == \"group0\"]\n",
    "group1_second_descr = [l[1] for l in rank_2nd_lst if l[0] == \"group1\"]\n",
    "group2_second_descr = [l[1] for l in rank_2nd_lst if l[0] == \"group2\"]\n",
    "group3_second_descr = [l[1] for l in rank_2nd_lst if l[0] == \"group3\"]\n",
    "group4_second_descr = [l[1] for l in rank_2nd_lst if l[0] == \"group4\"]\n",
    "group5_second_descr = [l[1] for l in rank_2nd_lst if l[0] == \"group5\"]\n",
    "group6_second_descr = [l[1] for l in rank_2nd_lst if l[0] == \"group6\"]\n",
    "group7_second_descr = [l[1] for l in rank_2nd_lst if l[0] == \"group7\"]\n",
    "group8_second_descr = [l[1] for l in rank_2nd_lst if l[0] == \"group8\"]\n",
    "group9_second_descr = [l[1] for l in rank_2nd_lst if l[0] == \"group9\"]"
   ]
  },
  {
   "cell_type": "code",
   "execution_count": 118,
   "metadata": {},
   "outputs": [
    {
     "data": {
      "text/plain": [
       "['open shot']"
      ]
     },
     "execution_count": 118,
     "metadata": {},
     "output_type": "execute_result"
    }
   ],
   "source": [
    "group8_second_descr"
   ]
  },
  {
   "cell_type": "code",
   "execution_count": 119,
   "metadata": {},
   "outputs": [],
   "source": [
    "cluster_dictionary = {}"
   ]
  },
  {
   "cell_type": "code",
   "execution_count": 120,
   "metadata": {},
   "outputs": [],
   "source": [
    "cluster_dictionary['group0'] = {1: group0_decription, 2: group0_second_descr}"
   ]
  },
  {
   "cell_type": "code",
   "execution_count": 121,
   "metadata": {},
   "outputs": [],
   "source": [
    "cluster_dictionary['group1'] = {1: group1_decription, 2: group1_second_descr}"
   ]
  },
  {
   "cell_type": "code",
   "execution_count": 122,
   "metadata": {},
   "outputs": [],
   "source": [
    "cluster_dictionary['group2'] = {1: group2_decription, 2: group2_second_descr}"
   ]
  },
  {
   "cell_type": "code",
   "execution_count": 123,
   "metadata": {},
   "outputs": [],
   "source": [
    "cluster_dictionary['group3'] = {1: group3_decription, 2: group3_second_descr}"
   ]
  },
  {
   "cell_type": "code",
   "execution_count": 124,
   "metadata": {},
   "outputs": [],
   "source": [
    "cluster_dictionary['group4'] = {1: group4_decription, 2: group4_second_descr}"
   ]
  },
  {
   "cell_type": "code",
   "execution_count": 125,
   "metadata": {},
   "outputs": [],
   "source": [
    "cluster_dictionary['group5'] = {1: group5_decription, 2: group5_second_descr}"
   ]
  },
  {
   "cell_type": "code",
   "execution_count": 126,
   "metadata": {},
   "outputs": [],
   "source": [
    "cluster_dictionary['group6'] = {1: group6_decription, 2: group6_second_descr}"
   ]
  },
  {
   "cell_type": "code",
   "execution_count": 127,
   "metadata": {},
   "outputs": [],
   "source": [
    "cluster_dictionary['group7'] = {1: group7_decription, 2: group7_second_descr}"
   ]
  },
  {
   "cell_type": "code",
   "execution_count": 128,
   "metadata": {},
   "outputs": [],
   "source": [
    "cluster_dictionary['group8'] = {1: group8_decription, 2: group8_second_descr}"
   ]
  },
  {
   "cell_type": "code",
   "execution_count": 129,
   "metadata": {},
   "outputs": [],
   "source": [
    "cluster_dictionary['group9'] = {1: group9_decription, 2: group9_second_descr}"
   ]
  },
  {
   "cell_type": "code",
   "execution_count": 130,
   "metadata": {},
   "outputs": [
    {
     "data": {
      "text/plain": [
       "['defensive rebounding adjchance']"
      ]
     },
     "execution_count": 130,
     "metadata": {},
     "output_type": "execute_result"
    }
   ],
   "source": [
    "cluster_dictionary['group0'][1]\n",
    "# , cluster_dictionary['group0'][2]"
   ]
  },
  {
   "cell_type": "code",
   "execution_count": 131,
   "metadata": {},
   "outputs": [
    {
     "data": {
      "text/plain": [
       "['Tobias Harris',\n",
       " 'Kyle Kuzma',\n",
       " 'Aaron Gordon',\n",
       " 'Ben Simmons',\n",
       " 'Harrison Barnes',\n",
       " 'Pascal Siakam',\n",
       " 'Giannis Antetokounmpo',\n",
       " 'Lauri Markkanen',\n",
       " 'T.J. Warren',\n",
       " 'Blake Griffin']"
      ]
     },
     "execution_count": 131,
     "metadata": {},
     "output_type": "execute_result"
    }
   ],
   "source": [
    "group0[:10]"
   ]
  },
  {
   "cell_type": "code",
   "execution_count": 132,
   "metadata": {},
   "outputs": [
    {
     "data": {
      "text/plain": [
       "(['offense rollman',\n",
       "  'offense cut',\n",
       "  'offense platype misc',\n",
       "  'offense misc',\n",
       "  'closely contested shot',\n",
       "  'contested shot',\n",
       "  'offensive rebounding adjchance',\n",
       "  'passes made over passes received percent',\n",
       "  'Elbow touches percent',\n",
       "  'Paint touches percent',\n",
       "  'hustle Contested2PTShots'],\n",
       " ['box_outs % Box Outs Off', 'defensive postup freq'])"
      ]
     },
     "execution_count": 132,
     "metadata": {},
     "output_type": "execute_result"
    }
   ],
   "source": [
    "cluster_dictionary['group1'][1], cluster_dictionary['group1'][2]"
   ]
  },
  {
   "cell_type": "code",
   "execution_count": 133,
   "metadata": {},
   "outputs": [
    {
     "data": {
      "text/plain": [
       "['Steven Adams',\n",
       " 'Clint Capela',\n",
       " 'Rudy Gobert',\n",
       " 'Deandre Ayton',\n",
       " 'Willie Cauley-Stein',\n",
       " 'Tristan Thompson',\n",
       " 'Jusuf Nurkic',\n",
       " 'Cody Zeller',\n",
       " 'Jarrett Allen',\n",
       " 'Wendell Carter Jr.',\n",
       " 'Domantas Sabonis',\n",
       " 'Derrick Favors',\n",
       " 'Enes Kanter',\n",
       " 'Bam Adebayo',\n",
       " 'Dwight Powell',\n",
       " 'JaVale McGee',\n",
       " 'Hassan Whiteside',\n",
       " 'Jonas Valanciunas',\n",
       " 'Robin Lopez',\n",
       " 'Thomas Bryant',\n",
       " 'Kevon Looney',\n",
       " 'Ed Davis',\n",
       " 'Ivica Zubac',\n",
       " 'Jakob Poeltl',\n",
       " 'Ante Zizic',\n",
       " 'Richaun Holmes',\n",
       " 'Nerlens Noel']"
      ]
     },
     "execution_count": 133,
     "metadata": {},
     "output_type": "execute_result"
    }
   ],
   "source": [
    "group1"
   ]
  },
  {
   "cell_type": "code",
   "execution_count": 134,
   "metadata": {},
   "outputs": [
    {
     "data": {
      "text/plain": [
       "'Primary ballhander/ballhog'"
      ]
     },
     "execution_count": 134,
     "metadata": {},
     "output_type": "execute_result"
    }
   ],
   "source": [
    "'Primary ballhander/ballhog'"
   ]
  },
  {
   "cell_type": "code",
   "execution_count": 135,
   "metadata": {},
   "outputs": [
    {
     "data": {
      "text/plain": [
       "['defensive isolation shot freq', 'defensive offscreen shot freq']"
      ]
     },
     "execution_count": 135,
     "metadata": {},
     "output_type": "execute_result"
    }
   ],
   "source": [
    "cluster_dictionary['group2'][1]"
   ]
  },
  {
   "cell_type": "code",
   "execution_count": 136,
   "metadata": {},
   "outputs": [
    {
     "data": {
      "text/plain": [
       "'away from 3-point line, away from the basket'"
      ]
     },
     "execution_count": 136,
     "metadata": {},
     "output_type": "execute_result"
    }
   ],
   "source": [
    "'away from 3-point line, away from the basket'"
   ]
  },
  {
   "cell_type": "code",
   "execution_count": 137,
   "metadata": {},
   "outputs": [
    {
     "data": {
      "text/plain": [
       "(['fastbreak', 'defensive postup shot freq', 'Average speed defense'],\n",
       " ['defensive ball_handler freq',\n",
       "  'defensive ball_handler shot freq',\n",
       "  'defensive isolation shot freq',\n",
       "  'defensive offscreen shot freq',\n",
       "  'defensive shot freq',\n",
       "  'hustle Deflections',\n",
       "  'offense spotup shot',\n",
       "  'wide open shot'])"
      ]
     },
     "execution_count": 137,
     "metadata": {},
     "output_type": "execute_result"
    }
   ],
   "source": [
    "cluster_dictionary['group3'][1], cluster_dictionary['group3'][2]"
   ]
  },
  {
   "cell_type": "code",
   "execution_count": 138,
   "metadata": {},
   "outputs": [
    {
     "data": {
      "text/plain": [
       "['Nicolas Batum',\n",
       " 'Trevor Ariza',\n",
       " 'Mikal Bridges',\n",
       " 'Danny Green',\n",
       " 'Kelly Oubre Jr.',\n",
       " 'Garrett Temple',\n",
       " 'Terrance Ferguson',\n",
       " 'Josh Hart',\n",
       " 'Jaylen Brown',\n",
       " 'Josh Okogie',\n",
       " 'DeMarre Carroll',\n",
       " \"DeAndre' Bembry\",\n",
       " 'Rodions Kurucs',\n",
       " 'James Ennis III',\n",
       " 'Pat Connaughton',\n",
       " \"Royce O'Neale\",\n",
       " 'Torrey Craig',\n",
       " 'Bruce Brown',\n",
       " 'Frank Jackson',\n",
       " 'Jake Layman',\n",
       " 'Wes Iwundu',\n",
       " 'Sterling Brown',\n",
       " 'Stanley Johnson']"
      ]
     },
     "execution_count": 138,
     "metadata": {},
     "output_type": "execute_result"
    }
   ],
   "source": [
    "group3"
   ]
  },
  {
   "cell_type": "code",
   "execution_count": 139,
   "metadata": {
    "scrolled": true
   },
   "outputs": [
    {
     "data": {
      "text/plain": [
       "(['catch shoot',\n",
       "  'offense spotup shot',\n",
       "  'wide open shot',\n",
       "  'defensive isolation freq',\n",
       "  'defensive postup freq',\n",
       "  'defensive spotup freq',\n",
       "  'defensive shot freq',\n",
       "  'hustle Contested3PTShots'],\n",
       " ['defensive postup shot freq', 'passes made over passes received percent'])"
      ]
     },
     "execution_count": 139,
     "metadata": {},
     "output_type": "execute_result"
    }
   ],
   "source": [
    "cluster_dictionary['group4'][1], cluster_dictionary['group4'][2]"
   ]
  },
  {
   "cell_type": "code",
   "execution_count": 140,
   "metadata": {},
   "outputs": [
    {
     "data": {
      "text/plain": [
       "['Jerami Grant',\n",
       " 'PJ Tucker',\n",
       " 'Al-Farouq Aminu',\n",
       " 'Nikola Mirotic',\n",
       " 'Jonathan Isaac',\n",
       " 'Marvin Williams',\n",
       " 'Jae Crowder',\n",
       " 'Dario Saric',\n",
       " 'Dorian Finney-Smith',\n",
       " 'Kenrich Williams',\n",
       " 'Jeff Green',\n",
       " 'Nemanja Bjelica',\n",
       " 'Kelly Olynyk',\n",
       " 'Davis Bertans',\n",
       " 'Wilson Chandler',\n",
       " 'Andre Iguodala',\n",
       " 'Mike Muscala',\n",
       " 'OG Anunoby',\n",
       " 'Maxi Kleber',\n",
       " 'Justin Jackson',\n",
       " 'Jared Dudley',\n",
       " 'Juancho Hernangomez',\n",
       " 'Gerald Green',\n",
       " 'Mike Scott',\n",
       " 'Jonas Jerebko',\n",
       " 'Anthony Tolliver',\n",
       " 'Vince Carter',\n",
       " 'Alfonzo McKinnie']"
      ]
     },
     "execution_count": 140,
     "metadata": {},
     "output_type": "execute_result"
    }
   ],
   "source": [
    "group4"
   ]
  },
  {
   "cell_type": "code",
   "execution_count": 141,
   "metadata": {},
   "outputs": [
    {
     "data": {
      "text/plain": [
       "(['offense hand off',\n",
       "  'offense offscreen',\n",
       "  'open shot',\n",
       "  'offensive rebounding distance',\n",
       "  'defensive handoff freq',\n",
       "  'defensive offscreen freq'],\n",
       " ['Average speed offense', 'catch shoot', 'defensive rebounding distance'])"
      ]
     },
     "execution_count": 141,
     "metadata": {},
     "output_type": "execute_result"
    }
   ],
   "source": [
    "cluster_dictionary['group5'][1], cluster_dictionary['group5'][2]"
   ]
  },
  {
   "cell_type": "code",
   "execution_count": 142,
   "metadata": {},
   "outputs": [
    {
     "data": {
      "text/plain": [
       "(['defensive rebounding distance',\n",
       "  'defensive ball_handler freq',\n",
       "  'Average speed offense',\n",
       "  'hustle Deflections'],\n",
       " ['Average Dribbles Per Touch',\n",
       "  'Average Seconds Per Touch',\n",
       "  'Average speed defense',\n",
       "  'fastbreak',\n",
       "  'offense ballhandler',\n",
       "  'offensive rebounding distance'])"
      ]
     },
     "execution_count": 142,
     "metadata": {},
     "output_type": "execute_result"
    }
   ],
   "source": [
    "cluster_dictionary['group6'][1], cluster_dictionary['group6'][2]"
   ]
  },
  {
   "cell_type": "code",
   "execution_count": 143,
   "metadata": {},
   "outputs": [
    {
     "data": {
      "text/plain": [
       "['Jimmy Butler',\n",
       " \"De'Aaron Fox\",\n",
       " 'Lonzo Ball',\n",
       " 'Elfrid Payton',\n",
       " 'Justise Winslow',\n",
       " 'Eric Bledsoe',\n",
       " 'Malcolm Brogdon',\n",
       " 'Tomas Satoransky',\n",
       " 'Patrick Beverley',\n",
       " 'Fred VanVleet',\n",
       " 'Ricky Rubio',\n",
       " 'Shai Gilgeous-Alexander',\n",
       " 'Darren Collison',\n",
       " 'Reggie Jackson',\n",
       " 'D.J. Augustin',\n",
       " 'Cory Joseph',\n",
       " 'Marcus Smart',\n",
       " 'Derrick White',\n",
       " 'Ryan Arcidiacono',\n",
       " 'Patty Mills',\n",
       " 'Monte Morris',\n",
       " 'Delon Wright',\n",
       " 'Ish Smith',\n",
       " 'Terry Rozier',\n",
       " 'Tyus Jones',\n",
       " 'Shelvin Mack',\n",
       " 'Jalen Brunson',\n",
       " 'George Hill',\n",
       " 'T.J. McConnell',\n",
       " 'Shaquille Harrison',\n",
       " 'Jeremy Lin',\n",
       " 'Tim Frazier',\n",
       " 'Jonathon Simmons',\n",
       " 'Yogi Ferrell',\n",
       " 'Quinn Cook']"
      ]
     },
     "execution_count": 143,
     "metadata": {},
     "output_type": "execute_result"
    }
   ],
   "source": [
    "group6"
   ]
  },
  {
   "cell_type": "code",
   "execution_count": 144,
   "metadata": {
    "scrolled": false
   },
   "outputs": [
    {
     "data": {
      "text/plain": [
       "(['offense postup',\n",
       "  'defensive ball_handler shot freq',\n",
       "  'defensive spotup shot freq',\n",
       "  'Postup touches percent',\n",
       "  'box_outs % Box Outs Off'],\n",
       " ['Elbow touches percent',\n",
       "  'Paint touches percent',\n",
       "  'closely contested shot',\n",
       "  'contested shot',\n",
       "  'defensive rebounding adjchance',\n",
       "  'offense cut',\n",
       "  'offense misc',\n",
       "  'offense platype misc',\n",
       "  'offensive rebounding adjchance'])"
      ]
     },
     "execution_count": 144,
     "metadata": {},
     "output_type": "execute_result"
    }
   ],
   "source": [
    "cluster_dictionary['group7'][1], cluster_dictionary['group7'][2]"
   ]
  },
  {
   "cell_type": "code",
   "execution_count": 145,
   "metadata": {},
   "outputs": [
    {
     "data": {
      "text/plain": [
       "(['pullup shot percent',\n",
       "  'offense iso',\n",
       "  'offense ballhandler',\n",
       "  'Average Seconds Per Touch',\n",
       "  'Average Dribbles Per Touch'],\n",
       " ['open shot'])"
      ]
     },
     "execution_count": 145,
     "metadata": {},
     "output_type": "execute_result"
    }
   ],
   "source": [
    "cluster_dictionary['group8'][1], cluster_dictionary['group8'][2]"
   ]
  },
  {
   "cell_type": "code",
   "execution_count": 146,
   "metadata": {},
   "outputs": [
    {
     "data": {
      "text/plain": [
       "['Jrue Holiday',\n",
       " 'Paul George',\n",
       " 'Zach LaVine',\n",
       " 'Brandon Ingram',\n",
       " 'Mike Conley',\n",
       " 'Devin Booker',\n",
       " 'Kawhi Leonard',\n",
       " 'DeMar DeRozan',\n",
       " 'Kemba Walker',\n",
       " 'Russell Westbrook',\n",
       " 'Damian Lillard',\n",
       " 'Andrew Wiggins',\n",
       " 'Donovan Mitchell',\n",
       " 'Trae Young',\n",
       " 'Kyrie Irving',\n",
       " 'Kevin Durant',\n",
       " 'LeBron James',\n",
       " 'James Harden',\n",
       " 'Khris Middleton',\n",
       " 'Luka Doncic',\n",
       " 'Collin Sexton',\n",
       " 'Kris Dunn',\n",
       " \"D'Angelo Russell\",\n",
       " 'Dennis Schroder',\n",
       " 'Chris Paul',\n",
       " 'Dennis Smith Jr.',\n",
       " 'Emmanuel Mudiay',\n",
       " 'Rajon Rondo',\n",
       " 'Spencer Dinwiddie',\n",
       " 'Derrick Rose',\n",
       " 'Jeff Teague',\n",
       " 'Lou Williams',\n",
       " 'Dwyane Wade',\n",
       " 'Dion Waiters',\n",
       " 'Allonzo Trier',\n",
       " 'Evan Turner',\n",
       " 'Trey Burke',\n",
       " 'Tyreke Evans',\n",
       " 'Tony Parker',\n",
       " 'Jamal Crawford']"
      ]
     },
     "execution_count": 146,
     "metadata": {},
     "output_type": "execute_result"
    }
   ],
   "source": [
    "group8"
   ]
  },
  {
   "cell_type": "code",
   "execution_count": 147,
   "metadata": {},
   "outputs": [
    {
     "data": {
      "text/plain": [
       "([],\n",
       " ['Postup touches percent',\n",
       "  'hustle Contested2PTShots',\n",
       "  'offense postup',\n",
       "  'offense rollman'])"
      ]
     },
     "execution_count": 147,
     "metadata": {},
     "output_type": "execute_result"
    }
   ],
   "source": [
    "cluster_dictionary['group9'][1], cluster_dictionary['group9'][2]"
   ]
  },
  {
   "cell_type": "code",
   "execution_count": 148,
   "metadata": {},
   "outputs": [
    {
     "data": {
      "text/plain": [
       "['Joel Embiid',\n",
       " 'Cedi Osman',\n",
       " 'Thaddeus Young',\n",
       " 'Nikola Jokic',\n",
       " 'Nikola Vucevic',\n",
       " 'Draymond Green',\n",
       " 'Myles Turner',\n",
       " 'Al Horford',\n",
       " 'Marc Gasol',\n",
       " 'Brook Lopez',\n",
       " 'Serge Ibaka',\n",
       " 'Bobby Portis',\n",
       " 'Dewayne Dedmon',\n",
       " 'Alex Len',\n",
       " 'Markieff Morris',\n",
       " 'Ersan Ilyasova',\n",
       " 'Gorgui Dieng']"
      ]
     },
     "execution_count": 148,
     "metadata": {},
     "output_type": "execute_result"
    }
   ],
   "source": [
    "group9"
   ]
  },
  {
   "cell_type": "code",
   "execution_count": null,
   "metadata": {},
   "outputs": [],
   "source": []
  },
  {
   "cell_type": "code",
   "execution_count": null,
   "metadata": {},
   "outputs": [],
   "source": []
  }
 ],
 "metadata": {
  "kernelspec": {
   "display_name": "Python 3",
   "language": "python",
   "name": "python3"
  },
  "language_info": {
   "codemirror_mode": {
    "name": "ipython",
    "version": 3
   },
   "file_extension": ".py",
   "mimetype": "text/x-python",
   "name": "python",
   "nbconvert_exporter": "python",
   "pygments_lexer": "ipython3",
   "version": "3.7.3"
  }
 },
 "nbformat": 4,
 "nbformat_minor": 2
}
