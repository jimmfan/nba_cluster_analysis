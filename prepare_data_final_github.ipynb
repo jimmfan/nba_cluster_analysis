{
 "cells": [
  {
   "cell_type": "code",
   "execution_count": 15,
   "metadata": {},
   "outputs": [
    {
     "data": {
      "text/html": [
       "<style>.container { width:95% !important; }</style>"
      ],
      "text/plain": [
       "<IPython.core.display.HTML object>"
      ]
     },
     "metadata": {},
     "output_type": "display_data"
    }
   ],
   "source": [
    "from IPython.core.display import display, HTML\n",
    "display(HTML(\"<style>.container { width:95% !important; }</style>\"))"
   ]
  },
  {
   "cell_type": "code",
   "execution_count": 16,
   "metadata": {},
   "outputs": [],
   "source": [
    "import pickle"
   ]
  },
  {
   "cell_type": "code",
   "execution_count": 17,
   "metadata": {},
   "outputs": [],
   "source": [
    "import numpy as np\n",
    "import pandas as pd\n",
    "\n",
    "from sklearn.decomposition import PCA\n",
    "\n",
    "from sklearn.metrics import accuracy_score, confusion_matrix\n",
    "from sklearn.model_selection import train_test_split\n",
    "from sklearn import svm\n",
    "\n",
    "from matplotlib import pyplot as plt\n",
    "%matplotlib inline"
   ]
  },
  {
   "cell_type": "code",
   "execution_count": 18,
   "metadata": {},
   "outputs": [],
   "source": [
    "from sklearn.cluster import DBSCAN, SpectralClustering, MeanShift\n",
    "from sklearn.preprocessing import StandardScaler\n",
    "import matplotlib.pyplot as plt\n",
    "import seaborn as sns\n",
    "import numpy as np\n",
    "from sklearn.cluster import KMeans\n",
    "\n",
    "plt.style.use(\"seaborn\")\n",
    "%matplotlib inline"
   ]
  },
  {
   "cell_type": "code",
   "execution_count": 19,
   "metadata": {},
   "outputs": [],
   "source": [
    "pd.set_option('display.max_columns', 100)\n",
    "pd.set_option('max_colwidth', 1000)\n",
    "pd.set_option('max_rows', 600)\n"
   ]
  },
  {
   "cell_type": "code",
   "execution_count": 20,
   "metadata": {},
   "outputs": [],
   "source": [
    "df_data = pd.read_pickle('./data/df_data_all.pkl')"
   ]
  },
  {
   "cell_type": "code",
   "execution_count": 66,
   "metadata": {},
   "outputs": [],
   "source": [
    "cols_keep = ['Player', 'Team', 'GP',\n",
    " 'W',\n",
    " 'L',\n",
    " 'MIN',\n",
    " 'catch_shoot%',\n",
    " 'offense_transition Freq',\n",
    " 'pullupFGA%',\n",
    " 'offense_isolation Freq',\n",
    " 'offense_ball_handler Freq',\n",
    " 'offense_roll_man Freq',\n",
    " 'offense_playtype_post_up Freq',\n",
    " 'offense_spot_up Freq',\n",
    " 'offense_hand_off Freq',\n",
    " 'offense_cut Freq',\n",
    " 'offense_off_screen Freq',\n",
    " 'offense_playtype_misc Freq',\n",
    " 'off_misc Freq',\n",
    " 'defender02ft Freq',\n",
    " 'defender24ft Freq',\n",
    " 'defender46ft Freq',\n",
    " 'defender6pft Freq',\n",
    " 'off_reb AdjustedOREBChance%',\n",
    " 'off_reb AVGOREBDistance',\n",
    " 'def_reb AdjustedDREBChance%',\n",
    " 'def_reb AVGDREBDistance',\n",
    " 'def_isolation Freq',\n",
    " 'def_isolation SFFreq',\n",
    " 'def_ball_handler Freq',\n",
    " 'def_ball_handler SFFreq',\n",
    " 'def_playtype_post_up Freq',\n",
    " 'def_playtype_post_up SFFreq',\n",
    " 'def_spot_up Freq',\n",
    " 'def_spot_up SFFreq',\n",
    " 'def_hand_off Freq',\n",
    " 'def_hand_off SFFreq',\n",
    " 'def_off_screen Freq',\n",
    " 'def_off_screen SFFreq',\n",
    " 'passing ASTToPass%Adj',\n",
    " 'passesMade_div_Received %',\n",
    " 'touches AvgSecPerTouch',\n",
    " 'touches AvgDribPerTouch',\n",
    " 'touches ElbowTouches%',\n",
    " 'touches PostUps%',\n",
    " 'touches PaintTouches%',\n",
    " 'AvgSpeedOff',\n",
    " 'AvgSpeedDef',\n",
    "#  'hustle Deflections',\n",
    " 'hustle Contested2PTShots',\n",
    " 'hustle Contested3PTShots',\n",
    " 'box_outs % Box Outs Off',\n",
    " 'box_outs % Box Outs Def']"
   ]
  },
  {
   "cell_type": "code",
   "execution_count": 67,
   "metadata": {},
   "outputs": [],
   "source": [
    "df_data = df_data.fillna(0)"
   ]
  },
  {
   "cell_type": "code",
   "execution_count": 68,
   "metadata": {},
   "outputs": [],
   "source": [
    "df_data = df_data[cols_keep]"
   ]
  },
  {
   "cell_type": "code",
   "execution_count": 69,
   "metadata": {},
   "outputs": [],
   "source": [
    "df_data_min = df_data.copy()\n",
    "df_data_min = df_data_min.set_index('Player')\n",
    "df_data_min['total_min'] = df_data_min['GP'].multiply(df_data_min['MIN'])\n",
    "df_data_min = df_data_min[df_data_min['total_min'].apply(lambda x: float(x)) > 1000]\n",
    "df_data_min = df_data_min[df_data_min['GP'].apply(lambda x: float(x)) > 41]\n",
    "df_data_min.to_pickle('./data/df_data_min.pkl')"
   ]
  },
  {
   "cell_type": "code",
   "execution_count": 70,
   "metadata": {},
   "outputs": [],
   "source": [
    "df_data_min = df_data[cols_keep]"
   ]
  },
  {
   "cell_type": "code",
   "execution_count": 71,
   "metadata": {},
   "outputs": [],
   "source": [
    "# df_data_min.columns.to_list()"
   ]
  },
  {
   "cell_type": "code",
   "execution_count": 72,
   "metadata": {},
   "outputs": [],
   "source": [
    "cols_rename = ['Player', 'Team', 'GP','W', 'L', 'MIN', 'catch shoot', 'fastbreak', 'pullup shot percent', 'offense iso',\n",
    "               'offense ballhandler', 'offense rollman', 'offense postup', 'offense spotup shot','offense hand off','offense cut',\n",
    "               'offense offscreen', 'offense platype misc','offense misc','closely contested shot','contested shot','open shot',\n",
    "               'wide open shot','offensive rebounding adjchance','offensive rebounding distance','defensive rebounding adjchance',\n",
    "               'defensive rebounding distance', 'defensive isolation freq', 'defensive isolation shot freq', 'defensive ball_handler freq', \n",
    "               'defensive ball_handler shot freq', 'defensive postup freq', 'defensive postup shot freq', 'defensive spotup freq', \n",
    "               'defensive spotup shot freq', 'defensive handoff freq', 'defensive shot freq', 'defensive offscreen freq', \n",
    "               'defensive offscreen shot freq', 'assist to pass percent adj', 'passes made over passes received percent',\n",
    "               'Average Seconds Per Touch', 'Average Dribbies Per Touch', 'Elbow touches percent', 'Postup touches percent', \n",
    "               'Paint touches percent', 'Average speed offense', 'Average speed defense', \n",
    "#                'hustle Deflections', \n",
    "               'hustle Contested2PTShots', \n",
    "               'hustle Contested3PTShots', 'box_outs % Box Outs Off', 'box_outs % Box Outs Def']"
   ]
  },
  {
   "cell_type": "code",
   "execution_count": 73,
   "metadata": {},
   "outputs": [],
   "source": [
    "df_data_min.columns = cols_rename"
   ]
  },
  {
   "cell_type": "code",
   "execution_count": 79,
   "metadata": {},
   "outputs": [],
   "source": [
    "df_data_min['total_min'] = df_data_min['GP'].multiply(df_data_min['MIN'])\n",
    "df_data_min = df_data_min[df_data_min['total_min'].apply(lambda x: float(x)) > 1000]\n",
    "df_data_min = df_data_min[df_data_min['GP'].apply(lambda x: float(x)) > 41]"
   ]
  },
  {
   "cell_type": "code",
   "execution_count": 80,
   "metadata": {},
   "outputs": [],
   "source": [
    "df_data_min['W'] = pd.to_numeric(df_data_min['W'], errors='coerce')\n",
    "df_data_min['L'] = pd.to_numeric(df_data_min['L'], errors='coerce')"
   ]
  },
  {
   "cell_type": "code",
   "execution_count": 82,
   "metadata": {},
   "outputs": [],
   "source": [
    "df_data_min.to_pickle('./data/df_data_added_min.pkl')"
   ]
  },
  {
   "cell_type": "code",
   "execution_count": 83,
   "metadata": {},
   "outputs": [],
   "source": [
    "# df_data_min.info()"
   ]
  },
  {
   "cell_type": "code",
   "execution_count": 84,
   "metadata": {},
   "outputs": [],
   "source": [
    "df_data_min = pd.read_pickle('./data/df_data_added_min.pkl')"
   ]
  },
  {
   "cell_type": "code",
   "execution_count": null,
   "metadata": {},
   "outputs": [],
   "source": [
    "dd"
   ]
  }
 ],
 "metadata": {
  "kernelspec": {
   "display_name": "Python 3",
   "language": "python",
   "name": "python3"
  },
  "language_info": {
   "codemirror_mode": {
    "name": "ipython",
    "version": 3
   },
   "file_extension": ".py",
   "mimetype": "text/x-python",
   "name": "python",
   "nbconvert_exporter": "python",
   "pygments_lexer": "ipython3",
   "version": "3.7.3"
  }
 },
 "nbformat": 4,
 "nbformat_minor": 2
}
