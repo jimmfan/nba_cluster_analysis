{
 "cells": [
  {
   "cell_type": "code",
   "execution_count": 1,
   "metadata": {},
   "outputs": [
    {
     "data": {
      "text/html": [
       "<style>.container { width:95% !important; }</style>"
      ],
      "text/plain": [
       "<IPython.core.display.HTML object>"
      ]
     },
     "metadata": {},
     "output_type": "display_data"
    }
   ],
   "source": [
    "from IPython.core.display import display, HTML\n",
    "display(HTML(\"<style>.container { width:95% !important; }</style>\"))"
   ]
  },
  {
   "cell_type": "code",
   "execution_count": 2,
   "metadata": {},
   "outputs": [],
   "source": [
    "import plotly.graph_objs as go\n",
    "import plotly"
   ]
  },
  {
   "cell_type": "code",
   "execution_count": 3,
   "metadata": {},
   "outputs": [],
   "source": [
    "import pickle"
   ]
  },
  {
   "cell_type": "code",
   "execution_count": 4,
   "metadata": {},
   "outputs": [],
   "source": [
    "import numpy as np\n",
    "import pandas as pd\n",
    "\n",
    "from sklearn.decomposition import PCA\n",
    "\n",
    "from sklearn.metrics import accuracy_score, confusion_matrix\n",
    "from sklearn.model_selection import train_test_split\n",
    "from sklearn import svm\n",
    "\n",
    "from matplotlib import pyplot as plt\n",
    "%matplotlib inline"
   ]
  },
  {
   "cell_type": "code",
   "execution_count": 5,
   "metadata": {},
   "outputs": [],
   "source": [
    "from sklearn.cluster import DBSCAN, SpectralClustering, MeanShift\n",
    "from sklearn.preprocessing import StandardScaler\n",
    "import matplotlib.pyplot as plt\n",
    "import seaborn as sns\n",
    "import numpy as np\n",
    "from sklearn.cluster import KMeans\n",
    "\n",
    "plt.style.use(\"seaborn\")\n",
    "%matplotlib inline"
   ]
  },
  {
   "cell_type": "code",
   "execution_count": 6,
   "metadata": {},
   "outputs": [],
   "source": [
    "from scipy import stats"
   ]
  },
  {
   "cell_type": "code",
   "execution_count": null,
   "metadata": {},
   "outputs": [],
   "source": [
    "players_result_kmeans_pca  kmeans_pca  player_results_kmeans  k_means"
   ]
  },
  {
   "cell_type": "code",
   "execution_count": 39,
   "metadata": {},
   "outputs": [],
   "source": [
    "pcafeatures_X = pd.read_pickle('./results/kmeans_pca.pkl')"
   ]
  },
  {
   "cell_type": "code",
   "execution_count": 28,
   "metadata": {},
   "outputs": [],
   "source": [
    "clusters_kmeans_pca = pd.read_pickle('./results/players_result_kmeans_pca.pkl')"
   ]
  },
  {
   "cell_type": "code",
   "execution_count": 29,
   "metadata": {},
   "outputs": [],
   "source": [
    "color_dict = {0:'cyan', 1: 'dodgerblue' , 2: 'green', 3:'plum', 4:'red', 5: 'greenyellow', 6: 'hotpink', 7:'gold', 8:'lime', 9: 'lightcyan'}"
   ]
  },
  {
   "cell_type": "code",
   "execution_count": 30,
   "metadata": {},
   "outputs": [],
   "source": [
    "color_labels = [color_dict[i] for i in cluster_numbers_final]"
   ]
  },
  {
   "cell_type": "code",
   "execution_count": 31,
   "metadata": {},
   "outputs": [],
   "source": [
    "df_data_min = pd.read_pickle('/Users/james/metis/Projects/project4/data2/df_data_added_min.pkl')"
   ]
  },
  {
   "cell_type": "code",
   "execution_count": 32,
   "metadata": {},
   "outputs": [],
   "source": [
    "X = df_data_min.iloc[:, 6:].to_numpy()"
   ]
  },
  {
   "cell_type": "code",
   "execution_count": 33,
   "metadata": {},
   "outputs": [],
   "source": [
    "players_series = df_data_min.Player"
   ]
  },
  {
   "cell_type": "code",
   "execution_count": 34,
   "metadata": {},
   "outputs": [],
   "source": [
    "players_lst = players_series.to_list()"
   ]
  },
  {
   "cell_type": "code",
   "execution_count": 40,
   "metadata": {},
   "outputs": [
    {
     "data": {
      "text/plain": [
       "[5,\n",
       " 5,\n",
       " 5,\n",
       " 5,\n",
       " 2,\n",
       " 5,\n",
       " 4,\n",
       " 0,\n",
       " 4,\n",
       " 5,\n",
       " 5,\n",
       " 0,\n",
       " 9,\n",
       " 9,\n",
       " 9,\n",
       " 0,\n",
       " 5,\n",
       " 2,\n",
       " 9,\n",
       " 9,\n",
       " 2,\n",
       " 0,\n",
       " 8,\n",
       " 9,\n",
       " 0,\n",
       " 3,\n",
       " 2,\n",
       " 6,\n",
       " 5,\n",
       " 8,\n",
       " 8,\n",
       " 9,\n",
       " 0,\n",
       " 1,\n",
       " 1,\n",
       " 5,\n",
       " 3,\n",
       " 2,\n",
       " 3,\n",
       " 4,\n",
       " 5,\n",
       " 4,\n",
       " 2,\n",
       " 9,\n",
       " 9,\n",
       " 9,\n",
       " 7,\n",
       " 2,\n",
       " 1,\n",
       " 4,\n",
       " 7,\n",
       " 5,\n",
       " 4,\n",
       " 4,\n",
       " 7,\n",
       " 2,\n",
       " 4,\n",
       " 9,\n",
       " 1,\n",
       " 0,\n",
       " 2,\n",
       " 5,\n",
       " 1,\n",
       " 7,\n",
       " 4,\n",
       " 0,\n",
       " 8,\n",
       " 7,\n",
       " 5,\n",
       " 4,\n",
       " 8,\n",
       " 2,\n",
       " 9,\n",
       " 4,\n",
       " 5,\n",
       " 8,\n",
       " 4,\n",
       " 0,\n",
       " 5,\n",
       " 4,\n",
       " 7,\n",
       " 7,\n",
       " 7,\n",
       " 2,\n",
       " 4,\n",
       " 4,\n",
       " 1,\n",
       " 4,\n",
       " 9,\n",
       " 5,\n",
       " 8,\n",
       " 2,\n",
       " 2,\n",
       " 5,\n",
       " 6,\n",
       " 5,\n",
       " 2,\n",
       " 4,\n",
       " 5,\n",
       " 5,\n",
       " 2,\n",
       " 2,\n",
       " 5,\n",
       " 0,\n",
       " 2,\n",
       " 5,\n",
       " 2,\n",
       " 2,\n",
       " 6,\n",
       " 3,\n",
       " 8,\n",
       " 7,\n",
       " 6,\n",
       " 5,\n",
       " 5,\n",
       " 9,\n",
       " 2,\n",
       " 9,\n",
       " 9,\n",
       " 2,\n",
       " 7,\n",
       " 3,\n",
       " 2,\n",
       " 5,\n",
       " 3,\n",
       " 1,\n",
       " 7,\n",
       " 1,\n",
       " 8,\n",
       " 8,\n",
       " 8,\n",
       " 3,\n",
       " 4,\n",
       " 1,\n",
       " 7,\n",
       " 8,\n",
       " 1,\n",
       " 4,\n",
       " 4,\n",
       " 9,\n",
       " 1,\n",
       " 1,\n",
       " 2,\n",
       " 0,\n",
       " 7,\n",
       " 7,\n",
       " 7,\n",
       " 1,\n",
       " 2,\n",
       " 4,\n",
       " 3,\n",
       " 4,\n",
       " 2,\n",
       " 6,\n",
       " 1,\n",
       " 7,\n",
       " 9,\n",
       " 8,\n",
       " 4,\n",
       " 8,\n",
       " 7,\n",
       " 1,\n",
       " 7,\n",
       " 6,\n",
       " 4,\n",
       " 1,\n",
       " 2,\n",
       " 3,\n",
       " 5,\n",
       " 8,\n",
       " 5,\n",
       " 8,\n",
       " 2,\n",
       " 4,\n",
       " 4,\n",
       " 2,\n",
       " 1,\n",
       " 2,\n",
       " 2,\n",
       " 6,\n",
       " 5,\n",
       " 1,\n",
       " 2,\n",
       " 1,\n",
       " 5,\n",
       " 5,\n",
       " 6,\n",
       " 3,\n",
       " 5,\n",
       " 1,\n",
       " 2,\n",
       " 8,\n",
       " 3,\n",
       " 5,\n",
       " 8,\n",
       " 2,\n",
       " 8,\n",
       " 6,\n",
       " 7,\n",
       " 4,\n",
       " 6,\n",
       " 3,\n",
       " 6,\n",
       " 1,\n",
       " 5,\n",
       " 4,\n",
       " 7,\n",
       " 1,\n",
       " 6,\n",
       " 8,\n",
       " 4,\n",
       " 1,\n",
       " 8,\n",
       " 4,\n",
       " 0,\n",
       " 6,\n",
       " 6,\n",
       " 3,\n",
       " 1,\n",
       " 1,\n",
       " 7,\n",
       " 8,\n",
       " 5,\n",
       " 1,\n",
       " 4,\n",
       " 6,\n",
       " 4,\n",
       " 5,\n",
       " 7,\n",
       " 3,\n",
       " 6,\n",
       " 8,\n",
       " 7,\n",
       " 8,\n",
       " 6,\n",
       " 4,\n",
       " 4,\n",
       " 5,\n",
       " 6,\n",
       " 6,\n",
       " 5,\n",
       " 4,\n",
       " 8,\n",
       " 2,\n",
       " 4,\n",
       " 1,\n",
       " 4,\n",
       " 9,\n",
       " 7,\n",
       " 3,\n",
       " 2,\n",
       " 1,\n",
       " 2,\n",
       " 8,\n",
       " 1,\n",
       " 7,\n",
       " 9,\n",
       " 3,\n",
       " 3,\n",
       " 1,\n",
       " 1,\n",
       " 3,\n",
       " 3,\n",
       " 1,\n",
       " 5,\n",
       " 2,\n",
       " 2,\n",
       " 6,\n",
       " 2,\n",
       " 2,\n",
       " 1,\n",
       " 7]"
      ]
     },
     "execution_count": 40,
     "metadata": {},
     "output_type": "execute_result"
    }
   ],
   "source": [
    "pcafeatures_X"
   ]
  },
  {
   "cell_type": "code",
   "execution_count": 37,
   "metadata": {},
   "outputs": [
    {
     "ename": "AttributeError",
     "evalue": "'list' object has no attribute 'transpose'",
     "output_type": "error",
     "traceback": [
      "\u001b[0;31m---------------------------------------------------------------------------\u001b[0m",
      "\u001b[0;31mAttributeError\u001b[0m                            Traceback (most recent call last)",
      "\u001b[0;32m<ipython-input-37-2968f3988dda>\u001b[0m in \u001b[0;36m<module>\u001b[0;34m\u001b[0m\n\u001b[0;32m----> 1\u001b[0;31m \u001b[0mx\u001b[0m\u001b[0;34m,\u001b[0m \u001b[0my\u001b[0m\u001b[0;34m,\u001b[0m \u001b[0mz\u001b[0m \u001b[0;34m=\u001b[0m \u001b[0mpcafeatures_X\u001b[0m\u001b[0;34m.\u001b[0m\u001b[0mtranspose\u001b[0m\u001b[0;34m(\u001b[0m\u001b[0;34m)\u001b[0m\u001b[0;34m\u001b[0m\u001b[0;34m\u001b[0m\u001b[0m\n\u001b[0m\u001b[1;32m      2\u001b[0m \u001b[0;34m\u001b[0m\u001b[0m\n\u001b[1;32m      3\u001b[0m \u001b[0;34m\u001b[0m\u001b[0m\n\u001b[1;32m      4\u001b[0m trace1 = go.Scatter3d(\n\u001b[1;32m      5\u001b[0m     \u001b[0mhovertext\u001b[0m\u001b[0;34m=\u001b[0m\u001b[0mplayers_lst\u001b[0m\u001b[0;34m,\u001b[0m\u001b[0;34m\u001b[0m\u001b[0;34m\u001b[0m\u001b[0m\n",
      "\u001b[0;31mAttributeError\u001b[0m: 'list' object has no attribute 'transpose'"
     ]
    }
   ],
   "source": [
    "x, y, z = pcafeatures_X).transpose()\n",
    "\n",
    "\n",
    "trace1 = go.Scatter3d(\n",
    "    hovertext=players_lst,\n",
    "    ids=players_series,\n",
    "    legendgroup=None,\n",
    "    name=None,\n",
    "    opacity=0.8,\n",
    "    x=x,\n",
    "    y=y,\n",
    "    z=z,\n",
    "    mode='markers',\n",
    "    marker=dict(\n",
    "    color=color_labels,\n",
    "    line=dict(color='black', width=1)\n",
    "        ))\n",
    "data = [trace1]\n",
    "layout = go.Layout(\n",
    "    margin=dict(\n",
    "        l=0,\n",
    "        r=0,\n",
    "        b=0,\n",
    "        t=0\n",
    "    )\n",
    ")\n",
    "fig = go.Figure(data=data, layout=layout)\n",
    "plotly.offline.plot(fig)"
   ]
  },
  {
   "cell_type": "code",
   "execution_count": 18,
   "metadata": {},
   "outputs": [],
   "source": [
    "result1 = pd.read_pickle('./results/kmeans_final_result_hustle_deflect.pkl')"
   ]
  },
  {
   "cell_type": "code",
   "execution_count": 19,
   "metadata": {},
   "outputs": [],
   "source": [
    "df_data_min['W'] = pd.to_numeric(df_data_min['W'], errors=\"coerce\")"
   ]
  },
  {
   "cell_type": "code",
   "execution_count": 20,
   "metadata": {},
   "outputs": [],
   "source": [
    "group0, group1, group2, group3, group4, group5, group6, group7, group8, group9 = result1[0], result1[1], result1[2], result1[3], result1[4], result1[5], result1[6], result1[7], result1[8], result1[9]"
   ]
  },
  {
   "cell_type": "code",
   "execution_count": 25,
   "metadata": {},
   "outputs": [],
   "source": [
    "df_data_min = df_data_min.set_index('Player')"
   ]
  },
  {
   "cell_type": "code",
   "execution_count": 44,
   "metadata": {},
   "outputs": [],
   "source": [
    "df_data_group0, df_data_group1, df_data_group2, df_data_group3, df_data_group4, df_data_group5, df_data_group6, df_data_group7, df_data_group8, df_data_group9 = [df_data_min.loc[eval('group' + str(i))] for i in range(len(result1))]\n"
   ]
  },
  {
   "cell_type": "code",
   "execution_count": 28,
   "metadata": {},
   "outputs": [],
   "source": [
    "cols = df_data_group1.columns.to_list()[5:]"
   ]
  },
  {
   "cell_type": "code",
   "execution_count": 29,
   "metadata": {},
   "outputs": [],
   "source": [
    "group1_catch_shoot = df_data_group1['catch shoot'].to_numpy()"
   ]
  },
  {
   "cell_type": "code",
   "execution_count": 31,
   "metadata": {},
   "outputs": [],
   "source": [
    "groups_of_interest = [0, 2, 3, 7, 8]"
   ]
  },
  {
   "cell_type": "code",
   "execution_count": 32,
   "metadata": {},
   "outputs": [],
   "source": [
    "from matplotlib import pyplot"
   ]
  },
  {
   "cell_type": "code",
   "execution_count": 33,
   "metadata": {},
   "outputs": [],
   "source": [
    "def graph_groups(col_name, groups_to_include):\n",
    "    a4_dims = (11.7, 8.27)\n",
    "    fig, ax = pyplot.subplots(figsize=a4_dims)\n",
    "    graph_off_reb_AdjustedOREBChance = [sns.distplot(eval('df_data_group' + str(i))[col_name].to_numpy(), norm_hist=True, label= 'group' + str(i)) for i in groups_of_interest]\n",
    "    plt.legend()"
   ]
  },
  {
   "cell_type": "code",
   "execution_count": 34,
   "metadata": {},
   "outputs": [
    {
     "data": {
      "text/plain": [
       "['Paul George',\n",
       " 'Devin Booker',\n",
       " 'Kawhi Leonard',\n",
       " 'DeMar DeRozan',\n",
       " 'Russell Westbrook',\n",
       " 'Damian Lillard',\n",
       " 'Kyrie Irving',\n",
       " 'Kyle Lowry',\n",
       " 'Kevin Durant',\n",
       " 'LeBron James',\n",
       " 'James Harden',\n",
       " 'Luka Doncic',\n",
       " 'Chris Paul',\n",
       " 'Rajon Rondo',\n",
       " 'Spencer Dinwiddie',\n",
       " 'Jeff Teague',\n",
       " 'Lou Williams',\n",
       " 'Dwyane Wade',\n",
       " 'Jamal Crawford']"
      ]
     },
     "execution_count": 34,
     "metadata": {},
     "output_type": "execute_result"
    }
   ],
   "source": [
    "group0"
   ]
  },
  {
   "cell_type": "code",
   "execution_count": 35,
   "metadata": {},
   "outputs": [
    {
     "data": {
      "image/png": "[encoded data removed]",
      "text/plain": [
       "<Figure size 842.4x595.44 with 1 Axes>"
      ]
     },
     "metadata": {
      "needs_background": "light"
     },
     "output_type": "display_data"
    }
   ],
   "source": [
    "graph_catch_shoot = graph_groups('catch shoot', groups_of_interest)"
   ]
  },
  {
   "cell_type": "code",
   "execution_count": 36,
   "metadata": {},
   "outputs": [
    {
     "data": {
      "image/png": "[encoded data removed]",
      "text/plain": [
       "<Figure size 842.4x595.44 with 1 Axes>"
      ]
     },
     "metadata": {
      "needs_background": "light"
     },
     "output_type": "display_data"
    }
   ],
   "source": [
    "graph_offense_isolation_freg = graph_groups('offense iso', groups_of_interest)"
   ]
  },
  {
   "cell_type": "code",
   "execution_count": 37,
   "metadata": {},
   "outputs": [
    {
     "data": {
      "image/png": "[encoded data removed]",
      "text/plain": [
       "<Figure size 842.4x595.44 with 1 Axes>"
      ]
     },
     "metadata": {
      "needs_background": "light"
     },
     "output_type": "display_data"
    }
   ],
   "source": [
    "graph_touches_postups = graph_groups('Paint touches percent', groups_of_interest)"
   ]
  },
  {
   "cell_type": "code",
   "execution_count": 38,
   "metadata": {},
   "outputs": [
    {
     "data": {
      "image/png": "[encoded data removed]",
      "text/plain": [
       "<Figure size 842.4x595.44 with 1 Axes>"
      ]
     },
     "metadata": {
      "needs_background": "light"
     },
     "output_type": "display_data"
    }
   ],
   "source": [
    "graph_off_reb_adjchance = graph_groups('offensive rebounding adjchance', groups_of_interest)"
   ]
  },
  {
   "cell_type": "code",
   "execution_count": 42,
   "metadata": {},
   "outputs": [
    {
     "data": {
      "image/png": "[encoded data removed]",
      "text/plain": [
       "<Figure size 842.4x595.44 with 1 Axes>"
      ]
     },
     "metadata": {
      "needs_background": "light"
     },
     "output_type": "display_data"
    }
   ],
   "source": [
    "graph_wins = graph_groups('W', groups_of_interest)"
   ]
  },
  {
   "cell_type": "code",
   "execution_count": 106,
   "metadata": {},
   "outputs": [],
   "source": [
    "def group_describe(df, group_number):\n",
    "    df_return = df\n",
    "    df_return = df_return.iloc[:, 5:-1].describe().loc[\"mean\"].reset_index()\n",
    "    df_return = df_return.T\n",
    "    df_return = df_return.drop('index')\n",
    "    df_return.columns = cols[:-1]\n",
    "    df_return.index = ['group' + str(group_number)]\n",
    "    return df_return\n"
   ]
  },
  {
   "cell_type": "code",
   "execution_count": 107,
   "metadata": {},
   "outputs": [],
   "source": [
    "df_group0_describe = group_describe(df_data_group0, 0)\n",
    "df_group1_describe = group_describe(df_data_group1, 1)\n",
    "df_group2_describe = group_describe(df_data_group2, 2)\n",
    "df_group3_describe = group_describe(df_data_group3, 3)\n",
    "df_group4_describe = group_describe(df_data_group4, 4)\n",
    "df_group5_describe = group_describe(df_data_group5, 5)\n",
    "df_group6_describe = group_describe(df_data_group6, 6)\n",
    "df_group7_describe = group_describe(df_data_group7, 7)\n",
    "df_group8_describe = group_describe(df_data_group8, 8)\n",
    "df_group9_describe = group_describe(df_data_group9, 9)"
   ]
  },
  {
   "cell_type": "code",
   "execution_count": 109,
   "metadata": {},
   "outputs": [],
   "source": [
    "df_mean_groups = pd.concat([df_group0_describe, df_group1_describe, df_group2_describe, df_group3_describe, df_group4_describe, df_group5_describe, df_group6_describe, df_group7_describe, df_group8_describe, df_group9_describe])"
   ]
  },
  {
   "cell_type": "code",
   "execution_count": 110,
   "metadata": {},
   "outputs": [
    {
     "data": {
      "text/html": [
       "<div>\n",
       "<style scoped>\n",
       "    .dataframe tbody tr th:only-of-type {\n",
       "        vertical-align: middle;\n",
       "    }\n",
       "\n",
       "    .dataframe tbody tr th {\n",
       "        vertical-align: top;\n",
       "    }\n",
       "\n",
       "    .dataframe thead th {\n",
       "        text-align: right;\n",
       "    }\n",
       "</style>\n",
       "<table border=\"1\" class=\"dataframe\">\n",
       "  <thead>\n",
       "    <tr style=\"text-align: right;\">\n",
       "      <th></th>\n",
       "      <th>catch shoot</th>\n",
       "      <th>fastbreak</th>\n",
       "      <th>pullup shot percent</th>\n",
       "      <th>offense iso</th>\n",
       "      <th>offense ballhandler</th>\n",
       "      <th>offense rollman</th>\n",
       "      <th>offense postup</th>\n",
       "      <th>offense spotup shot</th>\n",
       "      <th>offense hand off</th>\n",
       "      <th>offense cut</th>\n",
       "      <th>...</th>\n",
       "      <th>Elbow touches percent</th>\n",
       "      <th>Postup touches percent</th>\n",
       "      <th>Paint touches percent</th>\n",
       "      <th>Average speed offense</th>\n",
       "      <th>Average speed defense</th>\n",
       "      <th>hustle Deflections</th>\n",
       "      <th>hustle Contested2PTShots</th>\n",
       "      <th>hustle Contested3PTShots</th>\n",
       "      <th>box_outs % Box Outs Off</th>\n",
       "      <th>box_outs % Box Outs Def</th>\n",
       "    </tr>\n",
       "  </thead>\n",
       "  <tbody>\n",
       "    <tr>\n",
       "      <th>group0</th>\n",
       "      <td>0.155492</td>\n",
       "      <td>16.0684</td>\n",
       "      <td>0.464023</td>\n",
       "      <td>16.4526</td>\n",
       "      <td>34.5</td>\n",
       "      <td>0.357895</td>\n",
       "      <td>3.98421</td>\n",
       "      <td>9.92632</td>\n",
       "      <td>4.64211</td>\n",
       "      <td>2.13684</td>\n",
       "      <td>...</td>\n",
       "      <td>1.54578</td>\n",
       "      <td>2.12307</td>\n",
       "      <td>1.95137</td>\n",
       "      <td>4.40421</td>\n",
       "      <td>3.53158</td>\n",
       "      <td>2.38947</td>\n",
       "      <td>3.04211</td>\n",
       "      <td>2.97895</td>\n",
       "      <td>6.01579</td>\n",
       "      <td>93.6737</td>\n",
       "    </tr>\n",
       "    <tr>\n",
       "      <th>group1</th>\n",
       "      <td>0.404876</td>\n",
       "      <td>8.775</td>\n",
       "      <td>0.0812232</td>\n",
       "      <td>1.58333</td>\n",
       "      <td>0</td>\n",
       "      <td>24.7833</td>\n",
       "      <td>11.7667</td>\n",
       "      <td>20.45</td>\n",
       "      <td>0.2</td>\n",
       "      <td>13.675</td>\n",
       "      <td>...</td>\n",
       "      <td>6.98259</td>\n",
       "      <td>4.79068</td>\n",
       "      <td>11.6668</td>\n",
       "      <td>4.36833</td>\n",
       "      <td>3.76</td>\n",
       "      <td>1.875</td>\n",
       "      <td>10.7083</td>\n",
       "      <td>3.29167</td>\n",
       "      <td>12.25</td>\n",
       "      <td>87.725</td>\n",
       "    </tr>\n",
       "    <tr>\n",
       "      <th>group2</th>\n",
       "      <td>0.457285</td>\n",
       "      <td>16.78</td>\n",
       "      <td>0.282801</td>\n",
       "      <td>2.505</td>\n",
       "      <td>14.44</td>\n",
       "      <td>0.5075</td>\n",
       "      <td>0.48</td>\n",
       "      <td>27.735</td>\n",
       "      <td>13.1825</td>\n",
       "      <td>4.005</td>\n",
       "      <td>...</td>\n",
       "      <td>1.64057</td>\n",
       "      <td>0.31246</td>\n",
       "      <td>2.23499</td>\n",
       "      <td>4.66025</td>\n",
       "      <td>3.93475</td>\n",
       "      <td>1.7675</td>\n",
       "      <td>3.68</td>\n",
       "      <td>3.3825</td>\n",
       "      <td>2.49</td>\n",
       "      <td>97.4875</td>\n",
       "    </tr>\n",
       "    <tr>\n",
       "      <th>group3</th>\n",
       "      <td>0.192936</td>\n",
       "      <td>12.0429</td>\n",
       "      <td>0.153207</td>\n",
       "      <td>7.69286</td>\n",
       "      <td>3.91429</td>\n",
       "      <td>9.49286</td>\n",
       "      <td>22.15</td>\n",
       "      <td>12.6214</td>\n",
       "      <td>0.735714</td>\n",
       "      <td>8.42143</td>\n",
       "      <td>...</td>\n",
       "      <td>5.34544</td>\n",
       "      <td>10.6118</td>\n",
       "      <td>10.0516</td>\n",
       "      <td>4.36571</td>\n",
       "      <td>3.75143</td>\n",
       "      <td>2.08571</td>\n",
       "      <td>7.9</td>\n",
       "      <td>3.87857</td>\n",
       "      <td>17.1929</td>\n",
       "      <td>82.7643</td>\n",
       "    </tr>\n",
       "    <tr>\n",
       "      <th>group4</th>\n",
       "      <td>0.399704</td>\n",
       "      <td>20.5912</td>\n",
       "      <td>0.124349</td>\n",
       "      <td>2.97941</td>\n",
       "      <td>5.81765</td>\n",
       "      <td>2.64412</td>\n",
       "      <td>2.31765</td>\n",
       "      <td>34.5412</td>\n",
       "      <td>3.47941</td>\n",
       "      <td>10.0029</td>\n",
       "      <td>...</td>\n",
       "      <td>2.1233</td>\n",
       "      <td>1.16312</td>\n",
       "      <td>6.3336</td>\n",
       "      <td>4.65382</td>\n",
       "      <td>4.06824</td>\n",
       "      <td>2.19118</td>\n",
       "      <td>5.64412</td>\n",
       "      <td>4.17647</td>\n",
       "      <td>10.4794</td>\n",
       "      <td>89.5235</td>\n",
       "    </tr>\n",
       "    <tr>\n",
       "      <th>group5</th>\n",
       "      <td>0.297432</td>\n",
       "      <td>18.3396</td>\n",
       "      <td>0.285287</td>\n",
       "      <td>7.92917</td>\n",
       "      <td>19.4</td>\n",
       "      <td>0.822917</td>\n",
       "      <td>3.8125</td>\n",
       "      <td>23.5521</td>\n",
       "      <td>6.17708</td>\n",
       "      <td>4.61458</td>\n",
       "      <td>...</td>\n",
       "      <td>1.57144</td>\n",
       "      <td>1.6083</td>\n",
       "      <td>3.25448</td>\n",
       "      <td>4.57146</td>\n",
       "      <td>3.90958</td>\n",
       "      <td>2.05</td>\n",
       "      <td>4.11042</td>\n",
       "      <td>3.78125</td>\n",
       "      <td>8.15417</td>\n",
       "      <td>91.8333</td>\n",
       "    </tr>\n",
       "    <tr>\n",
       "      <th>group6</th>\n",
       "      <td>0.176846</td>\n",
       "      <td>9.61</td>\n",
       "      <td>0.0493074</td>\n",
       "      <td>2.27</td>\n",
       "      <td>0.42</td>\n",
       "      <td>16.54</td>\n",
       "      <td>14.01</td>\n",
       "      <td>12.51</td>\n",
       "      <td>0.1</td>\n",
       "      <td>16.55</td>\n",
       "      <td>...</td>\n",
       "      <td>7.06239</td>\n",
       "      <td>5.33514</td>\n",
       "      <td>15.7083</td>\n",
       "      <td>4.365</td>\n",
       "      <td>3.889</td>\n",
       "      <td>2.06</td>\n",
       "      <td>8.83</td>\n",
       "      <td>3.8</td>\n",
       "      <td>27.71</td>\n",
       "      <td>72.21</td>\n",
       "    </tr>\n",
       "    <tr>\n",
       "      <th>group7</th>\n",
       "      <td>0.207441</td>\n",
       "      <td>16.9792</td>\n",
       "      <td>0.387824</td>\n",
       "      <td>7.51042</td>\n",
       "      <td>37.4625</td>\n",
       "      <td>0.0833333</td>\n",
       "      <td>0.447917</td>\n",
       "      <td>17.6583</td>\n",
       "      <td>6.60417</td>\n",
       "      <td>2.78542</td>\n",
       "      <td>...</td>\n",
       "      <td>0.826632</td>\n",
       "      <td>0.232339</td>\n",
       "      <td>1.46501</td>\n",
       "      <td>4.74625</td>\n",
       "      <td>3.92</td>\n",
       "      <td>2.15833</td>\n",
       "      <td>3.51875</td>\n",
       "      <td>3.69167</td>\n",
       "      <td>3.81667</td>\n",
       "      <td>95.9771</td>\n",
       "    </tr>\n",
       "    <tr>\n",
       "      <th>group8</th>\n",
       "      <td>0.546627</td>\n",
       "      <td>14.3048</td>\n",
       "      <td>0.127588</td>\n",
       "      <td>2.80476</td>\n",
       "      <td>2.53333</td>\n",
       "      <td>11.0762</td>\n",
       "      <td>5.94286</td>\n",
       "      <td>38.4571</td>\n",
       "      <td>2.20952</td>\n",
       "      <td>6.76667</td>\n",
       "      <td>...</td>\n",
       "      <td>2.51134</td>\n",
       "      <td>2.48439</td>\n",
       "      <td>4.45581</td>\n",
       "      <td>4.56048</td>\n",
       "      <td>3.7681</td>\n",
       "      <td>1.59524</td>\n",
       "      <td>7.12381</td>\n",
       "      <td>4.11905</td>\n",
       "      <td>7.89048</td>\n",
       "      <td>92.0667</td>\n",
       "    </tr>\n",
       "    <tr>\n",
       "      <th>group9</th>\n",
       "      <td>0.0988282</td>\n",
       "      <td>7.90769</td>\n",
       "      <td>0.0348149</td>\n",
       "      <td>1.52308</td>\n",
       "      <td>0.0653846</td>\n",
       "      <td>23.75</td>\n",
       "      <td>13.3615</td>\n",
       "      <td>4.78462</td>\n",
       "      <td>0</td>\n",
       "      <td>21.5462</td>\n",
       "      <td>...</td>\n",
       "      <td>10.157</td>\n",
       "      <td>5.9869</td>\n",
       "      <td>19.0203</td>\n",
       "      <td>4.43846</td>\n",
       "      <td>3.86231</td>\n",
       "      <td>1.73462</td>\n",
       "      <td>12.4769</td>\n",
       "      <td>3.08077</td>\n",
       "      <td>18</td>\n",
       "      <td>81.9769</td>\n",
       "    </tr>\n",
       "  </tbody>\n",
       "</table>\n",
       "<p>10 rows × 47 columns</p>\n",
       "</div>"
      ],
      "text/plain": [
       "       catch shoot fastbreak pullup shot percent offense iso  \\\n",
       "group0    0.155492   16.0684            0.464023     16.4526   \n",
       "group1    0.404876     8.775           0.0812232     1.58333   \n",
       "group2    0.457285     16.78            0.282801       2.505   \n",
       "group3    0.192936   12.0429            0.153207     7.69286   \n",
       "group4    0.399704   20.5912            0.124349     2.97941   \n",
       "group5    0.297432   18.3396            0.285287     7.92917   \n",
       "group6    0.176846      9.61           0.0493074        2.27   \n",
       "group7    0.207441   16.9792            0.387824     7.51042   \n",
       "group8    0.546627   14.3048            0.127588     2.80476   \n",
       "group9   0.0988282   7.90769           0.0348149     1.52308   \n",
       "\n",
       "       offense ballhandler offense rollman offense postup offense spotup shot  \\\n",
       "group0                34.5        0.357895        3.98421             9.92632   \n",
       "group1                   0         24.7833        11.7667               20.45   \n",
       "group2               14.44          0.5075           0.48              27.735   \n",
       "group3             3.91429         9.49286          22.15             12.6214   \n",
       "group4             5.81765         2.64412        2.31765             34.5412   \n",
       "group5                19.4        0.822917         3.8125             23.5521   \n",
       "group6                0.42           16.54          14.01               12.51   \n",
       "group7             37.4625       0.0833333       0.447917             17.6583   \n",
       "group8             2.53333         11.0762        5.94286             38.4571   \n",
       "group9           0.0653846           23.75        13.3615             4.78462   \n",
       "\n",
       "       offense hand off offense cut  ... Elbow touches percent  \\\n",
       "group0          4.64211     2.13684  ...               1.54578   \n",
       "group1              0.2      13.675  ...               6.98259   \n",
       "group2          13.1825       4.005  ...               1.64057   \n",
       "group3         0.735714     8.42143  ...               5.34544   \n",
       "group4          3.47941     10.0029  ...                2.1233   \n",
       "group5          6.17708     4.61458  ...               1.57144   \n",
       "group6              0.1       16.55  ...               7.06239   \n",
       "group7          6.60417     2.78542  ...              0.826632   \n",
       "group8          2.20952     6.76667  ...               2.51134   \n",
       "group9                0     21.5462  ...                10.157   \n",
       "\n",
       "       Postup touches percent Paint touches percent Average speed offense  \\\n",
       "group0                2.12307               1.95137               4.40421   \n",
       "group1                4.79068               11.6668               4.36833   \n",
       "group2                0.31246               2.23499               4.66025   \n",
       "group3                10.6118               10.0516               4.36571   \n",
       "group4                1.16312                6.3336               4.65382   \n",
       "group5                 1.6083               3.25448               4.57146   \n",
       "group6                5.33514               15.7083                 4.365   \n",
       "group7               0.232339               1.46501               4.74625   \n",
       "group8                2.48439               4.45581               4.56048   \n",
       "group9                 5.9869               19.0203               4.43846   \n",
       "\n",
       "       Average speed defense hustle Deflections hustle Contested2PTShots  \\\n",
       "group0               3.53158            2.38947                  3.04211   \n",
       "group1                  3.76              1.875                  10.7083   \n",
       "group2               3.93475             1.7675                     3.68   \n",
       "group3               3.75143            2.08571                      7.9   \n",
       "group4               4.06824            2.19118                  5.64412   \n",
       "group5               3.90958               2.05                  4.11042   \n",
       "group6                 3.889               2.06                     8.83   \n",
       "group7                  3.92            2.15833                  3.51875   \n",
       "group8                3.7681            1.59524                  7.12381   \n",
       "group9               3.86231            1.73462                  12.4769   \n",
       "\n",
       "       hustle Contested3PTShots box_outs % Box Outs Off  \\\n",
       "group0                  2.97895                 6.01579   \n",
       "group1                  3.29167                   12.25   \n",
       "group2                   3.3825                    2.49   \n",
       "group3                  3.87857                 17.1929   \n",
       "group4                  4.17647                 10.4794   \n",
       "group5                  3.78125                 8.15417   \n",
       "group6                      3.8                   27.71   \n",
       "group7                  3.69167                 3.81667   \n",
       "group8                  4.11905                 7.89048   \n",
       "group9                  3.08077                      18   \n",
       "\n",
       "       box_outs % Box Outs Def  \n",
       "group0                 93.6737  \n",
       "group1                  87.725  \n",
       "group2                 97.4875  \n",
       "group3                 82.7643  \n",
       "group4                 89.5235  \n",
       "group5                 91.8333  \n",
       "group6                   72.21  \n",
       "group7                 95.9771  \n",
       "group8                 92.0667  \n",
       "group9                 81.9769  \n",
       "\n",
       "[10 rows x 47 columns]"
      ]
     },
     "execution_count": 110,
     "metadata": {},
     "output_type": "execute_result"
    }
   ],
   "source": [
    "df_mean_groups"
   ]
  },
  {
   "cell_type": "code",
   "execution_count": 114,
   "metadata": {},
   "outputs": [],
   "source": [
    "rank_dict = {}\n",
    "for i, col in enumerate(df_mean_groups.columns.to_list()):\n",
    "    rank_dict[col] = [d for d in df_mean_groups[col].sort_values(ascending=False).index][0]"
   ]
  },
  {
   "cell_type": "code",
   "execution_count": 115,
   "metadata": {},
   "outputs": [],
   "source": [
    "rank_dict_lst = [[v,k] for k, v in rank_dict.items()]"
   ]
  },
  {
   "cell_type": "code",
   "execution_count": 121,
   "metadata": {},
   "outputs": [],
   "source": [
    "group0_decription = [l[1] for l in rank_dict_lst if l[0] == \"group0\"]\n",
    "group1_decription = [l[1] for l in rank_dict_lst if l[0] == \"group1\"]\n",
    "group2_decription = [l[1] for l in rank_dict_lst if l[0] == \"group2\"]\n",
    "group3_decription = [l[1] for l in rank_dict_lst if l[0] == \"group3\"]\n",
    "group4_decription = [l[1] for l in rank_dict_lst if l[0] == \"group4\"]\n",
    "group5_decription = [l[1] for l in rank_dict_lst if l[0] == \"group5\"]\n",
    "group6_decription = [l[1] for l in rank_dict_lst if l[0] == \"group6\"]\n",
    "group7_decription = [l[1] for l in rank_dict_lst if l[0] == \"group7\"]\n",
    "group8_decription = [l[1] for l in rank_dict_lst if l[0] == \"group8\"]\n",
    "group9_decription = [l[1] for l in rank_dict_lst if l[0] == \"group9\"]"
   ]
  },
  {
   "cell_type": "code",
   "execution_count": 122,
   "metadata": {},
   "outputs": [],
   "source": [
    "rank_dict_2nd = {}\n",
    "for i, col in enumerate(df_mean_groups.columns.to_list()):\n",
    "    rank_dict_2nd[col] = [d for d in df_mean_groups[col].sort_values(ascending=False).index][1]"
   ]
  },
  {
   "cell_type": "code",
   "execution_count": 124,
   "metadata": {},
   "outputs": [],
   "source": [
    "rank_2nd_lst = [[v,k] for k, v in rank_dict_2nd.items()]\n",
    "rank_2nd_lst.sort()"
   ]
  },
  {
   "cell_type": "code",
   "execution_count": 125,
   "metadata": {},
   "outputs": [],
   "source": [
    "group0_second_descr = [l[1] for l in rank_2nd_lst if l[0] == \"group0\"]\n",
    "group1_second_descr = [l[1] for l in rank_2nd_lst if l[0] == \"group1\"]\n",
    "group2_second_descr = [l[1] for l in rank_2nd_lst if l[0] == \"group2\"]\n",
    "group3_second_descr = [l[1] for l in rank_2nd_lst if l[0] == \"group3\"]\n",
    "group4_second_descr = [l[1] for l in rank_2nd_lst if l[0] == \"group4\"]\n",
    "group5_second_descr = [l[1] for l in rank_2nd_lst if l[0] == \"group5\"]\n",
    "group6_second_descr = [l[1] for l in rank_2nd_lst if l[0] == \"group6\"]\n",
    "group7_second_descr = [l[1] for l in rank_2nd_lst if l[0] == \"group7\"]\n",
    "group8_second_descr = [l[1] for l in rank_2nd_lst if l[0] == \"group8\"]\n",
    "group9_second_descr = [l[1] for l in rank_2nd_lst if l[0] == \"group9\"]"
   ]
  },
  {
   "cell_type": "code",
   "execution_count": 126,
   "metadata": {},
   "outputs": [
    {
     "data": {
      "text/plain": [
       "['defensive shot freq', 'defensive spotup freq', 'hustle Contested3PTShots']"
      ]
     },
     "execution_count": 126,
     "metadata": {},
     "output_type": "execute_result"
    }
   ],
   "source": [
    "group8_second_descr"
   ]
  },
  {
   "cell_type": "code",
   "execution_count": 127,
   "metadata": {},
   "outputs": [],
   "source": [
    "cluster_dictionary = {}"
   ]
  },
  {
   "cell_type": "code",
   "execution_count": 128,
   "metadata": {},
   "outputs": [],
   "source": [
    "cluster_dictionary['group0'] = {1: group0_decription, 2: group0_second_descr}"
   ]
  },
  {
   "cell_type": "code",
   "execution_count": 129,
   "metadata": {},
   "outputs": [],
   "source": [
    "cluster_dictionary['group1'] = {1: group1_decription, 2: group1_second_descr}"
   ]
  },
  {
   "cell_type": "code",
   "execution_count": 130,
   "metadata": {},
   "outputs": [],
   "source": [
    "cluster_dictionary['group2'] = {1: group2_decription, 2: group2_second_descr}"
   ]
  },
  {
   "cell_type": "code",
   "execution_count": 131,
   "metadata": {},
   "outputs": [],
   "source": [
    "cluster_dictionary['group3'] = {1: group3_decription, 2: group3_second_descr}"
   ]
  },
  {
   "cell_type": "code",
   "execution_count": 132,
   "metadata": {},
   "outputs": [],
   "source": [
    "cluster_dictionary['group4'] = {1: group4_decription, 2: group4_second_descr}"
   ]
  },
  {
   "cell_type": "code",
   "execution_count": 133,
   "metadata": {},
   "outputs": [],
   "source": [
    "cluster_dictionary['group5'] = {1: group5_decription, 2: group5_second_descr}"
   ]
  },
  {
   "cell_type": "code",
   "execution_count": 134,
   "metadata": {},
   "outputs": [],
   "source": [
    "cluster_dictionary['group6'] = {1: group6_decription, 2: group6_second_descr}"
   ]
  },
  {
   "cell_type": "code",
   "execution_count": 135,
   "metadata": {},
   "outputs": [],
   "source": [
    "cluster_dictionary['group7'] = {1: group7_decription, 2: group7_second_descr}"
   ]
  },
  {
   "cell_type": "code",
   "execution_count": 136,
   "metadata": {},
   "outputs": [],
   "source": [
    "cluster_dictionary['group8'] = {1: group8_decription, 2: group8_second_descr}"
   ]
  },
  {
   "cell_type": "code",
   "execution_count": 137,
   "metadata": {},
   "outputs": [],
   "source": [
    "cluster_dictionary['group9'] = {1: group9_decription, 2: group9_second_descr}"
   ]
  },
  {
   "cell_type": "code",
   "execution_count": 138,
   "metadata": {},
   "outputs": [
    {
     "data": {
      "text/plain": [
       "['Average Seconds Per Touch',\n",
       " 'assist to pass percent adj',\n",
       " 'defensive spotup freq',\n",
       " 'hustle Deflections',\n",
       " 'offense iso',\n",
       " 'open shot',\n",
       " 'pullup shot percent']"
      ]
     },
     "execution_count": 138,
     "metadata": {},
     "output_type": "execute_result"
    }
   ],
   "source": [
    "cluster_dictionary['group0'][1]\n",
    "# , cluster_dictionary['group0'][2]"
   ]
  },
  {
   "cell_type": "code",
   "execution_count": 139,
   "metadata": {},
   "outputs": [
    {
     "data": {
      "text/plain": [
       "['Paul George',\n",
       " 'Devin Booker',\n",
       " 'Kawhi Leonard',\n",
       " 'DeMar DeRozan',\n",
       " 'Russell Westbrook',\n",
       " 'Damian Lillard',\n",
       " 'Kyrie Irving',\n",
       " 'Kyle Lowry',\n",
       " 'Kevin Durant',\n",
       " 'LeBron James',\n",
       " 'James Harden',\n",
       " 'Luka Doncic',\n",
       " 'Chris Paul',\n",
       " 'Rajon Rondo',\n",
       " 'Spencer Dinwiddie',\n",
       " 'Jeff Teague',\n",
       " 'Lou Williams',\n",
       " 'Dwyane Wade',\n",
       " 'Jamal Crawford']"
      ]
     },
     "execution_count": 139,
     "metadata": {},
     "output_type": "execute_result"
    }
   ],
   "source": [
    "group0"
   ]
  },
  {
   "cell_type": "code",
   "execution_count": 140,
   "metadata": {},
   "outputs": [
    {
     "data": {
      "text/plain": [
       "(['offense rollman'],\n",
       " ['defensive offscreen shot freq',\n",
       "  'defensive postup freq',\n",
       "  'hustle Contested2PTShots'])"
      ]
     },
     "execution_count": 140,
     "metadata": {},
     "output_type": "execute_result"
    }
   ],
   "source": [
    "cluster_dictionary['group1'][1], cluster_dictionary['group1'][2]"
   ]
  },
  {
   "cell_type": "code",
   "execution_count": 141,
   "metadata": {},
   "outputs": [
    {
     "data": {
      "text/plain": [
       "['Nikola Vucevic',\n",
       " 'Myles Turner',\n",
       " 'Al Horford',\n",
       " 'Marc Gasol',\n",
       " 'Serge Ibaka',\n",
       " 'Dewayne Dedmon',\n",
       " 'Dwight Powell',\n",
       " 'Thomas Bryant',\n",
       " 'Alex Len',\n",
       " 'Markieff Morris',\n",
       " 'Ersan Ilyasova',\n",
       " 'Gorgui Dieng']"
      ]
     },
     "execution_count": 141,
     "metadata": {},
     "output_type": "execute_result"
    }
   ],
   "source": [
    "group1"
   ]
  },
  {
   "cell_type": "code",
   "execution_count": 142,
   "metadata": {},
   "outputs": [
    {
     "data": {
      "text/plain": [
       "'Primary ballhander/ballhog'"
      ]
     },
     "execution_count": 142,
     "metadata": {},
     "output_type": "execute_result"
    }
   ],
   "source": [
    "'Primary ballhander/ballhog'"
   ]
  },
  {
   "cell_type": "code",
   "execution_count": 143,
   "metadata": {},
   "outputs": [
    {
     "data": {
      "text/plain": [
       "['box_outs % Box Outs Def',\n",
       " 'defensive handoff freq',\n",
       " 'defensive isolation shot freq',\n",
       " 'defensive offscreen freq',\n",
       " 'offense hand off',\n",
       " 'offense offscreen',\n",
       " 'offensive rebounding distance']"
      ]
     },
     "execution_count": 143,
     "metadata": {},
     "output_type": "execute_result"
    }
   ],
   "source": [
    "cluster_dictionary['group2'][1]"
   ]
  },
  {
   "cell_type": "code",
   "execution_count": 144,
   "metadata": {},
   "outputs": [
    {
     "data": {
      "text/plain": [
       "'away from 3-point line, away from the basket'"
      ]
     },
     "execution_count": 144,
     "metadata": {},
     "output_type": "execute_result"
    }
   ],
   "source": [
    "'away from 3-point line, away from the basket'"
   ]
  },
  {
   "cell_type": "code",
   "execution_count": 145,
   "metadata": {},
   "outputs": [
    {
     "data": {
      "text/plain": [
       "(['Postup touches percent',\n",
       "  'defensive rebounding adjchance',\n",
       "  'offense postup'],\n",
       " [])"
      ]
     },
     "execution_count": 145,
     "metadata": {},
     "output_type": "execute_result"
    }
   ],
   "source": [
    "cluster_dictionary['group3'][1], cluster_dictionary['group3'][2]"
   ]
  },
  {
   "cell_type": "code",
   "execution_count": 146,
   "metadata": {},
   "outputs": [
    {
     "data": {
      "text/plain": [
       "['Ben Simmons',\n",
       " 'Giannis Antetokounmpo',\n",
       " 'Karl-Anthony Towns',\n",
       " 'LaMarcus Aldridge',\n",
       " 'Joel Embiid',\n",
       " 'Thaddeus Young',\n",
       " 'Blake Griffin',\n",
       " 'Anthony Davis',\n",
       " 'Nikola Jokic',\n",
       " 'Julius Randle',\n",
       " 'Marvin Bagley III',\n",
       " 'Jaren Jackson Jr.',\n",
       " 'Paul Millsap',\n",
       " 'Bobby Portis']"
      ]
     },
     "execution_count": 146,
     "metadata": {},
     "output_type": "execute_result"
    }
   ],
   "source": [
    "group3"
   ]
  },
  {
   "cell_type": "code",
   "execution_count": 147,
   "metadata": {
    "scrolled": true
   },
   "outputs": [
    {
     "data": {
      "text/plain": [
       "(['Average speed defense',\n",
       "  'defensive offscreen shot freq',\n",
       "  'defensive postup shot freq',\n",
       "  'defensive shot freq',\n",
       "  'fastbreak',\n",
       "  'hustle Contested3PTShots'],\n",
       " ['defensive isolation freq',\n",
       "  'defensive isolation shot freq',\n",
       "  'defensive spotup shot freq',\n",
       "  'hustle Deflections',\n",
       "  'offense spotup shot',\n",
       "  'wide open shot'])"
      ]
     },
     "execution_count": 147,
     "metadata": {},
     "output_type": "execute_result"
    }
   ],
   "source": [
    "cluster_dictionary['group4'][1], cluster_dictionary['group4'][2]"
   ]
  },
  {
   "cell_type": "code",
   "execution_count": 148,
   "metadata": {},
   "outputs": [
    {
     "data": {
      "text/plain": [
       "['Pascal Siakam',\n",
       " 'Lonzo Ball',\n",
       " 'Mikal Bridges',\n",
       " 'Danny Green',\n",
       " 'Kyle Anderson',\n",
       " 'Tomas Satoransky',\n",
       " 'Al-Farouq Aminu',\n",
       " 'Nikola Mirotic',\n",
       " 'Jonathan Isaac',\n",
       " 'Terrance Ferguson',\n",
       " 'Dorian Finney-Smith',\n",
       " 'Kenrich Williams',\n",
       " 'Josh Okogie',\n",
       " 'Maurice Harkless',\n",
       " 'Nemanja Bjelica',\n",
       " 'Wilson Chandler',\n",
       " 'Andre Iguodala',\n",
       " 'Rodions Kurucs',\n",
       " 'Miles Bridges',\n",
       " 'James Ennis III',\n",
       " 'Rondae Hollis-Jefferson',\n",
       " 'Pat Connaughton',\n",
       " \"Royce O'Neale\",\n",
       " 'OG Anunoby',\n",
       " 'Torrey Craig',\n",
       " 'Justin Jackson',\n",
       " 'James Johnson',\n",
       " 'Bruce Brown',\n",
       " 'Juancho Hernangomez',\n",
       " 'Jake Layman',\n",
       " 'Derrick Jones Jr.',\n",
       " 'Michael Kidd-Gilchrist',\n",
       " 'Wes Iwundu',\n",
       " 'Alfonzo McKinnie']"
      ]
     },
     "execution_count": 148,
     "metadata": {},
     "output_type": "execute_result"
    }
   ],
   "source": [
    "group4"
   ]
  },
  {
   "cell_type": "code",
   "execution_count": 149,
   "metadata": {},
   "outputs": [
    {
     "data": {
      "text/plain": [
       "([],\n",
       " ['defensive handoff freq',\n",
       "  'defensive offscreen freq',\n",
       "  'defensive postup shot freq',\n",
       "  'fastbreak',\n",
       "  'offense iso',\n",
       "  'offense offscreen'])"
      ]
     },
     "execution_count": 149,
     "metadata": {},
     "output_type": "execute_result"
    }
   ],
   "source": [
    "cluster_dictionary['group5'][1], cluster_dictionary['group5'][2]"
   ]
  },
  {
   "cell_type": "code",
   "execution_count": 150,
   "metadata": {},
   "outputs": [
    {
     "data": {
      "text/plain": [
       "(['box_outs % Box Outs Off',\n",
       "  'defensive ball_handler shot freq',\n",
       "  'defensive spotup shot freq',\n",
       "  'offense misc',\n",
       "  'offense platype misc',\n",
       "  'passes made over passes received percent'],\n",
       " ['Elbow touches percent',\n",
       "  'Paint touches percent',\n",
       "  'closely contested shot',\n",
       "  'contested shot',\n",
       "  'offense cut',\n",
       "  'offense postup',\n",
       "  'offensive rebounding adjchance'])"
      ]
     },
     "execution_count": 150,
     "metadata": {},
     "output_type": "execute_result"
    }
   ],
   "source": [
    "cluster_dictionary['group6'][1], cluster_dictionary['group6'][2]"
   ]
  },
  {
   "cell_type": "code",
   "execution_count": 151,
   "metadata": {},
   "outputs": [
    {
     "data": {
      "text/plain": [
       "['Andre Drummond',\n",
       " 'John Collins',\n",
       " 'DeAndre Jordan',\n",
       " 'Larry Nance Jr.',\n",
       " 'Noah Vonleh',\n",
       " 'Taj Gibson',\n",
       " 'JaMychal Green',\n",
       " 'Mason Plumlee',\n",
       " 'Mitchell Robinson',\n",
       " 'Zach Collins']"
      ]
     },
     "execution_count": 151,
     "metadata": {},
     "output_type": "execute_result"
    }
   ],
   "source": [
    "group6"
   ]
  },
  {
   "cell_type": "code",
   "execution_count": 152,
   "metadata": {
    "scrolled": false
   },
   "outputs": [
    {
     "data": {
      "text/plain": [
       "(['Average Dribbies Per Touch',\n",
       "  'Average speed offense',\n",
       "  'defensive ball_handler freq',\n",
       "  'defensive rebounding distance',\n",
       "  'offense ballhandler'],\n",
       " ['Average Seconds Per Touch',\n",
       "  'assist to pass percent adj',\n",
       "  'box_outs % Box Outs Def',\n",
       "  'offense hand off',\n",
       "  'offensive rebounding distance',\n",
       "  'pullup shot percent'])"
      ]
     },
     "execution_count": 152,
     "metadata": {},
     "output_type": "execute_result"
    }
   ],
   "source": [
    "cluster_dictionary['group7'][1], cluster_dictionary['group7'][2]"
   ]
  },
  {
   "cell_type": "code",
   "execution_count": 153,
   "metadata": {},
   "outputs": [
    {
     "data": {
      "text/plain": [
       "(['catch shoot',\n",
       "  'defensive isolation freq',\n",
       "  'defensive postup freq',\n",
       "  'offense spotup shot',\n",
       "  'wide open shot'],\n",
       " ['defensive shot freq', 'defensive spotup freq', 'hustle Contested3PTShots'])"
      ]
     },
     "execution_count": 153,
     "metadata": {},
     "output_type": "execute_result"
    }
   ],
   "source": [
    "cluster_dictionary['group8'][1], cluster_dictionary['group8'][2]"
   ]
  },
  {
   "cell_type": "code",
   "execution_count": 154,
   "metadata": {},
   "outputs": [
    {
     "data": {
      "text/plain": [
       "(['Elbow touches percent',\n",
       "  'Paint touches percent',\n",
       "  'closely contested shot',\n",
       "  'contested shot',\n",
       "  'hustle Contested2PTShots',\n",
       "  'offense cut',\n",
       "  'offensive rebounding adjchance'],\n",
       " ['Postup touches percent',\n",
       "  'box_outs % Box Outs Off',\n",
       "  'offense misc',\n",
       "  'offense platype misc',\n",
       "  'offense rollman',\n",
       "  'passes made over passes received percent'])"
      ]
     },
     "execution_count": 154,
     "metadata": {},
     "output_type": "execute_result"
    }
   ],
   "source": [
    "cluster_dictionary['group9'][1], cluster_dictionary['group9'][2]"
   ]
  },
  {
   "cell_type": "code",
   "execution_count": null,
   "metadata": {},
   "outputs": [],
   "source": []
  },
  {
   "cell_type": "code",
   "execution_count": null,
   "metadata": {},
   "outputs": [],
   "source": []
  },
  {
   "cell_type": "code",
   "execution_count": null,
   "metadata": {},
   "outputs": [],
   "source": []
  }
 ],
 "metadata": {
  "kernelspec": {
   "display_name": "Python 3",
   "language": "python",
   "name": "python3"
  },
  "language_info": {
   "codemirror_mode": {
    "name": "ipython",
    "version": 3
   },
   "file_extension": ".py",
   "mimetype": "text/x-python",
   "name": "python",
   "nbconvert_exporter": "python",
   "pygments_lexer": "ipython3",
   "version": "3.7.3"
  }
 },
 "nbformat": 4,
 "nbformat_minor": 2
}
